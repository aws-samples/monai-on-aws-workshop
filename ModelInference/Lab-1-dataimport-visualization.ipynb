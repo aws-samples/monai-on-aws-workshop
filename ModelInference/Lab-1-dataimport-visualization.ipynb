{
 "cells": [
  {
   "cell_type": "markdown",
   "id": "d41fb912-078d-48be-a1a9-6e13b09a3709",
   "metadata": {},
   "source": [
    "[![Licence](https://img.shields.io/badge/license-MIT-blue)](https://opensource.org/license/mit/)\n",
    "\n",
    "# MONAI on AWS Workshop\n",
    "\n",
    "Setup notebook environment using \"PyTorch 1.12 Python 3.8 CPU optimized\" Kernel with \"t3.medium\" instance type. \n",
    "\n",
    "<img src=\"../Figures/studio_setup_cpu.png\" width=\"600\">\n",
    "\n",
    "## Download and install libraries"
   ]
  },
  {
   "cell_type": "code",
   "execution_count": null,
   "id": "feba4f44-e93b-4556-b5c0-68aea2ff9a45",
   "metadata": {
    "tags": []
   },
   "outputs": [],
   "source": [
    "%env PIP_DISABLE_PIP_VERSION_CHECK True\n",
    "%env PIP_ROOT_USER_ACTION ignore\n",
    "\n",
    "!pip install -q --upgrade pip\n",
    "!pip install -q --upgrade boto3 botocore\n",
    "!pip install -q tqdm nibabel pydicom numpy pathlib2 pylibjpeg-openjpeg\n",
    "!pip install -q \"itk>=5.3rc4\" \"itkwidgets[all]>=1.0a23\"\n",
    "!pip install --upgrade -q AHItoDICOMInterface\n",
    "\n",
    "%load_ext autoreload\n",
    "%autoreload 2"
   ]
  },
  {
   "cell_type": "markdown",
   "id": "21bcd0d8-b22a-4cec-8ea1-7e12ffd2aea8",
   "metadata": {},
   "source": [
    "### Import Libraries and Setup Environments"
   ]
  },
  {
   "cell_type": "code",
   "execution_count": null,
   "id": "5d56f489-00e1-4f8d-8bff-363747e03d79",
   "metadata": {
    "tags": []
   },
   "outputs": [],
   "source": [
    "import json\n",
    "import logging \n",
    "import boto3\n",
    "import io\n",
    "import sys\n",
    "import time\n",
    "import os\n",
    "import pandas as pd\n",
    "import sagemaker\n",
    "from sagemaker import get_execution_role\n",
    "from botocore.exceptions import ClientError\n",
    "import warnings\n",
    "warnings.filterwarnings('ignore')\n",
    "logging.basicConfig( level=\"INFO\" )\n",
    "# logging.basicConfig( level=\"DEBUG\" )\n",
    "s3 = boto3.client('s3')\n",
    "\n",
    "account_id = boto3.client(\"sts\").get_caller_identity()[\"Account\"]\n",
    "session = sagemaker.session.Session()\n",
    "region = boto3.Session().region_name\n",
    "bucket = sagemaker.Session().default_bucket()\n",
    "role = f\"arn:aws:iam::{account_id}:role/HealthImagingImportJobRole\"  ## use this role if you have deployed the CloudFormation template described above\n",
    "# role = get_execution_role()                ## use this role if you want to use SageMaker Execution role to import image into AWS HealthImaging\n",
    "print(f\"S3 Bucket is {bucket}\")\n",
    "print(f\"IAM role for image import job is {role}\")\n",
    "\n",
    "suffix = int(time.time())\n",
    "ahi_input_prefix = f'monaideploy_tutorial_images_{suffix}/'\n",
    "ahi_output_prefix = f'monaideploy_tutorial_importjobs_{suffix}/'\n",
    "dicom_header_prefix = f'tutorial_dicom_headers_{suffix}/'\n",
    "\n",
    "print(f\"S3 prefix for input images is {ahi_input_prefix}\")\n",
    "print(f\"S3 prefix for import job outputs is {ahi_output_prefix}\")"
   ]
  },
  {
   "cell_type": "markdown",
   "id": "67e9ba42-03db-4a48-80ea-9246551c56c5",
   "metadata": {},
   "source": [
    "### Create S3 Bucket and IAM policy for HealthLake Imaging Import job (Optional)\n",
    "\n",
    "If you did not deploy the CloudFormation template available in Pre-requisites, you can run through the following cell to create necessary IAM role for AWS HealthImaging import job. Please make sure your SageMaker execution role has permission to do this"
   ]
  },
  {
   "cell_type": "code",
   "execution_count": null,
   "id": "0eb5bb1f-c707-40eb-a7f9-1279027ad7c8",
   "metadata": {
    "tags": []
   },
   "outputs": [],
   "source": [
    "assume_role_policy_document = json.dumps({\n",
    "    \"Version\": \"2012-10-17\",\n",
    "    \"Statement\": [\n",
    "        {\n",
    "            \"Effect\": \"Allow\",\n",
    "            \"Principal\": {\n",
    "                \"Service\": [\n",
    "                    \"medical-imaging.amazonaws.com\"\n",
    "                ]\n",
    "            },\n",
    "            \"Action\": \"sts:AssumeRole\"\n",
    "        }\n",
    "    ]\n",
    "})\n",
    "\n",
    "import_policy_document = json.dumps({\n",
    "    \"Version\": \"2012-10-17\",\n",
    "    \"Statement\": [\n",
    "        {\n",
    "            \"Action\": [\n",
    "                \"s3:ListBucket\",\n",
    "                \"s3:GetEncryptionConfiguration\"\n",
    "            ],\n",
    "            \"Resource\": [\n",
    "                \"arn:aws:s3:::{}\".format(InputBucketName),\n",
    "                \"arn:aws:s3:::{}\".format(OutputBucketName)\n",
    "            ],\n",
    "            \"Effect\": \"Allow\"\n",
    "        },\n",
    "        {\n",
    "            \"Action\": [\n",
    "                \"s3:ListBucket\",\n",
    "                \"s3:GetEncryptionConfiguration\"\n",
    "            ],\n",
    "            \"Resource\": [\n",
    "                \"arn:aws:s3:::{}\".format(InputBucketName),\n",
    "                \"arn:aws:s3:::{}\".format(OutputBucketName)\n",
    "            ],\n",
    "            \"Effect\": \"Allow\"\n",
    "        },\n",
    "        {\n",
    "            \"Action\": [\n",
    "                \"s3:GetObject\"\n",
    "            ],\n",
    "            \"Resource\": [\n",
    "                \"arn:aws:s3:::{}/*\".format(InputBucketName)\n",
    "            ],\n",
    "            \"Effect\": \"Allow\"\n",
    "        },\n",
    "        {\n",
    "            \"Action\": [\n",
    "                \"s3:PutObject\"\n",
    "            ],\n",
    "            \"Resource\": [\n",
    "                \"arn:aws:s3:::{}/*\".format(OutputBucketName)\n",
    "            ],\n",
    "            \"Effect\": \"Allow\"\n",
    "        },\n",
    "        {\n",
    "            \"Action\": [\n",
    "                \"medical-imaging:CreateDatastore\",\n",
    "                \"medical-imaging:GetDatastore\",\n",
    "                \"medical-imaging:ListDatastores\",\n",
    "                \"medical-imaging:UpdateDatastore\",\n",
    "                \"medical-imaging:StartDICOMImportJob\",\n",
    "                \"medical-imaging:GetDICOMImportJob\",\n",
    "                \"medical-imaging:UpdateDICOMImportJob\",\n",
    "                \"medical-imaging:GetDICOMStudyMetdata\",\n",
    "                \"medical-imaging:GetImageFrame\"\n",
    "            ],\n",
    "            \"Resource\": \"*\",\n",
    "            \"Effect\": \"Allow\"\n",
    "        }\n",
    "    ]\n",
    "})\n",
    "\n",
    "try:\n",
    "    respons_createpolicy = iam.get_policy(PolicyArn=f\"arn:aws:iam::{account_id}:policy/HealthImagingImportJobRole-Policy\")\n",
    "except:\n",
    "    respons_createpolicy = iam.create_policy(\n",
    "         PolicyName='HealthImagingImportJobRole-Policy',\n",
    "         PolicyDocument=import_policy_document,\n",
    "     )\n",
    "try:\n",
    "    response_createrole=iam.get_role(RoleName='HealthImagingImportJobRole')\n",
    "except:\n",
    "    response_createrole = iam.create_role(\n",
    "         RoleName='HealthImagingImportJobRole',\n",
    "         AssumeRolePolicyDocument=assume_role_policy_document\n",
    "     )\n",
    "    response = iam.attach_role_policy(\n",
    "         RoleName=response_createrole['Role']['RoleName'],\n",
    "         PolicyArn=respons_createpolicy['Policy']['Arn']\n",
    "    )\n",
    "print(response_createrole['Role']['Arn'])\n",
    "print(respons_createpolicy['Policy']['Arn'])"
   ]
  },
  {
   "cell_type": "markdown",
   "id": "df418fa6-91a7-42e6-bb00-56b949db85bb",
   "metadata": {},
   "source": [
    "### Download AI Spleen Segmentation Dataset"
   ]
  },
  {
   "cell_type": "code",
   "execution_count": null,
   "id": "e042d4ba-c71f-41c2-8513-4871fe4c02bf",
   "metadata": {
    "tags": []
   },
   "outputs": [],
   "source": [
    "import os\n",
    "if not os.path.exists('dcm'):\n",
    "    # Download ai_spleen_bundle_data test data zip file\n",
    "    !pip install gdown \n",
    "    !gdown \"https://drive.google.com/uc?id=1Uds8mEvdGNYUuvFpTtCQ8gNU97bAPCaQ\"\n",
    "\n",
    "    # After downloading ai_spleen_bundle_data zip file from the web browser or using gdown,\n",
    "    !unzip -o \"ai_spleen_seg_bundle_data.zip\"\n",
    "    \n",
    "for f in os.listdir('dcm'):\n",
    "    s3.upload_file('dcm/'+f, bucket, ahi_input_prefix + f)"
   ]
  },
  {
   "cell_type": "markdown",
   "id": "ec3ec996-1320-4e2b-a081-9c70d3cce192",
   "metadata": {},
   "source": [
    "## Define Python Client for AWS HealthImaging"
   ]
  },
  {
   "cell_type": "code",
   "execution_count": null,
   "id": "cf02063c-3c0f-4676-a4f7-7d9a21f6d764",
   "metadata": {
    "tags": []
   },
   "outputs": [],
   "source": [
    "class MedicalImaging: \n",
    "    def __init__(self, client):\n",
    "        self.client = client\n",
    "    \n",
    "    def stopwatch(self, start_time, end_time):\n",
    "        time_lapsed = end_time - start_time\n",
    "        return time_lapsed*1000 \n",
    "\n",
    "    def listDatastores(self):\n",
    "        start_time = time.time()\n",
    "        response = self.client.list_datastores()\n",
    "        end_time = time.time()\n",
    "        logging.info(f\"List Datastores  : {self.stopwatch(start_time,end_time)} ms\")        \n",
    "        return response\n",
    "    \n",
    "    def createDatastore(self, datastoreName):\n",
    "        start_time = time.time()\n",
    "        response = self.client.create_datastore(datastoreName=datastoreName)\n",
    "        end_time = time.time()\n",
    "        logging.info(f\"Create Datastore  : {self.stopwatch(start_time,end_time)} ms\")        \n",
    "        return response\n",
    "    \n",
    "    def getDatastore(self, datastoreId):\n",
    "        start_time = time.time()\n",
    "        response = self.client.get_datastore(datastoreId=datastoreId)\n",
    "        end_time = time.time()\n",
    "        logging.info(f\"Get Datastore  : {self.stopwatch(start_time,end_time)} ms\")        \n",
    "        return response\n",
    "    \n",
    "    def deleteDatastore(self, datastoreId):\n",
    "        start_time = time.time()\n",
    "        response = self.client.delete_datastore(datastoreId=datastoreId)\n",
    "        end_time = time.time()\n",
    "        logging.info(f\"Delete Datastore  : {self.stopwatch(start_time,end_time)} ms\")        \n",
    "        return response\n",
    "    \n",
    "    def startImportJob(self, datastoreId, IamRoleArn, inputS3, outputS3):\n",
    "        start_time = time.time()\n",
    "        response = self.client.start_dicom_import_job(\n",
    "            datastoreId=datastoreId,\n",
    "            dataAccessRoleArn = IamRoleArn,\n",
    "            inputS3Uri = inputS3,\n",
    "            outputS3Uri = outputS3,\n",
    "            clientToken = \"demoClient\"\n",
    "        )\n",
    "        end_time = time.time()\n",
    "        logging.info(f\"Start Import Job  : {self.stopwatch(start_time,end_time)} ms\")        \n",
    "        return response\n",
    "    \n",
    "    def getImportJob(self, datastoreId, jobId):\n",
    "        start_time = time.time()\n",
    "        response = self.client.get_dicom_import_job(datastoreId=datastoreId, jobId=jobId)\n",
    "        end_time = time.time()\n",
    "        logging.info(f\"Get Import Job  : {self.stopwatch(start_time,end_time)} ms\")        \n",
    "        return response\n",
    "\n",
    "    def getMetadata(self, datastoreId, imageSetId):\n",
    "        start_time = time.time()\n",
    "        dicom_study_metadata = self.client.get_image_set_metadata(datastoreId=datastoreId , imageSetId=imageSetId )\n",
    "        json_study_metadata = json.loads( gzip.decompress(dicom_study_metadata[\"imageSetMetadataBlob\"].read()) )\n",
    "        end_time = time.time()\n",
    "        logging.info(f\"Metadata fetch  : {self.stopwatch(start_time,end_time)} ms\")   \n",
    "        return json_study_metadata"
   ]
  },
  {
   "cell_type": "markdown",
   "id": "a51655e4-654c-4bdf-b232-d057296ae3ae",
   "metadata": {},
   "source": [
    "### Create HealthLake Imaging Datastore if not Exists"
   ]
  },
  {
   "cell_type": "code",
   "execution_count": null,
   "id": "6e538175-4217-4f19-89b3-b7de98bcfebd",
   "metadata": {
    "tags": []
   },
   "outputs": [],
   "source": [
    "medicalimaging = MedicalImaging( boto3.client('medical-imaging') )\n",
    "DatastoreName = \"AISpleenDataStore\"\n",
    "datastoreList = medicalimaging.listDatastores()\n",
    "\n",
    "res_createstore = None\n",
    "for datastore in datastoreList[\"datastoreSummaries\"]:\n",
    "    if datastore[\"datastoreName\"] == DatastoreName:\n",
    "        res_createstore = datastore\n",
    "        break\n",
    "if res_createstore is None:        \n",
    "    res_createstore = medicalimaging.createDatastore(DatastoreName)\n",
    "\n",
    "datastoreId = res_createstore['datastoreId']\n",
    "res_getstore = medicalimaging.getDatastore(res_createstore['datastoreId'])    \n",
    "status = res_getstore['datastoreProperties']['datastoreStatus']\n",
    "while status!='ACTIVE':\n",
    "    time.sleep(10)\n",
    "    res_getstore = medicalimaging.getDatastore(res_createstore['datastoreId'])    \n",
    "    status = res_getstore['datastoreProperties']['datastoreStatus']\n",
    "    print(status)\n",
    "print(f\"datastoreId: {datastoreId}; status: {status}\")"
   ]
  },
  {
   "cell_type": "markdown",
   "id": "af7bda77-156d-430c-854b-5fecfd0bde1b",
   "metadata": {},
   "source": [
    "### Import data into HealthLake Imaging "
   ]
  },
  {
   "cell_type": "code",
   "execution_count": null,
   "id": "3ab29d04-3225-4bd5-8a5e-8186728e51fb",
   "metadata": {
    "tags": []
   },
   "outputs": [],
   "source": [
    "res_startimportjob = medicalimaging.startImportJob(\n",
    "    res_createstore['datastoreId'],\n",
    "    role,\n",
    "    f\"s3://{bucket}/{ahi_input_prefix}\", \n",
    "    f\"s3://{bucket}/{ahi_output_prefix}\"\n",
    ")\n",
    "\n",
    "jobId = res_startimportjob['jobId']\n",
    "jobstatus = medicalimaging.getImportJob(datastoreId, jobId)['jobProperties']['jobStatus']\n",
    "while jobstatus not in ['COMPLETED', 'FAILED']:\n",
    "    time.sleep(30)\n",
    "    jobstatus = medicalimaging.getImportJob(datastoreId, jobId)['jobProperties']['jobStatus']\n",
    "print(f\"jobstatus is {jobstatus}\")"
   ]
  },
  {
   "cell_type": "markdown",
   "id": "cac97d44-dd20-4727-9386-a54786a93a02",
   "metadata": {},
   "source": [
    "### Retrieve ImageSet IDs in Output Bucket"
   ]
  },
  {
   "cell_type": "code",
   "execution_count": null,
   "id": "77110d2c-e659-47f5-961b-b8141dc84f70",
   "metadata": {
    "tags": []
   },
   "outputs": [],
   "source": [
    "imageSetIds = {}\n",
    "try:\n",
    "    response = s3.head_object(Bucket=bucket, Key=f\"{ahi_output_prefix}{datastoreId}-DicomImport-{jobId}/job-output-manifest.json\")\n",
    "    if response['ResponseMetadata']['HTTPStatusCode'] == 200:\n",
    "        data = s3.get_object(Bucket=bucket, Key=f\"{ahi_output_prefix}{datastoreId}-DicomImport-{jobId}/SUCCESS/success.ndjson\")\n",
    "        contents = data['Body'].read().decode(\"utf-8\")\n",
    "        for l in contents.splitlines():\n",
    "            isid = json.loads(l)['importResponse']['imageSetId']\n",
    "            if isid in imageSetIds:\n",
    "                imageSetIds[isid]+=1\n",
    "            else:\n",
    "                imageSetIds[isid]=1\n",
    "except ClientError:\n",
    "    pass\n",
    "\n",
    "imageSetIds"
   ]
  },
  {
   "cell_type": "markdown",
   "id": "ad5b93e7-14c8-4fff-ab60-ded874d4e097",
   "metadata": {},
   "source": [
    "## Image Visualization "
   ]
  },
  {
   "cell_type": "code",
   "execution_count": null,
   "id": "f04cc861-4aad-4e36-bebb-df58eaa8b617",
   "metadata": {
    "tags": []
   },
   "outputs": [],
   "source": [
    "import itk\n",
    "from itkwidgets import view\n",
    "logging.getLogger('AHItoDICOMInterface').setLevel(logging.CRITICAL)\n",
    "import warnings\n",
    "warnings.filterwarnings('ignore')\n",
    "\n",
    "from AHItoDICOMInterface.AHItoDICOM import AHItoDICOM\n",
    "helper = AHItoDICOM()\n",
    "instances = helper.DICOMizeImageSet(datastore_id=datastoreId , image_set_id=next(iter(imageSetIds)))"
   ]
  },
  {
   "cell_type": "code",
   "execution_count": null,
   "id": "de97c284-0f26-43a3-baa4-dc80eee0dd2b",
   "metadata": {
    "tags": []
   },
   "outputs": [],
   "source": [
    "img = itk.image_view_from_array([ins.pixel_array for ins in instances])\n",
    "viewer = view(img)\n",
    "viewer.set_image_gradient_opacity(0.5)"
   ]
  },
  {
   "cell_type": "code",
   "execution_count": null,
   "id": "7e2f12be-5760-4a64-b62b-b377b251b0e4",
   "metadata": {
    "tags": []
   },
   "outputs": [],
   "source": [
    "%store datastoreId\n",
    "%store imageSetIds"
   ]
  },
  {
   "cell_type": "markdown",
   "id": "08780a51-4abd-4b0a-8fd4-040ecfadfe69",
   "metadata": {},
   "source": [
    "### Clean Up"
   ]
  },
  {
   "cell_type": "code",
   "execution_count": null,
   "id": "8a2c80d7-1978-4d95-9783-6c808c17e632",
   "metadata": {},
   "outputs": [],
   "source": [
    "## S3 bucket\n",
    "s3 = boto3.client('s3')\n",
    "try:\n",
    "    objects=s3.list_objects(Bucket=bucket, Prefix=dicom_header_prefix)\n",
    "    for object in objects['Contents']:\n",
    "        s3.delete_object(Bucket=bucket, Key=object['Key'])\n",
    "    s3.delete_object(Bucket=bucket, Key=dicom_header_prefix)\n",
    "    objects=s3.list_objects(Bucket=bucket, Prefix=ahi_input_prefix)\n",
    "    for object in objects['Contents']:\n",
    "        s3.delete_object(Bucket=bucket, Key=object['Key'])\n",
    "    s3.delete_object(Bucket=bucket, Key=ahi_input_prefix)\n",
    "    objects=s3.list_objects(Bucket=bucket, Prefix=ahi_output_prefix)\n",
    "    for object in objects['Contents']:\n",
    "        s3.delete_object(Bucket=bucket, Key=object['Key'])\n",
    "    s3.delete_object(Bucket=bucket, Key=ahi_output_prefix)\n",
    "except ClientError  as e:\n",
    "    logging.error(\n",
    "        \"Couldn't delete S3 folder %s. Here's why: %s: %s\", name, err.response['Error']['Code'], err.response['Error']['Message'])\n",
    "    raise\n"
   ]
  },
  {
   "cell_type": "code",
   "execution_count": null,
   "id": "ea376104-dcff-4262-abf2-7fdb450e411b",
   "metadata": {},
   "outputs": [],
   "source": []
  }
 ],
 "metadata": {
  "availableInstances": [
   {
    "_defaultOrder": 0,
    "_isFastLaunch": true,
    "category": "General purpose",
    "gpuNum": 0,
    "hideHardwareSpecs": false,
    "memoryGiB": 4,
    "name": "ml.t3.medium",
    "vcpuNum": 2
   },
   {
    "_defaultOrder": 1,
    "_isFastLaunch": false,
    "category": "General purpose",
    "gpuNum": 0,
    "hideHardwareSpecs": false,
    "memoryGiB": 8,
    "name": "ml.t3.large",
    "vcpuNum": 2
   },
   {
    "_defaultOrder": 2,
    "_isFastLaunch": false,
    "category": "General purpose",
    "gpuNum": 0,
    "hideHardwareSpecs": false,
    "memoryGiB": 16,
    "name": "ml.t3.xlarge",
    "vcpuNum": 4
   },
   {
    "_defaultOrder": 3,
    "_isFastLaunch": false,
    "category": "General purpose",
    "gpuNum": 0,
    "hideHardwareSpecs": false,
    "memoryGiB": 32,
    "name": "ml.t3.2xlarge",
    "vcpuNum": 8
   },
   {
    "_defaultOrder": 4,
    "_isFastLaunch": true,
    "category": "General purpose",
    "gpuNum": 0,
    "hideHardwareSpecs": false,
    "memoryGiB": 8,
    "name": "ml.m5.large",
    "vcpuNum": 2
   },
   {
    "_defaultOrder": 5,
    "_isFastLaunch": false,
    "category": "General purpose",
    "gpuNum": 0,
    "hideHardwareSpecs": false,
    "memoryGiB": 16,
    "name": "ml.m5.xlarge",
    "vcpuNum": 4
   },
   {
    "_defaultOrder": 6,
    "_isFastLaunch": false,
    "category": "General purpose",
    "gpuNum": 0,
    "hideHardwareSpecs": false,
    "memoryGiB": 32,
    "name": "ml.m5.2xlarge",
    "vcpuNum": 8
   },
   {
    "_defaultOrder": 7,
    "_isFastLaunch": false,
    "category": "General purpose",
    "gpuNum": 0,
    "hideHardwareSpecs": false,
    "memoryGiB": 64,
    "name": "ml.m5.4xlarge",
    "vcpuNum": 16
   },
   {
    "_defaultOrder": 8,
    "_isFastLaunch": false,
    "category": "General purpose",
    "gpuNum": 0,
    "hideHardwareSpecs": false,
    "memoryGiB": 128,
    "name": "ml.m5.8xlarge",
    "vcpuNum": 32
   },
   {
    "_defaultOrder": 9,
    "_isFastLaunch": false,
    "category": "General purpose",
    "gpuNum": 0,
    "hideHardwareSpecs": false,
    "memoryGiB": 192,
    "name": "ml.m5.12xlarge",
    "vcpuNum": 48
   },
   {
    "_defaultOrder": 10,
    "_isFastLaunch": false,
    "category": "General purpose",
    "gpuNum": 0,
    "hideHardwareSpecs": false,
    "memoryGiB": 256,
    "name": "ml.m5.16xlarge",
    "vcpuNum": 64
   },
   {
    "_defaultOrder": 11,
    "_isFastLaunch": false,
    "category": "General purpose",
    "gpuNum": 0,
    "hideHardwareSpecs": false,
    "memoryGiB": 384,
    "name": "ml.m5.24xlarge",
    "vcpuNum": 96
   },
   {
    "_defaultOrder": 12,
    "_isFastLaunch": false,
    "category": "General purpose",
    "gpuNum": 0,
    "hideHardwareSpecs": false,
    "memoryGiB": 8,
    "name": "ml.m5d.large",
    "vcpuNum": 2
   },
   {
    "_defaultOrder": 13,
    "_isFastLaunch": false,
    "category": "General purpose",
    "gpuNum": 0,
    "hideHardwareSpecs": false,
    "memoryGiB": 16,
    "name": "ml.m5d.xlarge",
    "vcpuNum": 4
   },
   {
    "_defaultOrder": 14,
    "_isFastLaunch": false,
    "category": "General purpose",
    "gpuNum": 0,
    "hideHardwareSpecs": false,
    "memoryGiB": 32,
    "name": "ml.m5d.2xlarge",
    "vcpuNum": 8
   },
   {
    "_defaultOrder": 15,
    "_isFastLaunch": false,
    "category": "General purpose",
    "gpuNum": 0,
    "hideHardwareSpecs": false,
    "memoryGiB": 64,
    "name": "ml.m5d.4xlarge",
    "vcpuNum": 16
   },
   {
    "_defaultOrder": 16,
    "_isFastLaunch": false,
    "category": "General purpose",
    "gpuNum": 0,
    "hideHardwareSpecs": false,
    "memoryGiB": 128,
    "name": "ml.m5d.8xlarge",
    "vcpuNum": 32
   },
   {
    "_defaultOrder": 17,
    "_isFastLaunch": false,
    "category": "General purpose",
    "gpuNum": 0,
    "hideHardwareSpecs": false,
    "memoryGiB": 192,
    "name": "ml.m5d.12xlarge",
    "vcpuNum": 48
   },
   {
    "_defaultOrder": 18,
    "_isFastLaunch": false,
    "category": "General purpose",
    "gpuNum": 0,
    "hideHardwareSpecs": false,
    "memoryGiB": 256,
    "name": "ml.m5d.16xlarge",
    "vcpuNum": 64
   },
   {
    "_defaultOrder": 19,
    "_isFastLaunch": false,
    "category": "General purpose",
    "gpuNum": 0,
    "hideHardwareSpecs": false,
    "memoryGiB": 384,
    "name": "ml.m5d.24xlarge",
    "vcpuNum": 96
   },
   {
    "_defaultOrder": 20,
    "_isFastLaunch": false,
    "category": "General purpose",
    "gpuNum": 0,
    "hideHardwareSpecs": true,
    "memoryGiB": 0,
    "name": "ml.geospatial.interactive",
    "supportedImageNames": [
     "sagemaker-geospatial-v1-0"
    ],
    "vcpuNum": 0
   },
   {
    "_defaultOrder": 21,
    "_isFastLaunch": true,
    "category": "Compute optimized",
    "gpuNum": 0,
    "hideHardwareSpecs": false,
    "memoryGiB": 4,
    "name": "ml.c5.large",
    "vcpuNum": 2
   },
   {
    "_defaultOrder": 22,
    "_isFastLaunch": false,
    "category": "Compute optimized",
    "gpuNum": 0,
    "hideHardwareSpecs": false,
    "memoryGiB": 8,
    "name": "ml.c5.xlarge",
    "vcpuNum": 4
   },
   {
    "_defaultOrder": 23,
    "_isFastLaunch": false,
    "category": "Compute optimized",
    "gpuNum": 0,
    "hideHardwareSpecs": false,
    "memoryGiB": 16,
    "name": "ml.c5.2xlarge",
    "vcpuNum": 8
   },
   {
    "_defaultOrder": 24,
    "_isFastLaunch": false,
    "category": "Compute optimized",
    "gpuNum": 0,
    "hideHardwareSpecs": false,
    "memoryGiB": 32,
    "name": "ml.c5.4xlarge",
    "vcpuNum": 16
   },
   {
    "_defaultOrder": 25,
    "_isFastLaunch": false,
    "category": "Compute optimized",
    "gpuNum": 0,
    "hideHardwareSpecs": false,
    "memoryGiB": 72,
    "name": "ml.c5.9xlarge",
    "vcpuNum": 36
   },
   {
    "_defaultOrder": 26,
    "_isFastLaunch": false,
    "category": "Compute optimized",
    "gpuNum": 0,
    "hideHardwareSpecs": false,
    "memoryGiB": 96,
    "name": "ml.c5.12xlarge",
    "vcpuNum": 48
   },
   {
    "_defaultOrder": 27,
    "_isFastLaunch": false,
    "category": "Compute optimized",
    "gpuNum": 0,
    "hideHardwareSpecs": false,
    "memoryGiB": 144,
    "name": "ml.c5.18xlarge",
    "vcpuNum": 72
   },
   {
    "_defaultOrder": 28,
    "_isFastLaunch": false,
    "category": "Compute optimized",
    "gpuNum": 0,
    "hideHardwareSpecs": false,
    "memoryGiB": 192,
    "name": "ml.c5.24xlarge",
    "vcpuNum": 96
   },
   {
    "_defaultOrder": 29,
    "_isFastLaunch": true,
    "category": "Accelerated computing",
    "gpuNum": 1,
    "hideHardwareSpecs": false,
    "memoryGiB": 16,
    "name": "ml.g4dn.xlarge",
    "vcpuNum": 4
   },
   {
    "_defaultOrder": 30,
    "_isFastLaunch": false,
    "category": "Accelerated computing",
    "gpuNum": 1,
    "hideHardwareSpecs": false,
    "memoryGiB": 32,
    "name": "ml.g4dn.2xlarge",
    "vcpuNum": 8
   },
   {
    "_defaultOrder": 31,
    "_isFastLaunch": false,
    "category": "Accelerated computing",
    "gpuNum": 1,
    "hideHardwareSpecs": false,
    "memoryGiB": 64,
    "name": "ml.g4dn.4xlarge",
    "vcpuNum": 16
   },
   {
    "_defaultOrder": 32,
    "_isFastLaunch": false,
    "category": "Accelerated computing",
    "gpuNum": 1,
    "hideHardwareSpecs": false,
    "memoryGiB": 128,
    "name": "ml.g4dn.8xlarge",
    "vcpuNum": 32
   },
   {
    "_defaultOrder": 33,
    "_isFastLaunch": false,
    "category": "Accelerated computing",
    "gpuNum": 4,
    "hideHardwareSpecs": false,
    "memoryGiB": 192,
    "name": "ml.g4dn.12xlarge",
    "vcpuNum": 48
   },
   {
    "_defaultOrder": 34,
    "_isFastLaunch": false,
    "category": "Accelerated computing",
    "gpuNum": 1,
    "hideHardwareSpecs": false,
    "memoryGiB": 256,
    "name": "ml.g4dn.16xlarge",
    "vcpuNum": 64
   },
   {
    "_defaultOrder": 35,
    "_isFastLaunch": false,
    "category": "Accelerated computing",
    "gpuNum": 1,
    "hideHardwareSpecs": false,
    "memoryGiB": 61,
    "name": "ml.p3.2xlarge",
    "vcpuNum": 8
   },
   {
    "_defaultOrder": 36,
    "_isFastLaunch": false,
    "category": "Accelerated computing",
    "gpuNum": 4,
    "hideHardwareSpecs": false,
    "memoryGiB": 244,
    "name": "ml.p3.8xlarge",
    "vcpuNum": 32
   },
   {
    "_defaultOrder": 37,
    "_isFastLaunch": false,
    "category": "Accelerated computing",
    "gpuNum": 8,
    "hideHardwareSpecs": false,
    "memoryGiB": 488,
    "name": "ml.p3.16xlarge",
    "vcpuNum": 64
   },
   {
    "_defaultOrder": 38,
    "_isFastLaunch": false,
    "category": "Accelerated computing",
    "gpuNum": 8,
    "hideHardwareSpecs": false,
    "memoryGiB": 768,
    "name": "ml.p3dn.24xlarge",
    "vcpuNum": 96
   },
   {
    "_defaultOrder": 39,
    "_isFastLaunch": false,
    "category": "Memory Optimized",
    "gpuNum": 0,
    "hideHardwareSpecs": false,
    "memoryGiB": 16,
    "name": "ml.r5.large",
    "vcpuNum": 2
   },
   {
    "_defaultOrder": 40,
    "_isFastLaunch": false,
    "category": "Memory Optimized",
    "gpuNum": 0,
    "hideHardwareSpecs": false,
    "memoryGiB": 32,
    "name": "ml.r5.xlarge",
    "vcpuNum": 4
   },
   {
    "_defaultOrder": 41,
    "_isFastLaunch": false,
    "category": "Memory Optimized",
    "gpuNum": 0,
    "hideHardwareSpecs": false,
    "memoryGiB": 64,
    "name": "ml.r5.2xlarge",
    "vcpuNum": 8
   },
   {
    "_defaultOrder": 42,
    "_isFastLaunch": false,
    "category": "Memory Optimized",
    "gpuNum": 0,
    "hideHardwareSpecs": false,
    "memoryGiB": 128,
    "name": "ml.r5.4xlarge",
    "vcpuNum": 16
   },
   {
    "_defaultOrder": 43,
    "_isFastLaunch": false,
    "category": "Memory Optimized",
    "gpuNum": 0,
    "hideHardwareSpecs": false,
    "memoryGiB": 256,
    "name": "ml.r5.8xlarge",
    "vcpuNum": 32
   },
   {
    "_defaultOrder": 44,
    "_isFastLaunch": false,
    "category": "Memory Optimized",
    "gpuNum": 0,
    "hideHardwareSpecs": false,
    "memoryGiB": 384,
    "name": "ml.r5.12xlarge",
    "vcpuNum": 48
   },
   {
    "_defaultOrder": 45,
    "_isFastLaunch": false,
    "category": "Memory Optimized",
    "gpuNum": 0,
    "hideHardwareSpecs": false,
    "memoryGiB": 512,
    "name": "ml.r5.16xlarge",
    "vcpuNum": 64
   },
   {
    "_defaultOrder": 46,
    "_isFastLaunch": false,
    "category": "Memory Optimized",
    "gpuNum": 0,
    "hideHardwareSpecs": false,
    "memoryGiB": 768,
    "name": "ml.r5.24xlarge",
    "vcpuNum": 96
   },
   {
    "_defaultOrder": 47,
    "_isFastLaunch": false,
    "category": "Accelerated computing",
    "gpuNum": 1,
    "hideHardwareSpecs": false,
    "memoryGiB": 16,
    "name": "ml.g5.xlarge",
    "vcpuNum": 4
   },
   {
    "_defaultOrder": 48,
    "_isFastLaunch": false,
    "category": "Accelerated computing",
    "gpuNum": 1,
    "hideHardwareSpecs": false,
    "memoryGiB": 32,
    "name": "ml.g5.2xlarge",
    "vcpuNum": 8
   },
   {
    "_defaultOrder": 49,
    "_isFastLaunch": false,
    "category": "Accelerated computing",
    "gpuNum": 1,
    "hideHardwareSpecs": false,
    "memoryGiB": 64,
    "name": "ml.g5.4xlarge",
    "vcpuNum": 16
   },
   {
    "_defaultOrder": 50,
    "_isFastLaunch": false,
    "category": "Accelerated computing",
    "gpuNum": 1,
    "hideHardwareSpecs": false,
    "memoryGiB": 128,
    "name": "ml.g5.8xlarge",
    "vcpuNum": 32
   },
   {
    "_defaultOrder": 51,
    "_isFastLaunch": false,
    "category": "Accelerated computing",
    "gpuNum": 1,
    "hideHardwareSpecs": false,
    "memoryGiB": 256,
    "name": "ml.g5.16xlarge",
    "vcpuNum": 64
   },
   {
    "_defaultOrder": 52,
    "_isFastLaunch": false,
    "category": "Accelerated computing",
    "gpuNum": 4,
    "hideHardwareSpecs": false,
    "memoryGiB": 192,
    "name": "ml.g5.12xlarge",
    "vcpuNum": 48
   },
   {
    "_defaultOrder": 53,
    "_isFastLaunch": false,
    "category": "Accelerated computing",
    "gpuNum": 4,
    "hideHardwareSpecs": false,
    "memoryGiB": 384,
    "name": "ml.g5.24xlarge",
    "vcpuNum": 96
   },
   {
    "_defaultOrder": 54,
    "_isFastLaunch": false,
    "category": "Accelerated computing",
    "gpuNum": 8,
    "hideHardwareSpecs": false,
    "memoryGiB": 768,
    "name": "ml.g5.48xlarge",
    "vcpuNum": 192
   },
   {
    "_defaultOrder": 55,
    "_isFastLaunch": false,
    "category": "Accelerated computing",
    "gpuNum": 8,
    "hideHardwareSpecs": false,
    "memoryGiB": 1152,
    "name": "ml.p4d.24xlarge",
    "vcpuNum": 96
   },
   {
    "_defaultOrder": 56,
    "_isFastLaunch": false,
    "category": "Accelerated computing",
    "gpuNum": 8,
    "hideHardwareSpecs": false,
    "memoryGiB": 1152,
    "name": "ml.p4de.24xlarge",
    "vcpuNum": 96
   }
  ],
  "instance_type": "ml.t3.medium",
  "kernelspec": {
   "display_name": "Python 3 (PyTorch 1.12 Python 3.8 CPU Optimized)",
   "language": "python",
   "name": "python3__SAGEMAKER_INTERNAL__arn:aws:sagemaker:us-east-1:081325390199:image/pytorch-1.12-cpu-py38"
  },
  "language_info": {
   "codemirror_mode": {
    "name": "ipython",
    "version": 3
   },
   "file_extension": ".py",
   "mimetype": "text/x-python",
   "name": "python",
   "nbconvert_exporter": "python",
   "pygments_lexer": "ipython3",
   "version": "3.8.16"
  }
 },
 "nbformat": 4,
 "nbformat_minor": 5
}
