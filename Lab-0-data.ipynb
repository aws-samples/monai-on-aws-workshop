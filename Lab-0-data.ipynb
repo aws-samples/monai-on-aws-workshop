{
 "cells": [
  {
   "cell_type": "markdown",
   "id": "d41fb912-078d-48be-a1a9-6e13b09a3709",
   "metadata": {},
   "source": [
    "# Amazon HealthLake Imaging Lab\n",
    "\n",
    "### Download libraries"
   ]
  },
  {
   "cell_type": "code",
   "execution_count": null,
   "id": "feba4f44-e93b-4556-b5c0-68aea2ff9a45",
   "metadata": {},
   "outputs": [],
   "source": [
    "%%sh\n",
    "pip install -q --upgrade pip\n",
    "pip install -q --upgrade boto3 botocore\n",
    "pip install -q tqdm nibabel pydicom numpy pathlib2 pylibjpeg-openjpeg #monai"
   ]
  },
  {
   "cell_type": "markdown",
   "id": "21bcd0d8-b22a-4cec-8ea1-7e12ffd2aea8",
   "metadata": {},
   "source": [
    "### Import Libraries and Setup Environments"
   ]
  },
  {
   "cell_type": "code",
   "execution_count": null,
   "id": "5d56f489-00e1-4f8d-8bff-363747e03d79",
   "metadata": {},
   "outputs": [],
   "source": [
    "import pydicom\n",
    "from pydicom.sequence import Sequence\n",
    "from pydicom import Dataset , DataElement \n",
    "from pydicom.dataset import FileDataset, FileMetaDataset\n",
    "from pydicom.uid import UID\n",
    "from pydicom.pixel_data_handlers.util import convert_color_space , apply_color_lut\n",
    "from openjpeg import decode\n",
    "import array\n",
    "import json\n",
    "import logging\n",
    "import importlib  \n",
    "import boto3\n",
    "import io\n",
    "import sys\n",
    "import time\n",
    "import os\n",
    "import pandas as pd\n",
    "from botocore.exceptions import ClientError\n",
    "from src.code.Api import MedicalImaging \n",
    "\n",
    "# logging.basicConfig( level=\"INFO\" )\n",
    "logging.basicConfig( level=\"DEBUG\" )\n",
    "\n",
    "\n",
    "s3 = boto3.client('s3')\n",
    "iam = boto3.client('iam')\n",
    "\n",
    "account_id = boto3.client(\"sts\").get_caller_identity()[\"Account\"]\n",
    "region = boto3.Session().region_name\n",
    "\n",
    "medicalimaging = MedicalImaging()"
   ]
  },
  {
   "cell_type": "markdown",
   "id": "67e9ba42-03db-4a48-80ea-9246551c56c5",
   "metadata": {},
   "source": [
    "### Create S3 Bucket and IAM policy for HealthLake Imaging Import job"
   ]
  },
  {
   "cell_type": "code",
   "execution_count": null,
   "id": "0eb5bb1f-c707-40eb-a7f9-1279027ad7c8",
   "metadata": {},
   "outputs": [],
   "source": [
    "InputBucketName = \"ahli-input-aispleen-dataset\"\n",
    "OutputBucketName = \"ahli-output-aispleen-dataset\"\n",
    "s3.create_bucket(Bucket=InputBucketName)\n",
    "s3.create_bucket(Bucket=OutputBucketName)\n",
    "\n",
    "assume_role_policy_document = json.dumps({\n",
    "    \"Version\": \"2012-10-17\",\n",
    "    \"Statement\": [\n",
    "        {\n",
    "            \"Effect\": \"Allow\",\n",
    "            \"Principal\": {\n",
    "                \"Service\": [\n",
    "                    \"medical-imaging.amazonaws.com\"\n",
    "                ]\n",
    "            },\n",
    "            \"Action\": \"sts:AssumeRole\"\n",
    "        }\n",
    "    ]\n",
    "})\n",
    "\n",
    "import_policy_document = json.dumps({\n",
    "    \"Version\": \"2012-10-17\",\n",
    "    \"Statement\": [\n",
    "        {\n",
    "            \"Action\": [\n",
    "                \"s3:ListBucket\",\n",
    "                \"s3:GetEncryptionConfiguration\"\n",
    "            ],\n",
    "            \"Resource\": [\n",
    "                \"arn:aws:s3:::{}\".format(InputBucketName),\n",
    "                \"arn:aws:s3:::{}\".format(OutputBucketName)\n",
    "            ],\n",
    "            \"Effect\": \"Allow\"\n",
    "        },\n",
    "        {\n",
    "            \"Action\": [\n",
    "                \"s3:ListBucket\",\n",
    "                \"s3:GetEncryptionConfiguration\"\n",
    "            ],\n",
    "            \"Resource\": [\n",
    "                \"arn:aws:s3:::{}\".format(InputBucketName),\n",
    "                \"arn:aws:s3:::{}\".format(OutputBucketName)\n",
    "            ],\n",
    "            \"Effect\": \"Allow\"\n",
    "        },\n",
    "        {\n",
    "            \"Action\": [\n",
    "                \"s3:GetObject\"\n",
    "            ],\n",
    "            \"Resource\": [\n",
    "                \"arn:aws:s3:::{}/*\".format(InputBucketName)\n",
    "            ],\n",
    "            \"Effect\": \"Allow\"\n",
    "        },\n",
    "        {\n",
    "            \"Action\": [\n",
    "                \"s3:PutObject\"\n",
    "            ],\n",
    "            \"Resource\": [\n",
    "                \"arn:aws:s3:::{}/*\".format(OutputBucketName)\n",
    "            ],\n",
    "            \"Effect\": \"Allow\"\n",
    "        },\n",
    "        {\n",
    "            \"Action\": [\n",
    "                \"medical-imaging:CreateDatastore\",\n",
    "                \"medical-imaging:GetDatastore\",\n",
    "                \"medical-imaging:ListDatastores\",\n",
    "                \"medical-imaging:UpdateDatastore\",\n",
    "                \"medical-imaging:StartDICOMImportJob\",\n",
    "                \"medical-imaging:GetDICOMImportJob\",\n",
    "                \"medical-imaging:UpdateDICOMImportJob\",\n",
    "                \"medical-imaging:GetDICOMStudyMetdata\",\n",
    "                \"medical-imaging:GetImageFrame\"\n",
    "            ],\n",
    "            \"Resource\": \"*\",\n",
    "            \"Effect\": \"Allow\"\n",
    "        }\n",
    "    ]\n",
    "})\n",
    "\n",
    "try:\n",
    "    respons_createpolicy = iam.get_policy(PolicyArn=f\"arn:aws:iam::{account_id}:policy/AHLI-Service-Import-Policy\")\n",
    "except:\n",
    "    respons_createpolicy = iam.create_policy(\n",
    "         PolicyName='AHLI-Service-Import-Policy',\n",
    "         PolicyDocument=import_policy_document,\n",
    "     )\n",
    "try:\n",
    "    response_createrole=iam.get_role(RoleName='AHLI-Service-Import-Role')\n",
    "except:\n",
    "    response_createrole = iam.create_role(\n",
    "         RoleName='AHLI-Service-Import-Role',\n",
    "         AssumeRolePolicyDocument=assume_role_policy_document\n",
    "     )\n",
    "    response = iam.attach_role_policy(\n",
    "         RoleName=response_createrole['Role']['RoleName'],\n",
    "         PolicyArn=respons_createpolicy['Policy']['Arn']\n",
    "    )\n",
    "print(response_createrole['Role']['Arn'])\n",
    "print(respons_createpolicy['Policy']['Arn'])"
   ]
  },
  {
   "cell_type": "markdown",
   "id": "df418fa6-91a7-42e6-bb00-56b949db85bb",
   "metadata": {},
   "source": [
    "### Download AI Spleen Segmentation Dataset\n",
    "\n",
    "To demonstrate MONAI Deploy SDK later on, this demo is based on [an existing MONAI Deploy tutorial](https://github.com/Project-MONAI/monai-deploy-app-sdk/blob/main/notebooks/tutorials/03_segmentation_app.ipynb) using a public example: a multi-frame 3D Spleen Segmentation image.\n",
    "\n",
    "> **NOTICE**: \"The following download link leads to a Third-Party Dataset. AWS does not own, nor does it have any control over the Third-Party Dataset. You should perform your own independent assessment, and take measures to ensure that you comply with your own specific quality control practices and standards, and the local rules, laws, regulations, licenses and terms of use that apply to you, your content, and the Third-Party Dataset. AWS does not make any representations or warranties that the Third-Party Dataset is secure, virus-free, accurate, operational, or compatible with your own environment and standards. AWS does not make any representations, warranties or guarantees that any information in the Third-Party Dataset will result in a particular outcome or result.\""
   ]
  },
  {
   "cell_type": "code",
   "execution_count": null,
   "id": "e042d4ba-c71f-41c2-8513-4871fe4c02bf",
   "metadata": {},
   "outputs": [],
   "source": [
    "import os\n",
    "if not os.path.exists('dcm'):\n",
    "    # Download ai_spleen_bundle_data test data zip file\n",
    "    !pip install gdown \n",
    "    !gdown \"https://drive.google.com/uc?id=1Uds8mEvdGNYUuvFpTtCQ8gNU97bAPCaQ\"\n",
    "\n",
    "    # After downloading ai_spleen_bundle_data zip file from the web browser or using gdown,\n",
    "    !unzip -o \"ai_spleen_seg_bundle_data.zip\"\n",
    "    \n",
    "    for f in os.listdir('dcm'):\n",
    "        s3.upload_file('dcm/'+f, InputBucketName,'aispleen/'+f)"
   ]
  },
  {
   "cell_type": "markdown",
   "id": "a51655e4-654c-4bdf-b232-d057296ae3ae",
   "metadata": {},
   "source": [
    "### Create HealthLake Imaging Datastore if not Exists"
   ]
  },
  {
   "cell_type": "code",
   "execution_count": null,
   "id": "6e538175-4217-4f19-89b3-b7de98bcfebd",
   "metadata": {},
   "outputs": [],
   "source": [
    "DatastoreName = \"AISpleenDataStore\"\n",
    "datastoreList = medicalimaging.listDatastores()\n",
    "\n",
    "res_createstore = None\n",
    "for datastore in datastoreList[\"datastoreSummaries\"]:\n",
    "    if datastore[\"datastoreName\"] == DatastoreName:\n",
    "        res_createstore = datastore\n",
    "        break\n",
    "if res_createstore is None:        \n",
    "    res_createstore = medicalimaging.createDatastore(DatastoreName)\n",
    "\n",
    "datastoreId = res_createstore['datastoreId']\n",
    "res_getstore = medicalimaging.getDatastore(res_createstore['datastoreId'])    \n",
    "status = res_getstore['datastoreProperties']['datastoreStatus']\n",
    "while status!='ACTIVE':\n",
    "    time.sleep(10)\n",
    "    res_getstore = medicalimaging.getDatastore(res_createstore['datastoreId'])    \n",
    "    status = res_getstore['datastoreProperties']['datastoreStatus']\n",
    "    print(status)\n",
    "print(f\"datastoreId: {datastoreId}; status: {status}\")"
   ]
  },
  {
   "cell_type": "markdown",
   "id": "af7bda77-156d-430c-854b-5fecfd0bde1b",
   "metadata": {},
   "source": [
    "### Import data into HealthLake Imaging "
   ]
  },
  {
   "cell_type": "code",
   "execution_count": null,
   "id": "3ab29d04-3225-4bd5-8a5e-8186728e51fb",
   "metadata": {},
   "outputs": [],
   "source": [
    "res_startimportjob = medicalimaging.startImportJob(\n",
    "    res_createstore['datastoreId'],\n",
    "    response_createrole['Role']['Arn'],\n",
    "    's3://'+InputBucketName+'/aispleen/', \n",
    "    's3://'+OutputBucketName+'/output/'\n",
    ")\n",
    "\n",
    "jobstatus = medicalimaging.getImportJob(datastoreId, res_startimportjob['jobId'])['jobProperties']['jobStatus']\n",
    "while jobstatus!='COMPLETED':\n",
    "    time.sleep(30)\n",
    "    jobstatus = medicalimaging.getImportJob(datastoreId, res_startimportjob['jobId'])['jobProperties']['jobStatus']\n",
    "print(f\"jobstatus is {jobstatus}\")"
   ]
  },
  {
   "cell_type": "markdown",
   "id": "cac97d44-dd20-4727-9386-a54786a93a02",
   "metadata": {},
   "source": [
    "### Retrieve ImageSet IDs in Output Bucket"
   ]
  },
  {
   "cell_type": "code",
   "execution_count": null,
   "id": "77110d2c-e659-47f5-961b-b8141dc84f70",
   "metadata": {},
   "outputs": [],
   "source": [
    "imageSetIds = {}\n",
    "try:\n",
    "    response = s3.head_object(Bucket=OutputBucketName, Key=f\"output/{res_createstore['datastoreId']}-DicomImport-{res_startimportjob['jobId']}/job-output-manifest.json\")\n",
    "    if response['ResponseMetadata']['HTTPStatusCode'] == 200:\n",
    "        data = s3.get_object(Bucket=OutputBucketName, Key=f\"output/{res_createstore['datastoreId']}-DicomImport-{res_startimportjob['jobId']}/SUCCESS/success.ndjson\")\n",
    "        contents = data['Body'].read().decode(\"utf-8\")\n",
    "        for l in contents.splitlines():\n",
    "            isid = json.loads(l)['importResponse']['imageSetId']\n",
    "            if isid in imageSetIds:\n",
    "                imageSetIds[isid]+=1\n",
    "            else:\n",
    "                imageSetIds[isid]=1\n",
    "except ClientError:\n",
    "    pass\n",
    "\n",
    "imageSetIds"
   ]
  },
  {
   "cell_type": "markdown",
   "id": "73b8013c-e485-4ebb-9cd5-3abadc0e0326",
   "metadata": {},
   "source": [
    "### Retrieve DICOM Header for the Given ImageSet"
   ]
  },
  {
   "cell_type": "code",
   "execution_count": null,
   "id": "848f6aa5-3b7d-42ca-aece-e9d685672fec",
   "metadata": {},
   "outputs": [],
   "source": [
    "patients = []\n",
    "studies = []\n",
    "seriess = []\n",
    "for s in imageSetIds.keys():\n",
    "    json_dicom_header = medicalimaging.getMetadata(datastoreId, s)\n",
    "    patientjson = json_dicom_header['Patient']['DICOM']\n",
    "    studyjson = json_dicom_header['Study']['DICOM']\n",
    "    patientjson['ImageSetID'] = json_dicom_header['ImageSetID']\n",
    "    studyjson['ImageSetID'] = json_dicom_header['ImageSetID']\n",
    "    patients.append(patientjson)\n",
    "    studies.append(studyjson)\n",
    "    for s in list(json_dicom_header['Study']['Series'].keys()):\n",
    "        seriesjson = json_dicom_header['Study']['Series'][s]['DICOM']\n",
    "        seriesjson['ImageSetID'] = json_dicom_header['ImageSetID']\n",
    "        seriess.append(seriesjson)\n",
    "    \n",
    "df_patients = pd.json_normalize(patients)\n",
    "df_studies = pd.json_normalize(studies)\n",
    "df_seriess = pd.json_normalize(seriess)"
   ]
  },
  {
   "cell_type": "code",
   "execution_count": null,
   "id": "17526220-b5ca-4ebe-8cf8-5889a8aa377b",
   "metadata": {},
   "outputs": [],
   "source": [
    "df_patients"
   ]
  },
  {
   "cell_type": "code",
   "execution_count": null,
   "id": "7e2f12be-5760-4a64-b62b-b377b251b0e4",
   "metadata": {},
   "outputs": [],
   "source": [
    "%store datastoreId\n",
    "%store imageSetIds"
   ]
  },
  {
   "cell_type": "markdown",
   "id": "08780a51-4abd-4b0a-8fd4-040ecfadfe69",
   "metadata": {},
   "source": [
    "### Clean Up"
   ]
  },
  {
   "cell_type": "code",
   "execution_count": null,
   "id": "8a2c80d7-1978-4d95-9783-6c808c17e632",
   "metadata": {},
   "outputs": [],
   "source": [
    "try:\n",
    "    s3res = boto3.resource('s3')\n",
    "    bucket = s3res.Bucket(InputBucketName)\n",
    "    bucket.object_versions.delete()\n",
    "    s3.delete_bucket(Bucket=InputBucketName)\n",
    "    bucket = s3res.Bucket(OutputBucketName)\n",
    "    bucket.object_versions.delete()\n",
    "    s3.delete_bucket(Bucket=OutputBucketName)\n",
    "except ClientError  as e:\n",
    "    if e.response['Error']['Code'] == 'NoSuchBucket':\n",
    "        print(\"Bucket already deleted\")\n",
    "    \n",
    "try: \n",
    "    resp = iam.detach_role_policy(PolicyArn=respons_createpolicy['Policy']['Arn'],RoleName=response_createrole['Role']['RoleName'])\n",
    "    resp = iam.delete_policy(PolicyArn=respons_createpolicy['Policy']['Arn'])\n",
    "    resp = iam.delete_role(RoleName=response_createrole['Role']['RoleName'])\n",
    "except ClientError as ee:\n",
    "    if ee.response['Error']['Code'] == 'NoSuchEntity':\n",
    "        print(\"Policy not attached, ignore\")\n",
    "    else: \n",
    "        print(ee)\n"
   ]
  },
  {
   "cell_type": "code",
   "execution_count": null,
   "id": "ea376104-dcff-4262-abf2-7fdb450e411b",
   "metadata": {},
   "outputs": [],
   "source": []
  }
 ],
 "metadata": {
  "availableInstances": [
   {
    "_defaultOrder": 0,
    "_isFastLaunch": true,
    "category": "General purpose",
    "gpuNum": 0,
    "hideHardwareSpecs": false,
    "memoryGiB": 4,
    "name": "ml.t3.medium",
    "vcpuNum": 2
   },
   {
    "_defaultOrder": 1,
    "_isFastLaunch": false,
    "category": "General purpose",
    "gpuNum": 0,
    "hideHardwareSpecs": false,
    "memoryGiB": 8,
    "name": "ml.t3.large",
    "vcpuNum": 2
   },
   {
    "_defaultOrder": 2,
    "_isFastLaunch": false,
    "category": "General purpose",
    "gpuNum": 0,
    "hideHardwareSpecs": false,
    "memoryGiB": 16,
    "name": "ml.t3.xlarge",
    "vcpuNum": 4
   },
   {
    "_defaultOrder": 3,
    "_isFastLaunch": false,
    "category": "General purpose",
    "gpuNum": 0,
    "hideHardwareSpecs": false,
    "memoryGiB": 32,
    "name": "ml.t3.2xlarge",
    "vcpuNum": 8
   },
   {
    "_defaultOrder": 4,
    "_isFastLaunch": true,
    "category": "General purpose",
    "gpuNum": 0,
    "hideHardwareSpecs": false,
    "memoryGiB": 8,
    "name": "ml.m5.large",
    "vcpuNum": 2
   },
   {
    "_defaultOrder": 5,
    "_isFastLaunch": false,
    "category": "General purpose",
    "gpuNum": 0,
    "hideHardwareSpecs": false,
    "memoryGiB": 16,
    "name": "ml.m5.xlarge",
    "vcpuNum": 4
   },
   {
    "_defaultOrder": 6,
    "_isFastLaunch": false,
    "category": "General purpose",
    "gpuNum": 0,
    "hideHardwareSpecs": false,
    "memoryGiB": 32,
    "name": "ml.m5.2xlarge",
    "vcpuNum": 8
   },
   {
    "_defaultOrder": 7,
    "_isFastLaunch": false,
    "category": "General purpose",
    "gpuNum": 0,
    "hideHardwareSpecs": false,
    "memoryGiB": 64,
    "name": "ml.m5.4xlarge",
    "vcpuNum": 16
   },
   {
    "_defaultOrder": 8,
    "_isFastLaunch": false,
    "category": "General purpose",
    "gpuNum": 0,
    "hideHardwareSpecs": false,
    "memoryGiB": 128,
    "name": "ml.m5.8xlarge",
    "vcpuNum": 32
   },
   {
    "_defaultOrder": 9,
    "_isFastLaunch": false,
    "category": "General purpose",
    "gpuNum": 0,
    "hideHardwareSpecs": false,
    "memoryGiB": 192,
    "name": "ml.m5.12xlarge",
    "vcpuNum": 48
   },
   {
    "_defaultOrder": 10,
    "_isFastLaunch": false,
    "category": "General purpose",
    "gpuNum": 0,
    "hideHardwareSpecs": false,
    "memoryGiB": 256,
    "name": "ml.m5.16xlarge",
    "vcpuNum": 64
   },
   {
    "_defaultOrder": 11,
    "_isFastLaunch": false,
    "category": "General purpose",
    "gpuNum": 0,
    "hideHardwareSpecs": false,
    "memoryGiB": 384,
    "name": "ml.m5.24xlarge",
    "vcpuNum": 96
   },
   {
    "_defaultOrder": 12,
    "_isFastLaunch": false,
    "category": "General purpose",
    "gpuNum": 0,
    "hideHardwareSpecs": false,
    "memoryGiB": 8,
    "name": "ml.m5d.large",
    "vcpuNum": 2
   },
   {
    "_defaultOrder": 13,
    "_isFastLaunch": false,
    "category": "General purpose",
    "gpuNum": 0,
    "hideHardwareSpecs": false,
    "memoryGiB": 16,
    "name": "ml.m5d.xlarge",
    "vcpuNum": 4
   },
   {
    "_defaultOrder": 14,
    "_isFastLaunch": false,
    "category": "General purpose",
    "gpuNum": 0,
    "hideHardwareSpecs": false,
    "memoryGiB": 32,
    "name": "ml.m5d.2xlarge",
    "vcpuNum": 8
   },
   {
    "_defaultOrder": 15,
    "_isFastLaunch": false,
    "category": "General purpose",
    "gpuNum": 0,
    "hideHardwareSpecs": false,
    "memoryGiB": 64,
    "name": "ml.m5d.4xlarge",
    "vcpuNum": 16
   },
   {
    "_defaultOrder": 16,
    "_isFastLaunch": false,
    "category": "General purpose",
    "gpuNum": 0,
    "hideHardwareSpecs": false,
    "memoryGiB": 128,
    "name": "ml.m5d.8xlarge",
    "vcpuNum": 32
   },
   {
    "_defaultOrder": 17,
    "_isFastLaunch": false,
    "category": "General purpose",
    "gpuNum": 0,
    "hideHardwareSpecs": false,
    "memoryGiB": 192,
    "name": "ml.m5d.12xlarge",
    "vcpuNum": 48
   },
   {
    "_defaultOrder": 18,
    "_isFastLaunch": false,
    "category": "General purpose",
    "gpuNum": 0,
    "hideHardwareSpecs": false,
    "memoryGiB": 256,
    "name": "ml.m5d.16xlarge",
    "vcpuNum": 64
   },
   {
    "_defaultOrder": 19,
    "_isFastLaunch": false,
    "category": "General purpose",
    "gpuNum": 0,
    "hideHardwareSpecs": false,
    "memoryGiB": 384,
    "name": "ml.m5d.24xlarge",
    "vcpuNum": 96
   },
   {
    "_defaultOrder": 20,
    "_isFastLaunch": false,
    "category": "General purpose",
    "gpuNum": 0,
    "hideHardwareSpecs": true,
    "memoryGiB": 0,
    "name": "ml.geospatial.interactive",
    "supportedImageNames": [
     "sagemaker-geospatial-v1-0"
    ],
    "vcpuNum": 0
   },
   {
    "_defaultOrder": 21,
    "_isFastLaunch": true,
    "category": "Compute optimized",
    "gpuNum": 0,
    "hideHardwareSpecs": false,
    "memoryGiB": 4,
    "name": "ml.c5.large",
    "vcpuNum": 2
   },
   {
    "_defaultOrder": 22,
    "_isFastLaunch": false,
    "category": "Compute optimized",
    "gpuNum": 0,
    "hideHardwareSpecs": false,
    "memoryGiB": 8,
    "name": "ml.c5.xlarge",
    "vcpuNum": 4
   },
   {
    "_defaultOrder": 23,
    "_isFastLaunch": false,
    "category": "Compute optimized",
    "gpuNum": 0,
    "hideHardwareSpecs": false,
    "memoryGiB": 16,
    "name": "ml.c5.2xlarge",
    "vcpuNum": 8
   },
   {
    "_defaultOrder": 24,
    "_isFastLaunch": false,
    "category": "Compute optimized",
    "gpuNum": 0,
    "hideHardwareSpecs": false,
    "memoryGiB": 32,
    "name": "ml.c5.4xlarge",
    "vcpuNum": 16
   },
   {
    "_defaultOrder": 25,
    "_isFastLaunch": false,
    "category": "Compute optimized",
    "gpuNum": 0,
    "hideHardwareSpecs": false,
    "memoryGiB": 72,
    "name": "ml.c5.9xlarge",
    "vcpuNum": 36
   },
   {
    "_defaultOrder": 26,
    "_isFastLaunch": false,
    "category": "Compute optimized",
    "gpuNum": 0,
    "hideHardwareSpecs": false,
    "memoryGiB": 96,
    "name": "ml.c5.12xlarge",
    "vcpuNum": 48
   },
   {
    "_defaultOrder": 27,
    "_isFastLaunch": false,
    "category": "Compute optimized",
    "gpuNum": 0,
    "hideHardwareSpecs": false,
    "memoryGiB": 144,
    "name": "ml.c5.18xlarge",
    "vcpuNum": 72
   },
   {
    "_defaultOrder": 28,
    "_isFastLaunch": false,
    "category": "Compute optimized",
    "gpuNum": 0,
    "hideHardwareSpecs": false,
    "memoryGiB": 192,
    "name": "ml.c5.24xlarge",
    "vcpuNum": 96
   },
   {
    "_defaultOrder": 29,
    "_isFastLaunch": true,
    "category": "Accelerated computing",
    "gpuNum": 1,
    "hideHardwareSpecs": false,
    "memoryGiB": 16,
    "name": "ml.g4dn.xlarge",
    "vcpuNum": 4
   },
   {
    "_defaultOrder": 30,
    "_isFastLaunch": false,
    "category": "Accelerated computing",
    "gpuNum": 1,
    "hideHardwareSpecs": false,
    "memoryGiB": 32,
    "name": "ml.g4dn.2xlarge",
    "vcpuNum": 8
   },
   {
    "_defaultOrder": 31,
    "_isFastLaunch": false,
    "category": "Accelerated computing",
    "gpuNum": 1,
    "hideHardwareSpecs": false,
    "memoryGiB": 64,
    "name": "ml.g4dn.4xlarge",
    "vcpuNum": 16
   },
   {
    "_defaultOrder": 32,
    "_isFastLaunch": false,
    "category": "Accelerated computing",
    "gpuNum": 1,
    "hideHardwareSpecs": false,
    "memoryGiB": 128,
    "name": "ml.g4dn.8xlarge",
    "vcpuNum": 32
   },
   {
    "_defaultOrder": 33,
    "_isFastLaunch": false,
    "category": "Accelerated computing",
    "gpuNum": 4,
    "hideHardwareSpecs": false,
    "memoryGiB": 192,
    "name": "ml.g4dn.12xlarge",
    "vcpuNum": 48
   },
   {
    "_defaultOrder": 34,
    "_isFastLaunch": false,
    "category": "Accelerated computing",
    "gpuNum": 1,
    "hideHardwareSpecs": false,
    "memoryGiB": 256,
    "name": "ml.g4dn.16xlarge",
    "vcpuNum": 64
   },
   {
    "_defaultOrder": 35,
    "_isFastLaunch": false,
    "category": "Accelerated computing",
    "gpuNum": 1,
    "hideHardwareSpecs": false,
    "memoryGiB": 61,
    "name": "ml.p3.2xlarge",
    "vcpuNum": 8
   },
   {
    "_defaultOrder": 36,
    "_isFastLaunch": false,
    "category": "Accelerated computing",
    "gpuNum": 4,
    "hideHardwareSpecs": false,
    "memoryGiB": 244,
    "name": "ml.p3.8xlarge",
    "vcpuNum": 32
   },
   {
    "_defaultOrder": 37,
    "_isFastLaunch": false,
    "category": "Accelerated computing",
    "gpuNum": 8,
    "hideHardwareSpecs": false,
    "memoryGiB": 488,
    "name": "ml.p3.16xlarge",
    "vcpuNum": 64
   },
   {
    "_defaultOrder": 38,
    "_isFastLaunch": false,
    "category": "Accelerated computing",
    "gpuNum": 8,
    "hideHardwareSpecs": false,
    "memoryGiB": 768,
    "name": "ml.p3dn.24xlarge",
    "vcpuNum": 96
   },
   {
    "_defaultOrder": 39,
    "_isFastLaunch": false,
    "category": "Memory Optimized",
    "gpuNum": 0,
    "hideHardwareSpecs": false,
    "memoryGiB": 16,
    "name": "ml.r5.large",
    "vcpuNum": 2
   },
   {
    "_defaultOrder": 40,
    "_isFastLaunch": false,
    "category": "Memory Optimized",
    "gpuNum": 0,
    "hideHardwareSpecs": false,
    "memoryGiB": 32,
    "name": "ml.r5.xlarge",
    "vcpuNum": 4
   },
   {
    "_defaultOrder": 41,
    "_isFastLaunch": false,
    "category": "Memory Optimized",
    "gpuNum": 0,
    "hideHardwareSpecs": false,
    "memoryGiB": 64,
    "name": "ml.r5.2xlarge",
    "vcpuNum": 8
   },
   {
    "_defaultOrder": 42,
    "_isFastLaunch": false,
    "category": "Memory Optimized",
    "gpuNum": 0,
    "hideHardwareSpecs": false,
    "memoryGiB": 128,
    "name": "ml.r5.4xlarge",
    "vcpuNum": 16
   },
   {
    "_defaultOrder": 43,
    "_isFastLaunch": false,
    "category": "Memory Optimized",
    "gpuNum": 0,
    "hideHardwareSpecs": false,
    "memoryGiB": 256,
    "name": "ml.r5.8xlarge",
    "vcpuNum": 32
   },
   {
    "_defaultOrder": 44,
    "_isFastLaunch": false,
    "category": "Memory Optimized",
    "gpuNum": 0,
    "hideHardwareSpecs": false,
    "memoryGiB": 384,
    "name": "ml.r5.12xlarge",
    "vcpuNum": 48
   },
   {
    "_defaultOrder": 45,
    "_isFastLaunch": false,
    "category": "Memory Optimized",
    "gpuNum": 0,
    "hideHardwareSpecs": false,
    "memoryGiB": 512,
    "name": "ml.r5.16xlarge",
    "vcpuNum": 64
   },
   {
    "_defaultOrder": 46,
    "_isFastLaunch": false,
    "category": "Memory Optimized",
    "gpuNum": 0,
    "hideHardwareSpecs": false,
    "memoryGiB": 768,
    "name": "ml.r5.24xlarge",
    "vcpuNum": 96
   },
   {
    "_defaultOrder": 47,
    "_isFastLaunch": false,
    "category": "Accelerated computing",
    "gpuNum": 1,
    "hideHardwareSpecs": false,
    "memoryGiB": 16,
    "name": "ml.g5.xlarge",
    "vcpuNum": 4
   },
   {
    "_defaultOrder": 48,
    "_isFastLaunch": false,
    "category": "Accelerated computing",
    "gpuNum": 1,
    "hideHardwareSpecs": false,
    "memoryGiB": 32,
    "name": "ml.g5.2xlarge",
    "vcpuNum": 8
   },
   {
    "_defaultOrder": 49,
    "_isFastLaunch": false,
    "category": "Accelerated computing",
    "gpuNum": 1,
    "hideHardwareSpecs": false,
    "memoryGiB": 64,
    "name": "ml.g5.4xlarge",
    "vcpuNum": 16
   },
   {
    "_defaultOrder": 50,
    "_isFastLaunch": false,
    "category": "Accelerated computing",
    "gpuNum": 1,
    "hideHardwareSpecs": false,
    "memoryGiB": 128,
    "name": "ml.g5.8xlarge",
    "vcpuNum": 32
   },
   {
    "_defaultOrder": 51,
    "_isFastLaunch": false,
    "category": "Accelerated computing",
    "gpuNum": 1,
    "hideHardwareSpecs": false,
    "memoryGiB": 256,
    "name": "ml.g5.16xlarge",
    "vcpuNum": 64
   },
   {
    "_defaultOrder": 52,
    "_isFastLaunch": false,
    "category": "Accelerated computing",
    "gpuNum": 4,
    "hideHardwareSpecs": false,
    "memoryGiB": 192,
    "name": "ml.g5.12xlarge",
    "vcpuNum": 48
   },
   {
    "_defaultOrder": 53,
    "_isFastLaunch": false,
    "category": "Accelerated computing",
    "gpuNum": 4,
    "hideHardwareSpecs": false,
    "memoryGiB": 384,
    "name": "ml.g5.24xlarge",
    "vcpuNum": 96
   },
   {
    "_defaultOrder": 54,
    "_isFastLaunch": false,
    "category": "Accelerated computing",
    "gpuNum": 8,
    "hideHardwareSpecs": false,
    "memoryGiB": 768,
    "name": "ml.g5.48xlarge",
    "vcpuNum": 192
   },
   {
    "_defaultOrder": 55,
    "_isFastLaunch": false,
    "category": "Accelerated computing",
    "gpuNum": 8,
    "hideHardwareSpecs": false,
    "memoryGiB": 1152,
    "name": "ml.p4d.24xlarge",
    "vcpuNum": 96
   },
   {
    "_defaultOrder": 56,
    "_isFastLaunch": false,
    "category": "Accelerated computing",
    "gpuNum": 8,
    "hideHardwareSpecs": false,
    "memoryGiB": 1152,
    "name": "ml.p4de.24xlarge",
    "vcpuNum": 96
   }
  ],
  "instance_type": "ml.t3.medium",
  "kernelspec": {
   "display_name": "Python 3 (Data Science 3.0)",
   "language": "python",
   "name": "python3__SAGEMAKER_INTERNAL__arn:aws:sagemaker:us-east-1:081325390199:image/sagemaker-data-science-310-v1"
  },
  "language_info": {
   "codemirror_mode": {
    "name": "ipython",
    "version": 3
   },
   "file_extension": ".py",
   "mimetype": "text/x-python",
   "name": "python",
   "nbconvert_exporter": "python",
   "pygments_lexer": "ipython3",
   "version": "3.10.6"
  }
 },
 "nbformat": 4,
 "nbformat_minor": 5
}
