{
 "cells": [
  {
   "cell_type": "markdown",
   "id": "d41fb912-078d-48be-a1a9-6e13b09a3709",
   "metadata": {},
   "source": [
    "# Amazon HealthLake Imaging Lab\n",
    "\n",
    "### Download libraries"
   ]
  },
  {
   "cell_type": "code",
   "execution_count": 2,
   "id": "feba4f44-e93b-4556-b5c0-68aea2ff9a45",
   "metadata": {},
   "outputs": [
    {
     "name": "stderr",
     "output_type": "stream",
     "text": [
      "WARNING: Running pip as the 'root' user can result in broken permissions and conflicting behaviour with the system package manager. It is recommended to use a virtual environment instead: https://pip.pypa.io/warnings/venv\n",
      "WARNING: Running pip as the 'root' user can result in broken permissions and conflicting behaviour with the system package manager. It is recommended to use a virtual environment instead: https://pip.pypa.io/warnings/venv\n",
      "WARNING: Error parsing requirements for tornado: [Errno 2] No such file or directory: '/opt/conda/lib/python3.8/site-packages/tornado-6.0.4.dist-info/METADATA'\n",
      "WARNING: Error parsing requirements for traitlets: [Errno 2] No such file or directory: '/opt/conda/lib/python3.8/site-packages/traitlets-4.3.3.dist-info/METADATA'\n",
      "WARNING: Running pip as the 'root' user can result in broken permissions and conflicting behaviour with the system package manager. It is recommended to use a virtual environment instead: https://pip.pypa.io/warnings/venv\n"
     ]
    }
   ],
   "source": [
    "%%sh\n",
    "pip install -q --upgrade pip\n",
    "pip install -q --upgrade boto3 botocore\n",
    "pip install -q tqdm nibabel pydicom numpy pathlib2 pylibjpeg-openjpeg #monai"
   ]
  },
  {
   "cell_type": "markdown",
   "id": "21bcd0d8-b22a-4cec-8ea1-7e12ffd2aea8",
   "metadata": {},
   "source": [
    "### Import Libraries and Setup Environments"
   ]
  },
  {
   "cell_type": "code",
   "execution_count": 3,
   "id": "5d56f489-00e1-4f8d-8bff-363747e03d79",
   "metadata": {},
   "outputs": [
    {
     "name": "stderr",
     "output_type": "stream",
     "text": [
      "INFO:botocore.credentials:Found credentials in shared credentials file: ~/.aws/credentials\n"
     ]
    }
   ],
   "source": [
    "import pydicom\n",
    "from pydicom.sequence import Sequence\n",
    "from pydicom import Dataset , DataElement \n",
    "from pydicom.dataset import FileDataset, FileMetaDataset\n",
    "from pydicom.uid import UID\n",
    "from pydicom.pixel_data_handlers.util import convert_color_space , apply_color_lut\n",
    "from openjpeg import decode\n",
    "import array\n",
    "import json\n",
    "import logging\n",
    "import importlib  \n",
    "import boto3\n",
    "import io\n",
    "import sys\n",
    "import time\n",
    "import os\n",
    "import pandas as pd\n",
    "from botocore.exceptions import ClientError\n",
    "from src.code.Api import MedicalImaging \n",
    "\n",
    "# logging.basicConfig( level=\"INFO\" )\n",
    "logging.basicConfig( level=\"DEBUG\" )\n",
    "\n",
    "\n",
    "s3 = boto3.client('s3')\n",
    "iam = boto3.client('iam')\n",
    "\n",
    "account_id = boto3.client(\"sts\").get_caller_identity()[\"Account\"]\n",
    "region = boto3.Session().region_name\n",
    "\n",
    "medicalimaging = MedicalImaging()"
   ]
  },
  {
   "cell_type": "markdown",
   "id": "67e9ba42-03db-4a48-80ea-9246551c56c5",
   "metadata": {},
   "source": [
    "### Create S3 Bucket and IAM policy for HealthLake Imaging Import job"
   ]
  },
  {
   "cell_type": "code",
   "execution_count": 4,
   "id": "0eb5bb1f-c707-40eb-a7f9-1279027ad7c8",
   "metadata": {},
   "outputs": [
    {
     "name": "stdout",
     "output_type": "stream",
     "text": [
      "arn:aws:iam::749291336608:role/AHLI-Service-Import-Role\n",
      "arn:aws:iam::749291336608:policy/AHLI-Service-Import-Policy\n"
     ]
    }
   ],
   "source": [
    "InputBucketName = \"ahli-input-aispleen-dataset\"\n",
    "OutputBucketName = \"ahli-output-aispleen-dataset\"\n",
    "s3.create_bucket(Bucket=InputBucketName)\n",
    "s3.create_bucket(Bucket=OutputBucketName)\n",
    "\n",
    "assume_role_policy_document = json.dumps({\n",
    "    \"Version\": \"2012-10-17\",\n",
    "    \"Statement\": [\n",
    "        {\n",
    "            \"Effect\": \"Allow\",\n",
    "            \"Principal\": {\n",
    "                \"Service\": [\n",
    "                    \"medical-imaging.amazonaws.com\"\n",
    "                ]\n",
    "            },\n",
    "            \"Action\": \"sts:AssumeRole\"\n",
    "        }\n",
    "    ]\n",
    "})\n",
    "\n",
    "import_policy_document = json.dumps({\n",
    "    \"Version\": \"2012-10-17\",\n",
    "    \"Statement\": [\n",
    "        {\n",
    "            \"Action\": [\n",
    "                \"s3:ListBucket\",\n",
    "                \"s3:GetEncryptionConfiguration\"\n",
    "            ],\n",
    "            \"Resource\": [\n",
    "                \"arn:aws:s3:::{}\".format(InputBucketName),\n",
    "                \"arn:aws:s3:::{}\".format(OutputBucketName)\n",
    "            ],\n",
    "            \"Effect\": \"Allow\"\n",
    "        },\n",
    "        {\n",
    "            \"Action\": [\n",
    "                \"s3:ListBucket\",\n",
    "                \"s3:GetEncryptionConfiguration\"\n",
    "            ],\n",
    "            \"Resource\": [\n",
    "                \"arn:aws:s3:::{}\".format(InputBucketName),\n",
    "                \"arn:aws:s3:::{}\".format(OutputBucketName)\n",
    "            ],\n",
    "            \"Effect\": \"Allow\"\n",
    "        },\n",
    "        {\n",
    "            \"Action\": [\n",
    "                \"s3:GetObject\"\n",
    "            ],\n",
    "            \"Resource\": [\n",
    "                \"arn:aws:s3:::{}/*\".format(InputBucketName)\n",
    "            ],\n",
    "            \"Effect\": \"Allow\"\n",
    "        },\n",
    "        {\n",
    "            \"Action\": [\n",
    "                \"s3:PutObject\"\n",
    "            ],\n",
    "            \"Resource\": [\n",
    "                \"arn:aws:s3:::{}/*\".format(OutputBucketName)\n",
    "            ],\n",
    "            \"Effect\": \"Allow\"\n",
    "        },\n",
    "        {\n",
    "            \"Action\": [\n",
    "                \"medical-imaging:CreateDatastore\",\n",
    "                \"medical-imaging:GetDatastore\",\n",
    "                \"medical-imaging:ListDatastores\",\n",
    "                \"medical-imaging:UpdateDatastore\",\n",
    "                \"medical-imaging:StartDICOMImportJob\",\n",
    "                \"medical-imaging:GetDICOMImportJob\",\n",
    "                \"medical-imaging:UpdateDICOMImportJob\",\n",
    "                \"medical-imaging:GetDICOMStudyMetdata\",\n",
    "                \"medical-imaging:GetImageFrame\"\n",
    "            ],\n",
    "            \"Resource\": \"*\",\n",
    "            \"Effect\": \"Allow\"\n",
    "        }\n",
    "    ]\n",
    "})\n",
    "\n",
    "try:\n",
    "    respons_createpolicy = iam.get_policy(PolicyArn=f\"arn:aws:iam::{account_id}:policy/AHLI-Service-Import-Policy\")\n",
    "except:\n",
    "    respons_createpolicy = iam.create_policy(\n",
    "         PolicyName='AHLI-Service-Import-Policy',\n",
    "         PolicyDocument=import_policy_document,\n",
    "     )\n",
    "try:\n",
    "    response_createrole=iam.get_role(RoleName='AHLI-Service-Import-Role')\n",
    "except:\n",
    "    response_createrole = iam.create_role(\n",
    "         RoleName='AHLI-Service-Import-Role',\n",
    "         AssumeRolePolicyDocument=assume_role_policy_document\n",
    "     )\n",
    "    response = iam.attach_role_policy(\n",
    "         RoleName=response_createrole['Role']['RoleName'],\n",
    "         PolicyArn=respons_createpolicy['Policy']['Arn']\n",
    "    )\n",
    "print(response_createrole['Role']['Arn'])\n",
    "print(respons_createpolicy['Policy']['Arn'])"
   ]
  },
  {
   "cell_type": "markdown",
   "id": "df418fa6-91a7-42e6-bb00-56b949db85bb",
   "metadata": {},
   "source": [
    "### Download AI Spleen Segmentation Dataset"
   ]
  },
  {
   "cell_type": "code",
   "execution_count": 5,
   "id": "e042d4ba-c71f-41c2-8513-4871fe4c02bf",
   "metadata": {},
   "outputs": [],
   "source": [
    "import os\n",
    "if not os.path.exists('dcm'):\n",
    "    # Download ai_spleen_bundle_data test data zip file\n",
    "    !pip install gdown \n",
    "    !gdown \"https://drive.google.com/uc?id=1Uds8mEvdGNYUuvFpTtCQ8gNU97bAPCaQ\"\n",
    "\n",
    "    # After downloading ai_spleen_bundle_data zip file from the web browser or using gdown,\n",
    "    !unzip -o \"ai_spleen_seg_bundle_data.zip\"\n",
    "    \n",
    "    for f in os.listdir('dcm'):\n",
    "        s3.upload_file('dcm/'+f, InputBucketName,'aispleen/'+f)"
   ]
  },
  {
   "cell_type": "markdown",
   "id": "a51655e4-654c-4bdf-b232-d057296ae3ae",
   "metadata": {},
   "source": [
    "### Create HealthLake Imaging Datastore if not Exists"
   ]
  },
  {
   "cell_type": "code",
   "execution_count": 6,
   "id": "6e538175-4217-4f19-89b3-b7de98bcfebd",
   "metadata": {},
   "outputs": [
    {
     "name": "stderr",
     "output_type": "stream",
     "text": [
      "INFO:root:List Datastores  : 315.7458305358887 ms\n",
      "INFO:root:Get Datastore  : 77.15654373168945 ms\n"
     ]
    },
    {
     "name": "stdout",
     "output_type": "stream",
     "text": [
      "datastoreId: 2fd10f94a21b4c3eaca4684ccbcebb7e; status: ACTIVE\n"
     ]
    }
   ],
   "source": [
    "DatastoreName = \"AISpleenDataStore\"\n",
    "datastoreList = medicalimaging.listDatastores()\n",
    "\n",
    "res_createstore = None\n",
    "for datastore in datastoreList[\"datastoreSummaries\"]:\n",
    "    if datastore[\"datastoreName\"] == DatastoreName:\n",
    "        res_createstore = datastore\n",
    "        break\n",
    "if res_createstore is None:        \n",
    "    res_createstore = medicalimaging.createDatastore(DatastoreName)\n",
    "\n",
    "datastoreId = res_createstore['datastoreId']\n",
    "res_getstore = medicalimaging.getDatastore(res_createstore['datastoreId'])    \n",
    "status = res_getstore['datastoreProperties']['datastoreStatus']\n",
    "while status!='ACTIVE':\n",
    "    time.sleep(10)\n",
    "    res_getstore = medicalimaging.getDatastore(res_createstore['datastoreId'])    \n",
    "    status = res_getstore['datastoreProperties']['datastoreStatus']\n",
    "    print(status)\n",
    "print(f\"datastoreId: {datastoreId}; status: {status}\")"
   ]
  },
  {
   "cell_type": "markdown",
   "id": "af7bda77-156d-430c-854b-5fecfd0bde1b",
   "metadata": {},
   "source": [
    "### Import data into HealthLake Imaging "
   ]
  },
  {
   "cell_type": "code",
   "execution_count": 7,
   "id": "3ab29d04-3225-4bd5-8a5e-8186728e51fb",
   "metadata": {},
   "outputs": [
    {
     "name": "stderr",
     "output_type": "stream",
     "text": [
      "INFO:root:Start Import Job  : 404.6447277069092 ms\n",
      "INFO:root:Get Import Job  : 130.16915321350098 ms\n"
     ]
    },
    {
     "name": "stdout",
     "output_type": "stream",
     "text": [
      "jobstatus is COMPLETED\n"
     ]
    }
   ],
   "source": [
    "res_startimportjob = medicalimaging.startImportJob(\n",
    "    res_createstore['datastoreId'],\n",
    "    response_createrole['Role']['Arn'],\n",
    "    's3://'+InputBucketName+'/aispleen/', \n",
    "    's3://'+OutputBucketName+'/output/'\n",
    ")\n",
    "\n",
    "jobstatus = medicalimaging.getImportJob(datastoreId, res_startimportjob['jobId'])['jobProperties']['jobStatus']\n",
    "while jobstatus!='COMPLETED':\n",
    "    time.sleep(30)\n",
    "    jobstatus = medicalimaging.getImportJob(datastoreId, res_startimportjob['jobId'])['jobProperties']['jobStatus']\n",
    "print(f\"jobstatus is {jobstatus}\")"
   ]
  },
  {
   "cell_type": "markdown",
   "id": "cac97d44-dd20-4727-9386-a54786a93a02",
   "metadata": {},
   "source": [
    "### Retrieve ImageSet IDs in Output Bucket"
   ]
  },
  {
   "cell_type": "code",
   "execution_count": 8,
   "id": "77110d2c-e659-47f5-961b-b8141dc84f70",
   "metadata": {},
   "outputs": [
    {
     "data": {
      "text/plain": [
       "{'51c02682b81d47aff703df4add0e3ce8': 204}"
      ]
     },
     "execution_count": 8,
     "metadata": {},
     "output_type": "execute_result"
    }
   ],
   "source": [
    "imageSetIds = {}\n",
    "try:\n",
    "    response = s3.head_object(Bucket=OutputBucketName, Key=f\"output/{res_createstore['datastoreId']}-DicomImport-{res_startimportjob['jobId']}/job-output-manifest.json\")\n",
    "    if response['ResponseMetadata']['HTTPStatusCode'] == 200:\n",
    "        data = s3.get_object(Bucket=OutputBucketName, Key=f\"output/{res_createstore['datastoreId']}-DicomImport-{res_startimportjob['jobId']}/SUCCESS/success.ndjson\")\n",
    "        contents = data['Body'].read().decode(\"utf-8\")\n",
    "        for l in contents.splitlines():\n",
    "            isid = json.loads(l)['importResponse']['imageSetId']\n",
    "            if isid in imageSetIds:\n",
    "                imageSetIds[isid]+=1\n",
    "            else:\n",
    "                imageSetIds[isid]=1\n",
    "except ClientError:\n",
    "    pass\n",
    "\n",
    "imageSetIds"
   ]
  },
  {
   "cell_type": "markdown",
   "id": "73b8013c-e485-4ebb-9cd5-3abadc0e0326",
   "metadata": {},
   "source": [
    "### Retrieve DICOM Header for the Given ImageSet"
   ]
  },
  {
   "cell_type": "code",
   "execution_count": 9,
   "id": "848f6aa5-3b7d-42ca-aece-e9d685672fec",
   "metadata": {},
   "outputs": [
    {
     "name": "stderr",
     "output_type": "stream",
     "text": [
      "INFO:root:Metadata fetch  : 600.6484031677246 ms\n"
     ]
    }
   ],
   "source": [
    "patients = []\n",
    "studies = []\n",
    "seriess = []\n",
    "for s in imageSetIds.keys():\n",
    "    json_dicom_header = medicalimaging.getMetadata(datastoreId, s)\n",
    "    patientjson = json_dicom_header['Patient']['DICOM']\n",
    "    studyjson = json_dicom_header['Study']['DICOM']\n",
    "    patientjson['ImageSetID'] = json_dicom_header['ImageSetID']\n",
    "    studyjson['ImageSetID'] = json_dicom_header['ImageSetID']\n",
    "    patients.append(patientjson)\n",
    "    studies.append(studyjson)\n",
    "    for s in list(json_dicom_header['Study']['Series'].keys()):\n",
    "        seriesjson = json_dicom_header['Study']['Series'][s]['DICOM']\n",
    "        seriesjson['ImageSetID'] = json_dicom_header['ImageSetID']\n",
    "        seriess.append(seriesjson)\n",
    "    \n",
    "df_patients = pd.json_normalize(patients)\n",
    "df_studies = pd.json_normalize(studies)\n",
    "df_seriess = pd.json_normalize(seriess)"
   ]
  },
  {
   "cell_type": "code",
   "execution_count": 10,
   "id": "17526220-b5ca-4ebe-8cf8-5889a8aa377b",
   "metadata": {},
   "outputs": [
    {
     "data": {
      "text/html": [
       "<div>\n",
       "<style scoped>\n",
       "    .dataframe tbody tr th:only-of-type {\n",
       "        vertical-align: middle;\n",
       "    }\n",
       "\n",
       "    .dataframe tbody tr th {\n",
       "        vertical-align: top;\n",
       "    }\n",
       "\n",
       "    .dataframe thead th {\n",
       "        text-align: right;\n",
       "    }\n",
       "</style>\n",
       "<table border=\"1\" class=\"dataframe\">\n",
       "  <thead>\n",
       "    <tr style=\"text-align: right;\">\n",
       "      <th></th>\n",
       "      <th>PatientBirthDate</th>\n",
       "      <th>PatientSex</th>\n",
       "      <th>EthnicGroup</th>\n",
       "      <th>PatientID</th>\n",
       "      <th>DeidentificationMethod</th>\n",
       "      <th>PatientName</th>\n",
       "      <th>DeidentificationMethodCodeSequence</th>\n",
       "      <th>PatientIdentityRemoved</th>\n",
       "      <th>ImageSetID</th>\n",
       "    </tr>\n",
       "  </thead>\n",
       "  <tbody>\n",
       "    <tr>\n",
       "      <th>0</th>\n",
       "      <td>None</td>\n",
       "      <td>M</td>\n",
       "      <td>8</td>\n",
       "      <td>C3N-00198</td>\n",
       "      <td>[Per DICOM PS 3.15 AnnexE. Details in 0012,0064]</td>\n",
       "      <td>C3N-00198</td>\n",
       "      <td>[{'CodeMeaning': 'Basic Application Confidenti...</td>\n",
       "      <td>YES</td>\n",
       "      <td>51c02682b81d47aff703df4add0e3ce8</td>\n",
       "    </tr>\n",
       "  </tbody>\n",
       "</table>\n",
       "</div>"
      ],
      "text/plain": [
       "  PatientBirthDate PatientSex EthnicGroup  PatientID  \\\n",
       "0             None          M           8  C3N-00198   \n",
       "\n",
       "                             DeidentificationMethod PatientName  \\\n",
       "0  [Per DICOM PS 3.15 AnnexE. Details in 0012,0064]   C3N-00198   \n",
       "\n",
       "                  DeidentificationMethodCodeSequence PatientIdentityRemoved  \\\n",
       "0  [{'CodeMeaning': 'Basic Application Confidenti...                    YES   \n",
       "\n",
       "                         ImageSetID  \n",
       "0  51c02682b81d47aff703df4add0e3ce8  "
      ]
     },
     "execution_count": 10,
     "metadata": {},
     "output_type": "execute_result"
    }
   ],
   "source": [
    "df_patients"
   ]
  },
  {
   "cell_type": "code",
   "execution_count": 11,
   "id": "7e2f12be-5760-4a64-b62b-b377b251b0e4",
   "metadata": {},
   "outputs": [
    {
     "name": "stdout",
     "output_type": "stream",
     "text": [
      "Stored 'datastoreId' (str)\n",
      "Stored 'imageSetIds' (dict)\n"
     ]
    }
   ],
   "source": [
    "%store datastoreId\n",
    "%store imageSetIds"
   ]
  },
  {
   "cell_type": "markdown",
   "id": "08780a51-4abd-4b0a-8fd4-040ecfadfe69",
   "metadata": {},
   "source": [
    "### Clean Up"
   ]
  },
  {
   "cell_type": "code",
   "execution_count": 23,
   "id": "8a2c80d7-1978-4d95-9783-6c808c17e632",
   "metadata": {},
   "outputs": [],
   "source": [
    "# try:\n",
    "#     s3res = boto3.resource('s3')\n",
    "#     bucket = s3res.Bucket(InputBucketName)\n",
    "#     bucket.object_versions.delete()\n",
    "#     s3.delete_bucket(Bucket=InputBucketName)\n",
    "#     bucket = s3res.Bucket(OutputBucketName)\n",
    "#     bucket.object_versions.delete()\n",
    "#     s3.delete_bucket(Bucket=OutputBucketName)\n",
    "# except ClientError  as e:\n",
    "#     if e.response['Error']['Code'] == 'NoSuchBucket':\n",
    "#         print(\"Bucket already deleted\")\n",
    "    \n",
    "# try: \n",
    "#     resp = iam.detach_role_policy(PolicyArn=respons_createpolicy['Policy']['Arn'],RoleName=response_createrole['Role']['RoleName'])\n",
    "#     resp = iam.delete_policy(PolicyArn=respons_createpolicy['Policy']['Arn'])\n",
    "#     resp = iam.delete_role(RoleName=response_createrole['Role']['RoleName'])\n",
    "# except ClientError as ee:\n",
    "#     if ee.response['Error']['Code'] == 'NoSuchEntity':\n",
    "#         print(\"Policy not attached, ignore\")\n",
    "#     else: \n",
    "#         print(ee)\n"
   ]
  },
  {
   "cell_type": "code",
   "execution_count": null,
   "id": "ea376104-dcff-4262-abf2-7fdb450e411b",
   "metadata": {},
   "outputs": [],
   "source": []
  }
 ],
 "metadata": {
  "availableInstances": [
   {
    "_defaultOrder": 0,
    "_isFastLaunch": true,
    "category": "General purpose",
    "gpuNum": 0,
    "hideHardwareSpecs": false,
    "memoryGiB": 4,
    "name": "ml.t3.medium",
    "vcpuNum": 2
   },
   {
    "_defaultOrder": 1,
    "_isFastLaunch": false,
    "category": "General purpose",
    "gpuNum": 0,
    "hideHardwareSpecs": false,
    "memoryGiB": 8,
    "name": "ml.t3.large",
    "vcpuNum": 2
   },
   {
    "_defaultOrder": 2,
    "_isFastLaunch": false,
    "category": "General purpose",
    "gpuNum": 0,
    "hideHardwareSpecs": false,
    "memoryGiB": 16,
    "name": "ml.t3.xlarge",
    "vcpuNum": 4
   },
   {
    "_defaultOrder": 3,
    "_isFastLaunch": false,
    "category": "General purpose",
    "gpuNum": 0,
    "hideHardwareSpecs": false,
    "memoryGiB": 32,
    "name": "ml.t3.2xlarge",
    "vcpuNum": 8
   },
   {
    "_defaultOrder": 4,
    "_isFastLaunch": true,
    "category": "General purpose",
    "gpuNum": 0,
    "hideHardwareSpecs": false,
    "memoryGiB": 8,
    "name": "ml.m5.large",
    "vcpuNum": 2
   },
   {
    "_defaultOrder": 5,
    "_isFastLaunch": false,
    "category": "General purpose",
    "gpuNum": 0,
    "hideHardwareSpecs": false,
    "memoryGiB": 16,
    "name": "ml.m5.xlarge",
    "vcpuNum": 4
   },
   {
    "_defaultOrder": 6,
    "_isFastLaunch": false,
    "category": "General purpose",
    "gpuNum": 0,
    "hideHardwareSpecs": false,
    "memoryGiB": 32,
    "name": "ml.m5.2xlarge",
    "vcpuNum": 8
   },
   {
    "_defaultOrder": 7,
    "_isFastLaunch": false,
    "category": "General purpose",
    "gpuNum": 0,
    "hideHardwareSpecs": false,
    "memoryGiB": 64,
    "name": "ml.m5.4xlarge",
    "vcpuNum": 16
   },
   {
    "_defaultOrder": 8,
    "_isFastLaunch": false,
    "category": "General purpose",
    "gpuNum": 0,
    "hideHardwareSpecs": false,
    "memoryGiB": 128,
    "name": "ml.m5.8xlarge",
    "vcpuNum": 32
   },
   {
    "_defaultOrder": 9,
    "_isFastLaunch": false,
    "category": "General purpose",
    "gpuNum": 0,
    "hideHardwareSpecs": false,
    "memoryGiB": 192,
    "name": "ml.m5.12xlarge",
    "vcpuNum": 48
   },
   {
    "_defaultOrder": 10,
    "_isFastLaunch": false,
    "category": "General purpose",
    "gpuNum": 0,
    "hideHardwareSpecs": false,
    "memoryGiB": 256,
    "name": "ml.m5.16xlarge",
    "vcpuNum": 64
   },
   {
    "_defaultOrder": 11,
    "_isFastLaunch": false,
    "category": "General purpose",
    "gpuNum": 0,
    "hideHardwareSpecs": false,
    "memoryGiB": 384,
    "name": "ml.m5.24xlarge",
    "vcpuNum": 96
   },
   {
    "_defaultOrder": 12,
    "_isFastLaunch": false,
    "category": "General purpose",
    "gpuNum": 0,
    "hideHardwareSpecs": false,
    "memoryGiB": 8,
    "name": "ml.m5d.large",
    "vcpuNum": 2
   },
   {
    "_defaultOrder": 13,
    "_isFastLaunch": false,
    "category": "General purpose",
    "gpuNum": 0,
    "hideHardwareSpecs": false,
    "memoryGiB": 16,
    "name": "ml.m5d.xlarge",
    "vcpuNum": 4
   },
   {
    "_defaultOrder": 14,
    "_isFastLaunch": false,
    "category": "General purpose",
    "gpuNum": 0,
    "hideHardwareSpecs": false,
    "memoryGiB": 32,
    "name": "ml.m5d.2xlarge",
    "vcpuNum": 8
   },
   {
    "_defaultOrder": 15,
    "_isFastLaunch": false,
    "category": "General purpose",
    "gpuNum": 0,
    "hideHardwareSpecs": false,
    "memoryGiB": 64,
    "name": "ml.m5d.4xlarge",
    "vcpuNum": 16
   },
   {
    "_defaultOrder": 16,
    "_isFastLaunch": false,
    "category": "General purpose",
    "gpuNum": 0,
    "hideHardwareSpecs": false,
    "memoryGiB": 128,
    "name": "ml.m5d.8xlarge",
    "vcpuNum": 32
   },
   {
    "_defaultOrder": 17,
    "_isFastLaunch": false,
    "category": "General purpose",
    "gpuNum": 0,
    "hideHardwareSpecs": false,
    "memoryGiB": 192,
    "name": "ml.m5d.12xlarge",
    "vcpuNum": 48
   },
   {
    "_defaultOrder": 18,
    "_isFastLaunch": false,
    "category": "General purpose",
    "gpuNum": 0,
    "hideHardwareSpecs": false,
    "memoryGiB": 256,
    "name": "ml.m5d.16xlarge",
    "vcpuNum": 64
   },
   {
    "_defaultOrder": 19,
    "_isFastLaunch": false,
    "category": "General purpose",
    "gpuNum": 0,
    "hideHardwareSpecs": false,
    "memoryGiB": 384,
    "name": "ml.m5d.24xlarge",
    "vcpuNum": 96
   },
   {
    "_defaultOrder": 20,
    "_isFastLaunch": false,
    "category": "General purpose",
    "gpuNum": 0,
    "hideHardwareSpecs": true,
    "memoryGiB": 0,
    "name": "ml.geospatial.interactive",
    "supportedImageNames": [
     "sagemaker-geospatial-v1-0"
    ],
    "vcpuNum": 0
   },
   {
    "_defaultOrder": 21,
    "_isFastLaunch": true,
    "category": "Compute optimized",
    "gpuNum": 0,
    "hideHardwareSpecs": false,
    "memoryGiB": 4,
    "name": "ml.c5.large",
    "vcpuNum": 2
   },
   {
    "_defaultOrder": 22,
    "_isFastLaunch": false,
    "category": "Compute optimized",
    "gpuNum": 0,
    "hideHardwareSpecs": false,
    "memoryGiB": 8,
    "name": "ml.c5.xlarge",
    "vcpuNum": 4
   },
   {
    "_defaultOrder": 23,
    "_isFastLaunch": false,
    "category": "Compute optimized",
    "gpuNum": 0,
    "hideHardwareSpecs": false,
    "memoryGiB": 16,
    "name": "ml.c5.2xlarge",
    "vcpuNum": 8
   },
   {
    "_defaultOrder": 24,
    "_isFastLaunch": false,
    "category": "Compute optimized",
    "gpuNum": 0,
    "hideHardwareSpecs": false,
    "memoryGiB": 32,
    "name": "ml.c5.4xlarge",
    "vcpuNum": 16
   },
   {
    "_defaultOrder": 25,
    "_isFastLaunch": false,
    "category": "Compute optimized",
    "gpuNum": 0,
    "hideHardwareSpecs": false,
    "memoryGiB": 72,
    "name": "ml.c5.9xlarge",
    "vcpuNum": 36
   },
   {
    "_defaultOrder": 26,
    "_isFastLaunch": false,
    "category": "Compute optimized",
    "gpuNum": 0,
    "hideHardwareSpecs": false,
    "memoryGiB": 96,
    "name": "ml.c5.12xlarge",
    "vcpuNum": 48
   },
   {
    "_defaultOrder": 27,
    "_isFastLaunch": false,
    "category": "Compute optimized",
    "gpuNum": 0,
    "hideHardwareSpecs": false,
    "memoryGiB": 144,
    "name": "ml.c5.18xlarge",
    "vcpuNum": 72
   },
   {
    "_defaultOrder": 28,
    "_isFastLaunch": false,
    "category": "Compute optimized",
    "gpuNum": 0,
    "hideHardwareSpecs": false,
    "memoryGiB": 192,
    "name": "ml.c5.24xlarge",
    "vcpuNum": 96
   },
   {
    "_defaultOrder": 29,
    "_isFastLaunch": true,
    "category": "Accelerated computing",
    "gpuNum": 1,
    "hideHardwareSpecs": false,
    "memoryGiB": 16,
    "name": "ml.g4dn.xlarge",
    "vcpuNum": 4
   },
   {
    "_defaultOrder": 30,
    "_isFastLaunch": false,
    "category": "Accelerated computing",
    "gpuNum": 1,
    "hideHardwareSpecs": false,
    "memoryGiB": 32,
    "name": "ml.g4dn.2xlarge",
    "vcpuNum": 8
   },
   {
    "_defaultOrder": 31,
    "_isFastLaunch": false,
    "category": "Accelerated computing",
    "gpuNum": 1,
    "hideHardwareSpecs": false,
    "memoryGiB": 64,
    "name": "ml.g4dn.4xlarge",
    "vcpuNum": 16
   },
   {
    "_defaultOrder": 32,
    "_isFastLaunch": false,
    "category": "Accelerated computing",
    "gpuNum": 1,
    "hideHardwareSpecs": false,
    "memoryGiB": 128,
    "name": "ml.g4dn.8xlarge",
    "vcpuNum": 32
   },
   {
    "_defaultOrder": 33,
    "_isFastLaunch": false,
    "category": "Accelerated computing",
    "gpuNum": 4,
    "hideHardwareSpecs": false,
    "memoryGiB": 192,
    "name": "ml.g4dn.12xlarge",
    "vcpuNum": 48
   },
   {
    "_defaultOrder": 34,
    "_isFastLaunch": false,
    "category": "Accelerated computing",
    "gpuNum": 1,
    "hideHardwareSpecs": false,
    "memoryGiB": 256,
    "name": "ml.g4dn.16xlarge",
    "vcpuNum": 64
   },
   {
    "_defaultOrder": 35,
    "_isFastLaunch": false,
    "category": "Accelerated computing",
    "gpuNum": 1,
    "hideHardwareSpecs": false,
    "memoryGiB": 61,
    "name": "ml.p3.2xlarge",
    "vcpuNum": 8
   },
   {
    "_defaultOrder": 36,
    "_isFastLaunch": false,
    "category": "Accelerated computing",
    "gpuNum": 4,
    "hideHardwareSpecs": false,
    "memoryGiB": 244,
    "name": "ml.p3.8xlarge",
    "vcpuNum": 32
   },
   {
    "_defaultOrder": 37,
    "_isFastLaunch": false,
    "category": "Accelerated computing",
    "gpuNum": 8,
    "hideHardwareSpecs": false,
    "memoryGiB": 488,
    "name": "ml.p3.16xlarge",
    "vcpuNum": 64
   },
   {
    "_defaultOrder": 38,
    "_isFastLaunch": false,
    "category": "Accelerated computing",
    "gpuNum": 8,
    "hideHardwareSpecs": false,
    "memoryGiB": 768,
    "name": "ml.p3dn.24xlarge",
    "vcpuNum": 96
   },
   {
    "_defaultOrder": 39,
    "_isFastLaunch": false,
    "category": "Memory Optimized",
    "gpuNum": 0,
    "hideHardwareSpecs": false,
    "memoryGiB": 16,
    "name": "ml.r5.large",
    "vcpuNum": 2
   },
   {
    "_defaultOrder": 40,
    "_isFastLaunch": false,
    "category": "Memory Optimized",
    "gpuNum": 0,
    "hideHardwareSpecs": false,
    "memoryGiB": 32,
    "name": "ml.r5.xlarge",
    "vcpuNum": 4
   },
   {
    "_defaultOrder": 41,
    "_isFastLaunch": false,
    "category": "Memory Optimized",
    "gpuNum": 0,
    "hideHardwareSpecs": false,
    "memoryGiB": 64,
    "name": "ml.r5.2xlarge",
    "vcpuNum": 8
   },
   {
    "_defaultOrder": 42,
    "_isFastLaunch": false,
    "category": "Memory Optimized",
    "gpuNum": 0,
    "hideHardwareSpecs": false,
    "memoryGiB": 128,
    "name": "ml.r5.4xlarge",
    "vcpuNum": 16
   },
   {
    "_defaultOrder": 43,
    "_isFastLaunch": false,
    "category": "Memory Optimized",
    "gpuNum": 0,
    "hideHardwareSpecs": false,
    "memoryGiB": 256,
    "name": "ml.r5.8xlarge",
    "vcpuNum": 32
   },
   {
    "_defaultOrder": 44,
    "_isFastLaunch": false,
    "category": "Memory Optimized",
    "gpuNum": 0,
    "hideHardwareSpecs": false,
    "memoryGiB": 384,
    "name": "ml.r5.12xlarge",
    "vcpuNum": 48
   },
   {
    "_defaultOrder": 45,
    "_isFastLaunch": false,
    "category": "Memory Optimized",
    "gpuNum": 0,
    "hideHardwareSpecs": false,
    "memoryGiB": 512,
    "name": "ml.r5.16xlarge",
    "vcpuNum": 64
   },
   {
    "_defaultOrder": 46,
    "_isFastLaunch": false,
    "category": "Memory Optimized",
    "gpuNum": 0,
    "hideHardwareSpecs": false,
    "memoryGiB": 768,
    "name": "ml.r5.24xlarge",
    "vcpuNum": 96
   },
   {
    "_defaultOrder": 47,
    "_isFastLaunch": false,
    "category": "Accelerated computing",
    "gpuNum": 1,
    "hideHardwareSpecs": false,
    "memoryGiB": 16,
    "name": "ml.g5.xlarge",
    "vcpuNum": 4
   },
   {
    "_defaultOrder": 48,
    "_isFastLaunch": false,
    "category": "Accelerated computing",
    "gpuNum": 1,
    "hideHardwareSpecs": false,
    "memoryGiB": 32,
    "name": "ml.g5.2xlarge",
    "vcpuNum": 8
   },
   {
    "_defaultOrder": 49,
    "_isFastLaunch": false,
    "category": "Accelerated computing",
    "gpuNum": 1,
    "hideHardwareSpecs": false,
    "memoryGiB": 64,
    "name": "ml.g5.4xlarge",
    "vcpuNum": 16
   },
   {
    "_defaultOrder": 50,
    "_isFastLaunch": false,
    "category": "Accelerated computing",
    "gpuNum": 1,
    "hideHardwareSpecs": false,
    "memoryGiB": 128,
    "name": "ml.g5.8xlarge",
    "vcpuNum": 32
   },
   {
    "_defaultOrder": 51,
    "_isFastLaunch": false,
    "category": "Accelerated computing",
    "gpuNum": 1,
    "hideHardwareSpecs": false,
    "memoryGiB": 256,
    "name": "ml.g5.16xlarge",
    "vcpuNum": 64
   },
   {
    "_defaultOrder": 52,
    "_isFastLaunch": false,
    "category": "Accelerated computing",
    "gpuNum": 4,
    "hideHardwareSpecs": false,
    "memoryGiB": 192,
    "name": "ml.g5.12xlarge",
    "vcpuNum": 48
   },
   {
    "_defaultOrder": 53,
    "_isFastLaunch": false,
    "category": "Accelerated computing",
    "gpuNum": 4,
    "hideHardwareSpecs": false,
    "memoryGiB": 384,
    "name": "ml.g5.24xlarge",
    "vcpuNum": 96
   },
   {
    "_defaultOrder": 54,
    "_isFastLaunch": false,
    "category": "Accelerated computing",
    "gpuNum": 8,
    "hideHardwareSpecs": false,
    "memoryGiB": 768,
    "name": "ml.g5.48xlarge",
    "vcpuNum": 192
   },
   {
    "_defaultOrder": 55,
    "_isFastLaunch": false,
    "category": "Accelerated computing",
    "gpuNum": 8,
    "hideHardwareSpecs": false,
    "memoryGiB": 1152,
    "name": "ml.p4d.24xlarge",
    "vcpuNum": 96
   },
   {
    "_defaultOrder": 56,
    "_isFastLaunch": false,
    "category": "Accelerated computing",
    "gpuNum": 8,
    "hideHardwareSpecs": false,
    "memoryGiB": 1152,
    "name": "ml.p4de.24xlarge",
    "vcpuNum": 96
   }
  ],
  "instance_type": "ml.t3.medium",
  "kernelspec": {
   "display_name": "Python 3 (PyTorch 1.12 Python 3.8 CPU Optimized)",
   "language": "python",
   "name": "python3__SAGEMAKER_INTERNAL__arn:aws:sagemaker:us-east-1:081325390199:image/pytorch-1.12-cpu-py38"
  },
  "language_info": {
   "codemirror_mode": {
    "name": "ipython",
    "version": 3
   },
   "file_extension": ".py",
   "mimetype": "text/x-python",
   "name": "python",
   "nbconvert_exporter": "python",
   "pygments_lexer": "ipython3",
   "version": "3.8.16"
  }
 },
 "nbformat": 4,
 "nbformat_minor": 5
}
