{
 "cells": [
  {
   "cell_type": "code",
   "execution_count": null,
   "id": "20cfd445-dbb4-4e2a-b2a2-d6caeebaff0f",
   "metadata": {
    "tags": []
   },
   "outputs": [],
   "source": [
    "import boto3, json, sagemaker\n",
    "from sagemaker import get_execution_role\n",
    "from pathlib import Path\n",
    "\n",
    "sess = boto3.Session()\n",
    "sm_client = sess.client(\"sagemaker\")\n",
    "sagemaker_session = sagemaker.Session(boto_session=sess)\n",
    "bucket = sagemaker_session.default_bucket()\n",
    "runtime_sm_client = boto3.client(\"sagemaker-runtime\")\n",
    "region = sess.region_name\n",
    "sts_client = sess.client('sts')\n",
    "account_id = sts_client.get_caller_identity()['Account']"
   ]
  },
  {
   "cell_type": "code",
   "execution_count": null,
   "id": "5ebf9be8-e076-4906-aa6d-0da9dcd2b7a8",
   "metadata": {
    "tags": []
   },
   "outputs": [],
   "source": [
    "NGC_API_KEY = \"\"\n",
    "SRC_IMAGE_PATH=\"nvcr.io/nvidia/nim/medical_imaging_vista3d:24.03\"\n",
    "SRC_IMAGE_NAME=\"medical_imaging_vista3d\"\n",
    "DST_REPO_NAME=\"nim-shim\"\n",
    "DST_REGISTRY=f\"{account_id}.dkr.ecr.{region}.amazonaws.com/{DST_REPO_NAME}\""
   ]
  },
  {
   "cell_type": "markdown",
   "id": "3a772793-e617-4c2e-b844-befe3cf01c3c",
   "metadata": {},
   "source": [
    "## Build customized container and push to ECR"
   ]
  },
  {
   "cell_type": "code",
   "execution_count": null,
   "id": "5fcecb7d-f1f8-43ae-b55a-d640e2ea6f5f",
   "metadata": {
    "tags": []
   },
   "outputs": [],
   "source": [
    "# login NGC to download NIM container\n",
    "!echo $NGC_API_KEY | docker login nvcr.io --username '$oauthtoken' --password-stdin"
   ]
  },
  {
   "cell_type": "code",
   "execution_count": null,
   "id": "42130836-ed4e-4fd3-b502-91a4a933b7e7",
   "metadata": {
    "tags": []
   },
   "outputs": [],
   "source": [
    "%%bash\n",
    "\n",
    "sudo chown ec2-user /home/ec2-user/SageMaker/lost+found\n",
    "\n",
    "account=$(aws sts get-caller-identity --query Account --output text)\n",
    "region=$(aws configure get region)\n",
    "repo_name=\"nim-shim\"\n",
    "image_name=\"medical_imaging_vista3d\"\n",
    "fullname=\"${account}.dkr.ecr.${region}.amazonaws.com/${repo_name}:${image_name}\"\n",
    "echo \"ECR image fullname is: $fullname\"\n",
    "\n",
    "# # If the repository doesn't exist in ECR, create it.\n",
    "aws ecr describe-repositories --repository-names \"${repo_name}\" > /dev/null 2>&1\n",
    "\n",
    "if [ $? -ne 0 ]\n",
    "then\n",
    "    aws ecr create-repository --repository-name \"${repo_name}\" > /dev/null\n",
    "fi\n",
    "\n",
    "# Get the login command from ECR and execute it directly\n",
    "$(aws ecr get-login --region ${region} --no-include-email)\n",
    "\n",
    "echo \"Building container\"\n",
    "docker build --quiet -t ${fullname} .\n",
    "\n",
    "echo \"Container is built, pushing container to ECR\"\n",
    "docker push --quiet ${fullname}"
   ]
  },
  {
   "cell_type": "code",
   "execution_count": null,
   "id": "ea1efb53-b632-493c-976f-e7482d11db47",
   "metadata": {
    "tags": []
   },
   "outputs": [],
   "source": [
    "%%bash\n",
    " \n",
    "wget -q --content-disposition https://api.ngc.nvidia.com/v2/resources/nvidia/ngc-apps/ngc_cli/versions/3.41.3/files/ngccli_linux.zip -O ~/ngccli_linux.zip && \\\n",
    "unzip -qq -o ~/ngccli_linux.zip -d ~/ngc && \\\n",
    "chmod u+x ~/ngc/ngc-cli/ngc && \\\n",
    "echo \"export PATH=\\\"\\$PATH:~/ngc/ngc-cli\\\"\" >> ~/.bash_profile\n"
   ]
  },
  {
   "cell_type": "markdown",
   "id": "2e10d9dc-ad36-42df-b603-8fb20fae5bde",
   "metadata": {
    "tags": []
   },
   "source": [
    "Run the following command to configure NGC on terminal\n",
    "```bash\n",
    "source ~/.bash_profile\n",
    "ngc config set\n",
    "\n",
    "```\n",
    "Then download model files and weights"
   ]
  },
  {
   "cell_type": "markdown",
   "id": "6f145990-9023-4f79-9176-ca0493e683c3",
   "metadata": {},
   "source": [
    "## Create SageMaker inference endpoint"
   ]
  },
  {
   "cell_type": "code",
   "execution_count": null,
   "id": "27f36b94-5bd1-455e-a8fa-b169454ad725",
   "metadata": {
    "tags": []
   },
   "outputs": [],
   "source": [
    "role = get_execution_role(sagemaker_session=sagemaker_session)\n",
    "model_name = 'nim-llm-medical-image-vista3d'\n",
    "container_image = f\"{DST_REGISTRY}:{SRC_IMAGE_NAME}\"\n",
    "instance_type = 'ml.g5.2xlarge'\n",
    "SG_CONTAINER_STARTUP_TIMEOUT=850"
   ]
  },
  {
   "cell_type": "code",
   "execution_count": null,
   "id": "659ad71b-b42e-4a0c-84c5-476c22e30407",
   "metadata": {
    "tags": []
   },
   "outputs": [],
   "source": [
    "container = {\n",
    "    \"Image\": container_image,\n",
    "    \"Mode\": \"SingleModel\",\n",
    "    \"Environment\": {\n",
    "        \"NGC_API_KEY\": NGC_API_KEY,\n",
    "        \"MODEL_PATH\": \"/opt/ml/model\"\n",
    "    }\n",
    "}"
   ]
  },
  {
   "cell_type": "code",
   "execution_count": null,
   "id": "c68d01e7-4483-414a-8540-96ce2488b0ac",
   "metadata": {
    "tags": []
   },
   "outputs": [],
   "source": [
    "create_model_response = sm_client.create_model(\n",
    "    ModelName = model_name,\n",
    "    ExecutionRoleArn = role,\n",
    "    Containers = [container]\n",
    ")"
   ]
  },
  {
   "cell_type": "code",
   "execution_count": null,
   "id": "4732eb71-f0cc-4df6-a82f-f65db2cd6763",
   "metadata": {
    "tags": []
   },
   "outputs": [],
   "source": [
    "# real time endpoint\n",
    "endpoint_config_name = model_name + '-realtime-config'\n",
    "endpoint_config_response = sm_client.create_endpoint_config(\n",
    "    EndpointConfigName = endpoint_config_name, \n",
    "    ProductionVariants = [\n",
    "        {\n",
    "            \"VariantName\": \"AllTraffic\",\n",
    "            \"ModelName\": model_name, \n",
    "            \"InstanceType\": instance_type,\n",
    "            \"InitialInstanceCount\": 1,\n",
    "            \"InitialVariantWeight\": 1.0,\n",
    "            \"ContainerStartupHealthCheckTimeoutInSeconds\": SG_CONTAINER_STARTUP_TIMEOUT\n",
    "        }\n",
    "    ]\n",
    ")"
   ]
  },
  {
   "cell_type": "code",
   "execution_count": null,
   "id": "1c2783ff-e506-4518-a898-117fa3458be5",
   "metadata": {
    "tags": []
   },
   "outputs": [],
   "source": [
    "endpoint_name = model_name + '-realtime-endpoint'\n",
    "create_endpoint_response = sm_client.create_endpoint(\n",
    "    EndpointName=endpoint_name,\n",
    "    EndpointConfigName=endpoint_config_name\n",
    ")"
   ]
  },
  {
   "cell_type": "code",
   "execution_count": null,
   "id": "42e28110-9e7d-4110-8ae2-43caafc4c28b",
   "metadata": {
    "tags": []
   },
   "outputs": [],
   "source": [
    "print('Waiting for {} endpoint to be in service...'.format(endpoint_name))\n",
    "waiter = sm_client.get_waiter('endpoint_in_service')\n",
    "waiter.wait(EndpointName=endpoint_name)"
   ]
  },
  {
   "cell_type": "code",
   "execution_count": null,
   "id": "48669969-4ffc-44c7-a2bc-89ff5a9e901a",
   "metadata": {
    "tags": []
   },
   "outputs": [],
   "source": [
    "# invoke real time endpoint\n",
    "payload = {\n",
    "    \"image\": \"https://assets.ngc.nvidia.com/products/api-catalog/vista3d/example-1.nii.gz\",\n",
    "    # \"image\": \"s3://amgenfileshare2024/example-1.nii.gz\",  ## data in s3\n",
    "    # \"image\": \"https://dicom-medical-imaging.us-east-1.amazonaws.com/datastore/04607de734384f9a87dc9e8cb0013f12/studies/1.3.6.1.4.1.14519.5.2.1.7085.2626.822645453932810382886582736291/series/1.3.6.1.4.1.14519.5.2.1.7085.2626.119403521930927333027265674239/instances/1.3.6.1.4.1.14519.5.2.1.7085.2626.126237574085706868619012301210?imageSetId=a762adc9861764a64d4118336586f520\", ## AWS HealthImaging getDICOMinstance\n",
    "    # \"image\": \"ahi://04607de734384f9a87dc9e8cb0013f12/a762adc9861764a64d4118336586f520\",   ## AWS HealthImaging get imageset\n",
    "    \"prompts\": {\n",
    "        \"classes\": [\"liver\", \"spleen\"]\n",
    "    }\n",
    "}\n",
    "response = runtime_sm_client.invoke_endpoint(\n",
    "    EndpointName=endpoint_name,\n",
    "    Body=json.dumps(payload),\n",
    "    ContentType='application/json',\n",
    "    Accept='application/json'\n",
    ")\n",
    "response"
   ]
  },
  {
   "cell_type": "code",
   "execution_count": null,
   "id": "acbdef42-a15f-47b4-9754-3ed4858da037",
   "metadata": {
    "tags": []
   },
   "outputs": [],
   "source": [
    "# async endpoint\n",
    "async_endpoint_config_name = model_name + '-async-config'\n",
    "endpoint_config_response = sm_client.create_endpoint_config(\n",
    "    EndpointConfigName = async_endpoint_config_name, \n",
    "    ProductionVariants = [\n",
    "        {\n",
    "            \"VariantName\": \"AllTraffic\",\n",
    "            \"ModelName\": model_name, \n",
    "            \"InstanceType\": instance_type,\n",
    "            \"InitialInstanceCount\": 1,\n",
    "            \"InitialVariantWeight\": 1.0,\n",
    "            \"ContainerStartupHealthCheckTimeoutInSeconds\": SG_CONTAINER_STARTUP_TIMEOUT\n",
    "        }\n",
    "    ],\n",
    "    AsyncInferenceConfig={\n",
    "        \"OutputConfig\": {\n",
    "            \"S3OutputPath\": f\"s3://{bucket}/nim/vista3d/output\"\n",
    "        }\n",
    "    }\n",
    ")"
   ]
  },
  {
   "cell_type": "code",
   "execution_count": null,
   "id": "5297e78f-ad56-4f3b-a26b-fc8a88fb5afc",
   "metadata": {
    "tags": []
   },
   "outputs": [],
   "source": [
    "async_endpoint_name = model_name + '-async-endpoint'\n",
    "create_endpoint_response = sm_client.create_endpoint(\n",
    "    EndpointName=async_endpoint_name,\n",
    "    EndpointConfigName=async_endpoint_config_name\n",
    ")"
   ]
  },
  {
   "cell_type": "code",
   "execution_count": null,
   "id": "ef004c1b-00aa-4e37-8fd9-ae2f16e0a00c",
   "metadata": {
    "tags": []
   },
   "outputs": [],
   "source": [
    "print('Waiting for {} endpoint to be in service...'.format(endpoint_name))\n",
    "waiter = sm_client.get_waiter('endpoint_in_service')\n",
    "waiter.wait(EndpointName=async_endpoint_name)"
   ]
  },
  {
   "cell_type": "code",
   "execution_count": null,
   "id": "39e55493-fde6-468f-a322-08b88e401bbd",
   "metadata": {
    "tags": []
   },
   "outputs": [],
   "source": [
    "# invoke async endpoint\n",
    "# Specify the location of the input. You will need to upload sg-invoke-payload.json to the s3 folder/\n",
    "input_location = f\"s3://{bucket}/nim/vista3d/input/sg-invoke-payload.json\"\n",
    "\n",
    "# After you deploy a model into production using SageMaker hosting \n",
    "# services, your client applications use this API to get inferences \n",
    "# from the model hosted at the specified endpoint.\n",
    "response = runtime_sm_client.invoke_endpoint_async(\n",
    "                            EndpointName=async_endpoint_name, \n",
    "                            InputLocation=input_location,\n",
    "                            InvocationTimeoutSeconds=3600)\n",
    "response"
   ]
  },
  {
   "cell_type": "markdown",
   "id": "01c49697-6813-4382-bb68-fe09b0917900",
   "metadata": {},
   "source": [
    "### (Optional) Setup Autoscale policy to scale to 0 instance for the async endpoint"
   ]
  },
  {
   "cell_type": "code",
   "execution_count": null,
   "id": "6a5bcc27-8a2d-424d-a90d-5712c93315f7",
   "metadata": {
    "tags": []
   },
   "outputs": [],
   "source": [
    "# set up scale to 0: https://docs.aws.amazon.com/sagemaker/latest/dg/async-inference-autoscale.html\n",
    "\n",
    "autoscale_client = boto3.client('application-autoscaling')\n",
    "\n",
    "# This is the format in which application autoscaling references the endpoint\n",
    "resource_id=f\"endpoint/{async_endpoint_name}/variant/AllTraffic\"\n",
    "\n",
    "# Define and register your endpoint variant\n",
    "response = autoscale_client.register_scalable_target(\n",
    "    ServiceNamespace='sagemaker', \n",
    "    ResourceId=resource_id,\n",
    "    ScalableDimension='sagemaker:variant:DesiredInstanceCount', # The number of EC2 instances for your Amazon SageMaker model endpoint variant.\n",
    "    MinCapacity=0,\n",
    "    MaxCapacity=2\n",
    ")\n",
    "response"
   ]
  },
  {
   "cell_type": "code",
   "execution_count": null,
   "id": "0987314a-cc86-47a8-b5a7-ccb45d44278b",
   "metadata": {
    "tags": []
   },
   "outputs": [],
   "source": [
    "put_policy_response = autoscale_client.put_scaling_policy(\n",
    "    PolicyName=\"HasBacklogWithoutCapacity-ScalingPolicy\",\n",
    "    ServiceNamespace=\"sagemaker\",  # The namespace of the service that provides the resource.\n",
    "    ResourceId=resource_id,  # Endpoint name\n",
    "    ScalableDimension=\"sagemaker:variant:DesiredInstanceCount\",  # SageMaker supports only Instance Count\n",
    "    PolicyType=\"StepScaling\",  # 'StepScaling' or 'TargetTrackingScaling'\n",
    "    StepScalingPolicyConfiguration={\n",
    "        \"AdjustmentType\": \"ChangeInCapacity\", # Specifies whether the ScalingAdjustment value in the StepAdjustment property is an absolute number or a percentage of the current capacity. \n",
    "        \"MetricAggregationType\": \"Average\", # The aggregation type for the CloudWatch metrics.\n",
    "        \"Cooldown\": 60, # The amount of time, in seconds, to wait for a previous scaling activity to take effect. \n",
    "        \"StepAdjustments\": # A set of adjustments that enable you to scale based on the size of the alarm breach.\n",
    "        [ \n",
    "            {\n",
    "              \"MetricIntervalLowerBound\": 0,\n",
    "              \"ScalingAdjustment\": 1\n",
    "            }\n",
    "          ]\n",
    "    }\n",
    ")\n",
    "put_policy_response"
   ]
  },
  {
   "cell_type": "code",
   "execution_count": null,
   "id": "816a94d5-1cba-4c18-b696-2c57d74f6d2c",
   "metadata": {
    "tags": []
   },
   "outputs": [],
   "source": [
    "cw_client = boto3.client('cloudwatch') \n",
    "\n",
    "response = cw_client.put_metric_alarm(\n",
    "    AlarmName='sagemaker_async_inference_endpoint_step_scaling_policy_alarm',\n",
    "    MetricName='HasBacklogWithoutCapacity',\n",
    "    Namespace='AWS/SageMaker',\n",
    "    Statistic='Average',\n",
    "    EvaluationPeriods= 2,\n",
    "    DatapointsToAlarm= 2,\n",
    "    Threshold= 1,\n",
    "    ComparisonOperator='GreaterThanOrEqualToThreshold',\n",
    "    TreatMissingData='missing',\n",
    "    Dimensions=[\n",
    "        { 'Name':'EndpointName', 'Value': async_endpoint_name },\n",
    "    ],\n",
    "    Period= 60,\n",
    "    AlarmActions=[put_policy_response['PolicyARN']]\n",
    ")\n",
    "response"
   ]
  },
  {
   "cell_type": "markdown",
   "id": "7bc8285e-a448-42ed-bebf-843a76c410c7",
   "metadata": {},
   "source": [
    "## Clean Up"
   ]
  },
  {
   "cell_type": "code",
   "execution_count": null,
   "id": "1a3598a0-49e8-449c-b2a0-250745c914e7",
   "metadata": {},
   "outputs": [],
   "source": [
    "cw_client.delete_alarms(AlarmNames=[\n",
    "    'sagemaker_async_inference_endpoint_step_scaling_policy_alarm',\n",
    "])\n",
    "autoscale_client.delete_scaling_policy(\n",
    "    PolicyName='HasBacklogWithoutCapacity-ScalingPolicy',\n",
    "    ResourceId=resource_id,\n",
    "    ScalableDimension=\"sagemaker:variant:DesiredInstanceCount\",\n",
    "    ServiceNamespace=\"sagemaker\",\n",
    ")\n",
    "sm_client.delete_endpoint(EndpointName=endpoint_name)\n",
    "sm_client.delete_endpoint(EndpointName=async_endpoint_name)\n",
    "sm_client.delete_endpoint_config(EndpointConfigName=endpoint_config_name)\n",
    "sm_client.delete_endpoint_config(EndpointConfigName=async_endpoint_config_name)\n",
    "sm_client.delete_model(ModelName=model_name)"
   ]
  },
  {
   "cell_type": "code",
   "execution_count": null,
   "id": "080088b1-11b6-4e57-b246-a0f0cb21b601",
   "metadata": {},
   "outputs": [],
   "source": []
  }
 ],
 "metadata": {
  "availableInstances": [
   {
    "_defaultOrder": 0,
    "_isFastLaunch": true,
    "category": "General purpose",
    "gpuNum": 0,
    "hideHardwareSpecs": false,
    "memoryGiB": 4,
    "name": "ml.t3.medium",
    "vcpuNum": 2
   },
   {
    "_defaultOrder": 1,
    "_isFastLaunch": false,
    "category": "General purpose",
    "gpuNum": 0,
    "hideHardwareSpecs": false,
    "memoryGiB": 8,
    "name": "ml.t3.large",
    "vcpuNum": 2
   },
   {
    "_defaultOrder": 2,
    "_isFastLaunch": false,
    "category": "General purpose",
    "gpuNum": 0,
    "hideHardwareSpecs": false,
    "memoryGiB": 16,
    "name": "ml.t3.xlarge",
    "vcpuNum": 4
   },
   {
    "_defaultOrder": 3,
    "_isFastLaunch": false,
    "category": "General purpose",
    "gpuNum": 0,
    "hideHardwareSpecs": false,
    "memoryGiB": 32,
    "name": "ml.t3.2xlarge",
    "vcpuNum": 8
   },
   {
    "_defaultOrder": 4,
    "_isFastLaunch": true,
    "category": "General purpose",
    "gpuNum": 0,
    "hideHardwareSpecs": false,
    "memoryGiB": 8,
    "name": "ml.m5.large",
    "vcpuNum": 2
   },
   {
    "_defaultOrder": 5,
    "_isFastLaunch": false,
    "category": "General purpose",
    "gpuNum": 0,
    "hideHardwareSpecs": false,
    "memoryGiB": 16,
    "name": "ml.m5.xlarge",
    "vcpuNum": 4
   },
   {
    "_defaultOrder": 6,
    "_isFastLaunch": false,
    "category": "General purpose",
    "gpuNum": 0,
    "hideHardwareSpecs": false,
    "memoryGiB": 32,
    "name": "ml.m5.2xlarge",
    "vcpuNum": 8
   },
   {
    "_defaultOrder": 7,
    "_isFastLaunch": false,
    "category": "General purpose",
    "gpuNum": 0,
    "hideHardwareSpecs": false,
    "memoryGiB": 64,
    "name": "ml.m5.4xlarge",
    "vcpuNum": 16
   },
   {
    "_defaultOrder": 8,
    "_isFastLaunch": false,
    "category": "General purpose",
    "gpuNum": 0,
    "hideHardwareSpecs": false,
    "memoryGiB": 128,
    "name": "ml.m5.8xlarge",
    "vcpuNum": 32
   },
   {
    "_defaultOrder": 9,
    "_isFastLaunch": false,
    "category": "General purpose",
    "gpuNum": 0,
    "hideHardwareSpecs": false,
    "memoryGiB": 192,
    "name": "ml.m5.12xlarge",
    "vcpuNum": 48
   },
   {
    "_defaultOrder": 10,
    "_isFastLaunch": false,
    "category": "General purpose",
    "gpuNum": 0,
    "hideHardwareSpecs": false,
    "memoryGiB": 256,
    "name": "ml.m5.16xlarge",
    "vcpuNum": 64
   },
   {
    "_defaultOrder": 11,
    "_isFastLaunch": false,
    "category": "General purpose",
    "gpuNum": 0,
    "hideHardwareSpecs": false,
    "memoryGiB": 384,
    "name": "ml.m5.24xlarge",
    "vcpuNum": 96
   },
   {
    "_defaultOrder": 12,
    "_isFastLaunch": false,
    "category": "General purpose",
    "gpuNum": 0,
    "hideHardwareSpecs": false,
    "memoryGiB": 8,
    "name": "ml.m5d.large",
    "vcpuNum": 2
   },
   {
    "_defaultOrder": 13,
    "_isFastLaunch": false,
    "category": "General purpose",
    "gpuNum": 0,
    "hideHardwareSpecs": false,
    "memoryGiB": 16,
    "name": "ml.m5d.xlarge",
    "vcpuNum": 4
   },
   {
    "_defaultOrder": 14,
    "_isFastLaunch": false,
    "category": "General purpose",
    "gpuNum": 0,
    "hideHardwareSpecs": false,
    "memoryGiB": 32,
    "name": "ml.m5d.2xlarge",
    "vcpuNum": 8
   },
   {
    "_defaultOrder": 15,
    "_isFastLaunch": false,
    "category": "General purpose",
    "gpuNum": 0,
    "hideHardwareSpecs": false,
    "memoryGiB": 64,
    "name": "ml.m5d.4xlarge",
    "vcpuNum": 16
   },
   {
    "_defaultOrder": 16,
    "_isFastLaunch": false,
    "category": "General purpose",
    "gpuNum": 0,
    "hideHardwareSpecs": false,
    "memoryGiB": 128,
    "name": "ml.m5d.8xlarge",
    "vcpuNum": 32
   },
   {
    "_defaultOrder": 17,
    "_isFastLaunch": false,
    "category": "General purpose",
    "gpuNum": 0,
    "hideHardwareSpecs": false,
    "memoryGiB": 192,
    "name": "ml.m5d.12xlarge",
    "vcpuNum": 48
   },
   {
    "_defaultOrder": 18,
    "_isFastLaunch": false,
    "category": "General purpose",
    "gpuNum": 0,
    "hideHardwareSpecs": false,
    "memoryGiB": 256,
    "name": "ml.m5d.16xlarge",
    "vcpuNum": 64
   },
   {
    "_defaultOrder": 19,
    "_isFastLaunch": false,
    "category": "General purpose",
    "gpuNum": 0,
    "hideHardwareSpecs": false,
    "memoryGiB": 384,
    "name": "ml.m5d.24xlarge",
    "vcpuNum": 96
   },
   {
    "_defaultOrder": 20,
    "_isFastLaunch": false,
    "category": "General purpose",
    "gpuNum": 0,
    "hideHardwareSpecs": true,
    "memoryGiB": 0,
    "name": "ml.geospatial.interactive",
    "supportedImageNames": [
     "sagemaker-geospatial-v1-0"
    ],
    "vcpuNum": 0
   },
   {
    "_defaultOrder": 21,
    "_isFastLaunch": true,
    "category": "Compute optimized",
    "gpuNum": 0,
    "hideHardwareSpecs": false,
    "memoryGiB": 4,
    "name": "ml.c5.large",
    "vcpuNum": 2
   },
   {
    "_defaultOrder": 22,
    "_isFastLaunch": false,
    "category": "Compute optimized",
    "gpuNum": 0,
    "hideHardwareSpecs": false,
    "memoryGiB": 8,
    "name": "ml.c5.xlarge",
    "vcpuNum": 4
   },
   {
    "_defaultOrder": 23,
    "_isFastLaunch": false,
    "category": "Compute optimized",
    "gpuNum": 0,
    "hideHardwareSpecs": false,
    "memoryGiB": 16,
    "name": "ml.c5.2xlarge",
    "vcpuNum": 8
   },
   {
    "_defaultOrder": 24,
    "_isFastLaunch": false,
    "category": "Compute optimized",
    "gpuNum": 0,
    "hideHardwareSpecs": false,
    "memoryGiB": 32,
    "name": "ml.c5.4xlarge",
    "vcpuNum": 16
   },
   {
    "_defaultOrder": 25,
    "_isFastLaunch": false,
    "category": "Compute optimized",
    "gpuNum": 0,
    "hideHardwareSpecs": false,
    "memoryGiB": 72,
    "name": "ml.c5.9xlarge",
    "vcpuNum": 36
   },
   {
    "_defaultOrder": 26,
    "_isFastLaunch": false,
    "category": "Compute optimized",
    "gpuNum": 0,
    "hideHardwareSpecs": false,
    "memoryGiB": 96,
    "name": "ml.c5.12xlarge",
    "vcpuNum": 48
   },
   {
    "_defaultOrder": 27,
    "_isFastLaunch": false,
    "category": "Compute optimized",
    "gpuNum": 0,
    "hideHardwareSpecs": false,
    "memoryGiB": 144,
    "name": "ml.c5.18xlarge",
    "vcpuNum": 72
   },
   {
    "_defaultOrder": 28,
    "_isFastLaunch": false,
    "category": "Compute optimized",
    "gpuNum": 0,
    "hideHardwareSpecs": false,
    "memoryGiB": 192,
    "name": "ml.c5.24xlarge",
    "vcpuNum": 96
   },
   {
    "_defaultOrder": 29,
    "_isFastLaunch": true,
    "category": "Accelerated computing",
    "gpuNum": 1,
    "hideHardwareSpecs": false,
    "memoryGiB": 16,
    "name": "ml.g4dn.xlarge",
    "vcpuNum": 4
   },
   {
    "_defaultOrder": 30,
    "_isFastLaunch": false,
    "category": "Accelerated computing",
    "gpuNum": 1,
    "hideHardwareSpecs": false,
    "memoryGiB": 32,
    "name": "ml.g4dn.2xlarge",
    "vcpuNum": 8
   },
   {
    "_defaultOrder": 31,
    "_isFastLaunch": false,
    "category": "Accelerated computing",
    "gpuNum": 1,
    "hideHardwareSpecs": false,
    "memoryGiB": 64,
    "name": "ml.g4dn.4xlarge",
    "vcpuNum": 16
   },
   {
    "_defaultOrder": 32,
    "_isFastLaunch": false,
    "category": "Accelerated computing",
    "gpuNum": 1,
    "hideHardwareSpecs": false,
    "memoryGiB": 128,
    "name": "ml.g4dn.8xlarge",
    "vcpuNum": 32
   },
   {
    "_defaultOrder": 33,
    "_isFastLaunch": false,
    "category": "Accelerated computing",
    "gpuNum": 4,
    "hideHardwareSpecs": false,
    "memoryGiB": 192,
    "name": "ml.g4dn.12xlarge",
    "vcpuNum": 48
   },
   {
    "_defaultOrder": 34,
    "_isFastLaunch": false,
    "category": "Accelerated computing",
    "gpuNum": 1,
    "hideHardwareSpecs": false,
    "memoryGiB": 256,
    "name": "ml.g4dn.16xlarge",
    "vcpuNum": 64
   },
   {
    "_defaultOrder": 35,
    "_isFastLaunch": false,
    "category": "Accelerated computing",
    "gpuNum": 1,
    "hideHardwareSpecs": false,
    "memoryGiB": 61,
    "name": "ml.p3.2xlarge",
    "vcpuNum": 8
   },
   {
    "_defaultOrder": 36,
    "_isFastLaunch": false,
    "category": "Accelerated computing",
    "gpuNum": 4,
    "hideHardwareSpecs": false,
    "memoryGiB": 244,
    "name": "ml.p3.8xlarge",
    "vcpuNum": 32
   },
   {
    "_defaultOrder": 37,
    "_isFastLaunch": false,
    "category": "Accelerated computing",
    "gpuNum": 8,
    "hideHardwareSpecs": false,
    "memoryGiB": 488,
    "name": "ml.p3.16xlarge",
    "vcpuNum": 64
   },
   {
    "_defaultOrder": 38,
    "_isFastLaunch": false,
    "category": "Accelerated computing",
    "gpuNum": 8,
    "hideHardwareSpecs": false,
    "memoryGiB": 768,
    "name": "ml.p3dn.24xlarge",
    "vcpuNum": 96
   },
   {
    "_defaultOrder": 39,
    "_isFastLaunch": false,
    "category": "Memory Optimized",
    "gpuNum": 0,
    "hideHardwareSpecs": false,
    "memoryGiB": 16,
    "name": "ml.r5.large",
    "vcpuNum": 2
   },
   {
    "_defaultOrder": 40,
    "_isFastLaunch": false,
    "category": "Memory Optimized",
    "gpuNum": 0,
    "hideHardwareSpecs": false,
    "memoryGiB": 32,
    "name": "ml.r5.xlarge",
    "vcpuNum": 4
   },
   {
    "_defaultOrder": 41,
    "_isFastLaunch": false,
    "category": "Memory Optimized",
    "gpuNum": 0,
    "hideHardwareSpecs": false,
    "memoryGiB": 64,
    "name": "ml.r5.2xlarge",
    "vcpuNum": 8
   },
   {
    "_defaultOrder": 42,
    "_isFastLaunch": false,
    "category": "Memory Optimized",
    "gpuNum": 0,
    "hideHardwareSpecs": false,
    "memoryGiB": 128,
    "name": "ml.r5.4xlarge",
    "vcpuNum": 16
   },
   {
    "_defaultOrder": 43,
    "_isFastLaunch": false,
    "category": "Memory Optimized",
    "gpuNum": 0,
    "hideHardwareSpecs": false,
    "memoryGiB": 256,
    "name": "ml.r5.8xlarge",
    "vcpuNum": 32
   },
   {
    "_defaultOrder": 44,
    "_isFastLaunch": false,
    "category": "Memory Optimized",
    "gpuNum": 0,
    "hideHardwareSpecs": false,
    "memoryGiB": 384,
    "name": "ml.r5.12xlarge",
    "vcpuNum": 48
   },
   {
    "_defaultOrder": 45,
    "_isFastLaunch": false,
    "category": "Memory Optimized",
    "gpuNum": 0,
    "hideHardwareSpecs": false,
    "memoryGiB": 512,
    "name": "ml.r5.16xlarge",
    "vcpuNum": 64
   },
   {
    "_defaultOrder": 46,
    "_isFastLaunch": false,
    "category": "Memory Optimized",
    "gpuNum": 0,
    "hideHardwareSpecs": false,
    "memoryGiB": 768,
    "name": "ml.r5.24xlarge",
    "vcpuNum": 96
   },
   {
    "_defaultOrder": 47,
    "_isFastLaunch": false,
    "category": "Accelerated computing",
    "gpuNum": 1,
    "hideHardwareSpecs": false,
    "memoryGiB": 16,
    "name": "ml.g5.xlarge",
    "vcpuNum": 4
   },
   {
    "_defaultOrder": 48,
    "_isFastLaunch": false,
    "category": "Accelerated computing",
    "gpuNum": 1,
    "hideHardwareSpecs": false,
    "memoryGiB": 32,
    "name": "ml.g5.2xlarge",
    "vcpuNum": 8
   },
   {
    "_defaultOrder": 49,
    "_isFastLaunch": false,
    "category": "Accelerated computing",
    "gpuNum": 1,
    "hideHardwareSpecs": false,
    "memoryGiB": 64,
    "name": "ml.g5.4xlarge",
    "vcpuNum": 16
   },
   {
    "_defaultOrder": 50,
    "_isFastLaunch": false,
    "category": "Accelerated computing",
    "gpuNum": 1,
    "hideHardwareSpecs": false,
    "memoryGiB": 128,
    "name": "ml.g5.8xlarge",
    "vcpuNum": 32
   },
   {
    "_defaultOrder": 51,
    "_isFastLaunch": false,
    "category": "Accelerated computing",
    "gpuNum": 1,
    "hideHardwareSpecs": false,
    "memoryGiB": 256,
    "name": "ml.g5.16xlarge",
    "vcpuNum": 64
   },
   {
    "_defaultOrder": 52,
    "_isFastLaunch": false,
    "category": "Accelerated computing",
    "gpuNum": 4,
    "hideHardwareSpecs": false,
    "memoryGiB": 192,
    "name": "ml.g5.12xlarge",
    "vcpuNum": 48
   },
   {
    "_defaultOrder": 53,
    "_isFastLaunch": false,
    "category": "Accelerated computing",
    "gpuNum": 4,
    "hideHardwareSpecs": false,
    "memoryGiB": 384,
    "name": "ml.g5.24xlarge",
    "vcpuNum": 96
   },
   {
    "_defaultOrder": 54,
    "_isFastLaunch": false,
    "category": "Accelerated computing",
    "gpuNum": 8,
    "hideHardwareSpecs": false,
    "memoryGiB": 768,
    "name": "ml.g5.48xlarge",
    "vcpuNum": 192
   },
   {
    "_defaultOrder": 55,
    "_isFastLaunch": false,
    "category": "Accelerated computing",
    "gpuNum": 8,
    "hideHardwareSpecs": false,
    "memoryGiB": 1152,
    "name": "ml.p4d.24xlarge",
    "vcpuNum": 96
   },
   {
    "_defaultOrder": 56,
    "_isFastLaunch": false,
    "category": "Accelerated computing",
    "gpuNum": 8,
    "hideHardwareSpecs": false,
    "memoryGiB": 1152,
    "name": "ml.p4de.24xlarge",
    "vcpuNum": 96
   },
   {
    "_defaultOrder": 57,
    "_isFastLaunch": false,
    "category": "Accelerated computing",
    "gpuNum": 0,
    "hideHardwareSpecs": false,
    "memoryGiB": 32,
    "name": "ml.trn1.2xlarge",
    "vcpuNum": 8
   },
   {
    "_defaultOrder": 58,
    "_isFastLaunch": false,
    "category": "Accelerated computing",
    "gpuNum": 0,
    "hideHardwareSpecs": false,
    "memoryGiB": 512,
    "name": "ml.trn1.32xlarge",
    "vcpuNum": 128
   },
   {
    "_defaultOrder": 59,
    "_isFastLaunch": false,
    "category": "Accelerated computing",
    "gpuNum": 0,
    "hideHardwareSpecs": false,
    "memoryGiB": 512,
    "name": "ml.trn1n.32xlarge",
    "vcpuNum": 128
   }
  ],
  "instance_type": "ml.g4dn.xlarge",
  "kernelspec": {
   "display_name": "Python 3 (ipykernel)",
   "language": "python",
   "name": "python3"
  },
  "language_info": {
   "codemirror_mode": {
    "name": "ipython",
    "version": 3
   },
   "file_extension": ".py",
   "mimetype": "text/x-python",
   "name": "python",
   "nbconvert_exporter": "python",
   "pygments_lexer": "ipython3",
   "version": "3.11.10"
  }
 },
 "nbformat": 4,
 "nbformat_minor": 5
}
