{
 "cells": [
  {
   "cell_type": "markdown",
   "metadata": {},
   "source": [
    "# Amazon HealthLake Imaging Integrated with MONAI Deploy App SDK \n",
    "\n",
    "In the following sections, we will demonstrate how to create a MONAI Deploy application package using the MONAI Deploy App SDK, which will read data from Amazon HealthLake Imaging\n",
    "\n",
    "## Creating Operators and connecting them in Application class\n",
    "\n",
    "We will implement an application that consists of the new DataLoader Operators:\n",
    "\n",
    "- **AHLIDataLoaderOperator**:\n",
    "    - **Input(json_file)**: a file with Amazon HealthLake Imaging DatastoreId and ImageSetIds to be loaded ([`DataPath`](/modules/_autosummary/monai.deploy.core.domain.DataPath))\n",
    "    - **Output(dicom_study_list)**: a list of DICOM studies in memory (List[[`DICOMStudy`](/modules/_autosummary/monai.deploy.core.domain.DICOMStudy)])\n",
    "\n",
    "\n",
    "\n",
    "This MAP is derived from this tutorial: https://github.com/Project-MONAI/monai-deploy-app-sdk/blob/main/notebooks/tutorials/03_segmentation_app.ipynb\n",
    "\n",
    "### Setup environment\n"
   ]
  },
  {
   "cell_type": "code",
   "execution_count": 9,
   "metadata": {},
   "outputs": [
    {
     "name": "stdout",
     "output_type": "stream",
     "text": [
      "Requirement already satisfied: pip in /opt/conda/lib/python3.8/site-packages (23.2.1)\n",
      "Requirement already satisfied: boto3 in /opt/conda/lib/python3.8/site-packages (1.28.12)\n",
      "Requirement already satisfied: botocore in /opt/conda/lib/python3.8/site-packages (1.31.12)\n",
      "Requirement already satisfied: jmespath<2.0.0,>=0.7.1 in /opt/conda/lib/python3.8/site-packages (from boto3) (1.0.1)\n",
      "Requirement already satisfied: s3transfer<0.7.0,>=0.6.0 in /opt/conda/lib/python3.8/site-packages (from boto3) (0.6.0)\n",
      "Requirement already satisfied: python-dateutil<3.0.0,>=2.1 in /opt/conda/lib/python3.8/site-packages (from botocore) (2.8.2)\n",
      "Requirement already satisfied: urllib3<1.27,>=1.25.4 in /opt/conda/lib/python3.8/site-packages (from botocore) (1.26.14)\n",
      "Requirement already satisfied: six>=1.5 in /opt/conda/lib/python3.8/site-packages (from python-dateutil<3.0.0,>=2.1->botocore) (1.16.0)\n"
     ]
    },
    {
     "name": "stderr",
     "output_type": "stream",
     "text": [
      "WARNING: Running pip as the 'root' user can result in broken permissions and conflicting behaviour with the system package manager. It is recommended to use a virtual environment instead: https://pip.pypa.io/warnings/venv\n",
      "WARNING: Running pip as the 'root' user can result in broken permissions and conflicting behaviour with the system package manager. It is recommended to use a virtual environment instead: https://pip.pypa.io/warnings/venv\n",
      "WARNING: Running pip as the 'root' user can result in broken permissions and conflicting behaviour with the system package manager. It is recommended to use a virtual environment instead: https://pip.pypa.io/warnings/venv\n",
      "WARNING: Running pip as the 'root' user can result in broken permissions and conflicting behaviour with the system package manager. It is recommended to use a virtual environment instead: https://pip.pypa.io/warnings/venv\n",
      "WARNING: Running pip as the 'root' user can result in broken permissions and conflicting behaviour with the system package manager. It is recommended to use a virtual environment instead: https://pip.pypa.io/warnings/venv\n",
      "WARNING: Running pip as the 'root' user can result in broken permissions and conflicting behaviour with the system package manager. It is recommended to use a virtual environment instead: https://pip.pypa.io/warnings/venv\n"
     ]
    }
   ],
   "source": [
    "%%sh\n",
    "pip install --upgrade pip\n",
    "pip install --upgrade boto3 botocore\n",
    "pip install -q \"torch>=1.10.2\" \"numpy>=1.21\" \"nibabel>=3.2.1\" \"pydicom>=1.4.2\" \"highdicom>=0.18.2\" \"SimpleITK>=2.0.0\" \"typeguard>=2.12.1\" \"itk>=5.3rc4\" \"itkwidgets[all]>=1.0a23\"\n",
    "pip install -q tqdm pathlib2 pylibjpeg-openjpeg \n",
    "pip install --upgrade -q \"monai\" \"monai-deploy-app-sdk\" \n",
    "pip install --upgrade -q awscliv2 AHItoDICOMInterface"
   ]
  },
  {
   "cell_type": "code",
   "execution_count": 4,
   "metadata": {},
   "outputs": [],
   "source": [
    "%store -r"
   ]
  },
  {
   "cell_type": "markdown",
   "metadata": {},
   "source": [
    "### Setup imports\n",
    "\n",
    "Let's import necessary classes/decorators to define Application and Operator."
   ]
  },
  {
   "cell_type": "code",
   "execution_count": 5,
   "metadata": {},
   "outputs": [
    {
     "name": "stderr",
     "output_type": "stream",
     "text": [
      "INFO:botocore.credentials:Found credentials in shared credentials file: ~/.aws/credentials\n",
      "Invalid value for VR IS: 'F'. Please see <https://dicom.nema.org/medical/dicom/current/output/html/part05.html#table_6.2-1> for allowed values for each VR.\n"
     ]
    }
   ],
   "source": [
    "import logging\n",
    "import os\n",
    "from os import path\n",
    "from numpy import uint8\n",
    "import boto3\n",
    "import json\n",
    "import monai.deploy.core as md\n",
    "from pydicom.sr.codedict import codes\n",
    "from monai.deploy.core import Application, resource, Image, IOType\n",
    "from monai.deploy.operators.dicom_seg_writer_operator import DICOMSegmentationWriterOperator, SegmentDescription\n",
    "from monai.deploy.operators.dicom_series_selector_operator import DICOMSeriesSelectorOperator\n",
    "from monai.deploy.operators.dicom_series_to_volume_operator import DICOMSeriesToVolumeOperator\n",
    "from monai.deploy.operators.monai_bundle_inference_operator import (\n",
    "    BundleConfigNames,\n",
    "    IOMapping,\n",
    "    MonaiBundleInferenceOperator,\n",
    ")\n",
    "logging.basicConfig( level=logging.INFO )\n",
    "logging.getLogger('AHItoDICOMInterface').setLevel(logging.CRITICAL)\n",
    "\n",
    "# from src.code.Api import MedicalImaging\n",
    "# medicalimaging = MedicalImaging()\n",
    "from src.code.ahi_data_loader_operator import AHLIDataLoaderOperator\n",
    "from AHItoDICOMInterface.AHItoDICOM import AHItoDICOM\n",
    "helper = AHItoDICOM()\n",
    "instances = helper.DICOMizeImageSet(datastore_id=datastoreId , image_set_id=next(iter(imageSetIds)))"
   ]
  },
  {
   "cell_type": "markdown",
   "metadata": {},
   "source": [
    "### Creating Application class\n",
    "\n",
    "Our application class would look like below.\n",
    "\n",
    "It defines `App` class, inheriting [Application](/modules/_autosummary/monai.deploy.core.Application) class.\n",
    "\n",
    "The requirements (resource and package dependency) for the App can be specified by using [@resource](/modules/_autosummary/monai.deploy.core.resource) and [@env](/modules/_autosummary/monai.deploy.core.env) decorators.\n",
    "\n",
    "The base class method, `compose`, is overridden. Objects required for DICOM parsing, series selection (selecting the first series for the current release), pixel data conversion to volume image, and segmentation instance creation are created, so is the model-specific `SpleenSegOperator`. The execution pipeline, as a Directed Acyclic Graph, is created by connecting these objects through <a href=\"../../modules/_autosummary/monai.deploy.core.Application.html#monai.deploy.core.Application.add_flow\">self.add_flow()</a>."
   ]
  },
  {
   "cell_type": "code",
   "execution_count": 6,
   "metadata": {},
   "outputs": [],
   "source": [
    "@resource(cpu=1, gpu=1, memory=\"7Gi\")\n",
    "class AISpleenSegApp(Application):\n",
    "    def __init__(self, ahi_client, *args, **kwargs):\n",
    "        \"\"\"Creates an application instance.\"\"\"\n",
    "        self._logger = logging.getLogger(\"{}.{}\".format(__name__, type(self).__name__))\n",
    "        self.ahi_client = ahi_client\n",
    "        super().__init__(*args, **kwargs)\n",
    "\n",
    "    def run(self, *args, **kwargs):\n",
    "        # This method calls the base class to run. Can be omitted if simply calling through.\n",
    "        self._logger.info(f\"Begin {self.run.__name__}\")\n",
    "        try:\n",
    "            super().run(*args, **kwargs)\n",
    "        except:\n",
    "            self._logger.info(\"errrrror\")\n",
    "        self._logger.info(f\"End {self.run.__name__}\")\n",
    "\n",
    "    def compose(self):\n",
    "        \"\"\"Creates the app specific operators and chain them up in the processing DAG.\"\"\"\n",
    "        logging.info(f\"Begin {self.compose.__name__}\")\n",
    "\n",
    "        # Create the custom operator(s) as well as SDK built-in operator(s).\n",
    "        study_loader_op = AHLIDataLoaderOperator(self.ahi_client)\n",
    "        series_selector_op = DICOMSeriesSelectorOperator(Sample_Rules_Text)\n",
    "        series_to_vol_op = DICOMSeriesToVolumeOperator()\n",
    "\n",
    "        # Create the inference operator that supports MONAI Bundle and automates the inference.\n",
    "        # The IOMapping labels match the input and prediction keys in the pre and post processing.\n",
    "        # The model_name is optional when the app has only one model.\n",
    "        # The bundle_path argument optionally can be set to an accessible bundle file path in the dev\n",
    "        # environment, so when the app is packaged into a MAP, the operator can complete the bundle parsing\n",
    "        # during init to provide the optional packages info, parsed from the bundle, to the packager\n",
    "        # for it to install the packages in the MAP docker image.\n",
    "        # Setting output IOType to DISK only works only for leaf operators, not the case in this example.\n",
    "        #\n",
    "        # Pertinent MONAI Bundle:\n",
    "        #   https://github.com/Project-MONAI/model-zoo/tree/dev/models/spleen_ct_segmentation\n",
    "\n",
    "        config_names = BundleConfigNames(config_names=[\"inference\"])  # Same as the default\n",
    "\n",
    "        bundle_spleen_seg_op = MonaiBundleInferenceOperator(\n",
    "            input_mapping=[IOMapping(\"image\", Image, IOType.IN_MEMORY)],\n",
    "            output_mapping=[IOMapping(\"pred\", Image, IOType.IN_MEMORY)],\n",
    "            bundle_config_names=config_names,\n",
    "        )\n",
    "\n",
    "        # Create DICOM Seg writer providing the required segment description for each segment with\n",
    "        # the actual algorithm and the pertinent organ/tissue. The segment_label, algorithm_name,\n",
    "        # and algorithm_version are of DICOM VR LO type, limited to 64 chars.\n",
    "        # https://dicom.nema.org/medical/dicom/current/output/chtml/part05/sect_6.2.html\n",
    "        segment_descriptions = [\n",
    "            SegmentDescription(\n",
    "                segment_label=\"Spleen\",\n",
    "                segmented_property_category=codes.SCT.Organ,\n",
    "                segmented_property_type=codes.SCT.Spleen,\n",
    "                algorithm_name=\"volumetric (3D) segmentation of the spleen from CT image\",\n",
    "                algorithm_family=codes.DCM.ArtificialIntelligence,\n",
    "                algorithm_version=\"0.1.0\",\n",
    "            )\n",
    "        ]\n",
    "\n",
    "        custom_tags = {\"SeriesDescription\": \"AI generated Seg, not for clinical use.\"}\n",
    "\n",
    "        dicom_seg_writer = DICOMSegmentationWriterOperator(\n",
    "            segment_descriptions=segment_descriptions, custom_tags=custom_tags\n",
    "        )\n",
    "\n",
    "        # Create the processing pipeline, by specifying the source and destination operators, and\n",
    "        # ensuring the output from the former matches the input of the latter, in both name and type.\n",
    "        self.add_flow(study_loader_op, series_selector_op, {\"dicom_study_list\": \"dicom_study_list\"})\n",
    "        self.add_flow(\n",
    "            series_selector_op, series_to_vol_op, {\"study_selected_series_list\": \"study_selected_series_list\"}\n",
    "        )\n",
    "        self.add_flow(series_to_vol_op, bundle_spleen_seg_op, {\"image\": \"image\"})\n",
    "        # Note below the dicom_seg_writer requires two inputs, each coming from a source operator.\n",
    "        self.add_flow(\n",
    "            series_selector_op, dicom_seg_writer, {\"study_selected_series_list\": \"study_selected_series_list\"}\n",
    "        )\n",
    "        self.add_flow(bundle_spleen_seg_op, dicom_seg_writer, {\"pred\": \"seg_image\"})\n",
    "        # Create the surface mesh STL conversion operator and add it to the app execution flow, if needed, by\n",
    "        # uncommenting the following couple lines.\n",
    "        # stl_conversion_op = STLConversionOperator(output_file=\"stl/spleen.stl\")\n",
    "        # self.add_flow(bundle_spleen_seg_op, stl_conversion_op, {\"pred\": \"image\"})\n",
    "\n",
    "        logging.info(f\"End {self.compose.__name__}\")\n",
    "\n",
    "# This is a sample series selection rule in JSON, simply selecting CT series.\n",
    "# If the study has more than 1 CT series, then all of them will be selected.\n",
    "# Please see more detail in DICOMSeriesSelectorOperator.\n",
    "# For list of string values, e.g. \"ImageType\": [\"PRIMARY\", \"ORIGINAL\"], it is a match if all elements\n",
    "# are all in the multi-value attribute of the DICOM series.\n",
    "\n",
    "Sample_Rules_Text = \"\"\"\n",
    "{\n",
    "    \"selections\": [\n",
    "        {\n",
    "            \"name\": \"CT Series\",\n",
    "            \"conditions\": {\n",
    "                \"Modality\": \"(?i)CT\"\n",
    "            }\n",
    "        }\n",
    "    ]\n",
    "}\n",
    "\"\"\"\n"
   ]
  },
  {
   "cell_type": "markdown",
   "metadata": {},
   "source": [
    "## Executing app locally\n",
    "\n",
    "We can execute the app in the Jupyter notebook. Note that the DICOM files of the CT Abdomen series must be present in the `dcm` and the Torch Script model at `model.ts`. Please use the actual path in your environment.\n"
   ]
  },
  {
   "cell_type": "code",
   "execution_count": 7,
   "metadata": {},
   "outputs": [
    {
     "name": "stderr",
     "output_type": "stream",
     "text": [
      "INFO:root:Begin compose\n",
      "INFO:root:End compose\n",
      "INFO:__main__.AISpleenSegApp:Begin run\n"
     ]
    },
    {
     "name": "stdout",
     "output_type": "stream",
     "text": [
      "\u001b[34mGoing to initiate execution of operator AHLIDataLoaderOperator\u001b[39m\n",
      "\u001b[32mExecuting operator AHLIDataLoaderOperator \u001b[33m(Process ID: 30, Operator ID: ca820b9f-be71-482b-aed7-41e9cc43b87f)\u001b[39m\n"
     ]
    },
    {
     "name": "stderr",
     "output_type": "stream",
     "text": [
      "Invalid value for VR IS: 'F'. Please see <https://dicom.nema.org/medical/dicom/current/output/html/part05.html#table_6.2-1> for allowed values for each VR.\n",
      "[2023-07-27 19:04:09,929] [INFO] (root) - Finding series for Selection named: CT Series\n",
      "[2023-07-27 19:04:09,929] [INFO] (root) - Searching study, : 1.3.6.1.4.1.14519.5.2.1.7085.2626.822645453932810382886582736291\n",
      "  # of series: 1\n",
      "[2023-07-27 19:04:09,930] [INFO] (root) - Working on series, instance UID: 1.3.6.1.4.1.14519.5.2.1.7085.2626.119403521930927333027265674239\n",
      "[2023-07-27 19:04:09,932] [INFO] (root) - On attribute: 'Modality' to match value: '(?i)CT'\n",
      "[2023-07-27 19:04:09,934] [INFO] (root) -     Series attribute Modality value: CT\n",
      "[2023-07-27 19:04:09,935] [INFO] (root) - Series attribute string value did not match. Try regEx.\n",
      "[2023-07-27 19:04:09,936] [INFO] (root) - Selected Series, UID: 1.3.6.1.4.1.14519.5.2.1.7085.2626.119403521930927333027265674239\n"
     ]
    },
    {
     "name": "stdout",
     "output_type": "stream",
     "text": [
      "\u001b[34mDone performing execution of operator AHLIDataLoaderOperator\n",
      "\u001b[39m\n",
      "\u001b[34mGoing to initiate execution of operator DICOMSeriesSelectorOperator\u001b[39m\n",
      "\u001b[32mExecuting operator DICOMSeriesSelectorOperator \u001b[33m(Process ID: 30, Operator ID: 11da4fe5-a42d-48c2-8bef-395649d568f1)\u001b[39m\n",
      "\u001b[34mDone performing execution of operator DICOMSeriesSelectorOperator\n",
      "\u001b[39m\n",
      "\u001b[34mGoing to initiate execution of operator DICOMSeriesToVolumeOperator\u001b[39m\n",
      "\u001b[32mExecuting operator DICOMSeriesToVolumeOperator \u001b[33m(Process ID: 30, Operator ID: ab480e4f-bad9-42a4-9c39-5645af309090)\u001b[39m\n",
      "\u001b[34mDone performing execution of operator DICOMSeriesToVolumeOperator\n",
      "\u001b[39m\n",
      "\u001b[34mGoing to initiate execution of operator MonaiBundleInferenceOperator\u001b[39m\n",
      "\u001b[32mExecuting operator MonaiBundleInferenceOperator \u001b[33m(Process ID: 30, Operator ID: 75e71372-be89-4028-804d-8b5a4c3b196c)\u001b[39m\n"
     ]
    },
    {
     "name": "stderr",
     "output_type": "stream",
     "text": [
      "monai.transforms.io.dictionary LoadImaged.__init__:image_only: Current default value of argument `image_only=False` has been deprecated since version 1.1. It will be changed to `image_only=True` in version 1.3.\n",
      "monai.transforms.io.dictionary SaveImaged.__init__:resample: Current default value of argument `resample=True` has been deprecated since version 1.1. It will be changed to `resample=False` in version 1.3.\n"
     ]
    },
    {
     "name": "stdout",
     "output_type": "stream",
     "text": [
      "\u001b[34mDone performing execution of operator MonaiBundleInferenceOperator\n",
      "\u001b[39m\n",
      "\u001b[34mGoing to initiate execution of operator DICOMSegmentationWriterOperator\u001b[39m\n",
      "\u001b[32mExecuting operator DICOMSegmentationWriterOperator \u001b[33m(Process ID: 30, Operator ID: c209b024-b12c-487d-a7a4-670fbb9b1d83)\u001b[39m\n"
     ]
    },
    {
     "name": "stderr",
     "output_type": "stream",
     "text": [
      "The string \"C3N-00198\" is unlikely to represent the intended person name since it contains only a single component. Construct a person name according to the format in described in http://dicom.nema.org/dicom/2013/output/chtml/part05/sect_6.2.html#sect_6.2.1.2, or, in pydicom 2.2.0 or later, use the pydicom.valuerep.PersonName.from_named_components() method to construct the person name correctly. If a single-component name is really intended, add a trailing caret character to disambiguate the name.\n",
      "[2023-07-27 19:04:50,845] [INFO] (highdicom.seg.sop) - add plane #0 for segment #1\n",
      "A value of type 'int64' cannot be assigned to a tag with VR UL.\n",
      "A value of type 'int64' cannot be assigned to a tag with VR US.\n",
      "[2023-07-27 19:04:50,847] [INFO] (highdicom.seg.sop) - add plane #1 for segment #1\n",
      "[2023-07-27 19:04:50,850] [INFO] (highdicom.seg.sop) - add plane #2 for segment #1\n",
      "[2023-07-27 19:04:50,852] [INFO] (highdicom.seg.sop) - add plane #3 for segment #1\n",
      "[2023-07-27 19:04:50,857] [INFO] (highdicom.seg.sop) - add plane #4 for segment #1\n",
      "[2023-07-27 19:04:50,860] [INFO] (highdicom.seg.sop) - add plane #5 for segment #1\n",
      "[2023-07-27 19:04:50,864] [INFO] (highdicom.seg.sop) - add plane #6 for segment #1\n",
      "[2023-07-27 19:04:50,865] [INFO] (highdicom.seg.sop) - add plane #7 for segment #1\n",
      "[2023-07-27 19:04:50,866] [INFO] (highdicom.seg.sop) - add plane #8 for segment #1\n",
      "[2023-07-27 19:04:50,868] [INFO] (highdicom.seg.sop) - add plane #9 for segment #1\n",
      "[2023-07-27 19:04:50,869] [INFO] (highdicom.seg.sop) - add plane #10 for segment #1\n",
      "[2023-07-27 19:04:50,871] [INFO] (highdicom.seg.sop) - add plane #11 for segment #1\n",
      "[2023-07-27 19:04:50,873] [INFO] (highdicom.seg.sop) - add plane #12 for segment #1\n",
      "[2023-07-27 19:04:50,874] [INFO] (highdicom.seg.sop) - add plane #13 for segment #1\n",
      "[2023-07-27 19:04:50,876] [INFO] (highdicom.seg.sop) - add plane #14 for segment #1\n",
      "[2023-07-27 19:04:50,878] [INFO] (highdicom.seg.sop) - add plane #15 for segment #1\n",
      "[2023-07-27 19:04:50,880] [INFO] (highdicom.seg.sop) - add plane #16 for segment #1\n",
      "[2023-07-27 19:04:50,882] [INFO] (highdicom.seg.sop) - add plane #17 for segment #1\n",
      "[2023-07-27 19:04:50,887] [INFO] (highdicom.seg.sop) - add plane #18 for segment #1\n",
      "[2023-07-27 19:04:50,888] [INFO] (highdicom.seg.sop) - add plane #19 for segment #1\n",
      "[2023-07-27 19:04:50,890] [INFO] (highdicom.seg.sop) - add plane #20 for segment #1\n",
      "[2023-07-27 19:04:50,891] [INFO] (highdicom.seg.sop) - add plane #21 for segment #1\n",
      "[2023-07-27 19:04:50,893] [INFO] (highdicom.seg.sop) - add plane #22 for segment #1\n",
      "[2023-07-27 19:04:50,895] [INFO] (highdicom.seg.sop) - add plane #23 for segment #1\n",
      "[2023-07-27 19:04:50,896] [INFO] (highdicom.seg.sop) - add plane #24 for segment #1\n",
      "[2023-07-27 19:04:50,898] [INFO] (highdicom.seg.sop) - add plane #25 for segment #1\n",
      "[2023-07-27 19:04:50,900] [INFO] (highdicom.seg.sop) - add plane #26 for segment #1\n",
      "[2023-07-27 19:04:50,902] [INFO] (highdicom.seg.sop) - add plane #27 for segment #1\n",
      "[2023-07-27 19:04:50,904] [INFO] (highdicom.seg.sop) - add plane #28 for segment #1\n",
      "[2023-07-27 19:04:50,905] [INFO] (highdicom.seg.sop) - add plane #29 for segment #1\n",
      "[2023-07-27 19:04:50,907] [INFO] (highdicom.seg.sop) - add plane #30 for segment #1\n",
      "[2023-07-27 19:04:50,909] [INFO] (highdicom.seg.sop) - add plane #31 for segment #1\n",
      "[2023-07-27 19:04:50,910] [INFO] (highdicom.seg.sop) - add plane #32 for segment #1\n",
      "[2023-07-27 19:04:50,912] [INFO] (highdicom.seg.sop) - add plane #33 for segment #1\n",
      "[2023-07-27 19:04:50,916] [INFO] (highdicom.seg.sop) - add plane #34 for segment #1\n",
      "[2023-07-27 19:04:50,918] [INFO] (highdicom.seg.sop) - add plane #35 for segment #1\n",
      "[2023-07-27 19:04:50,920] [INFO] (highdicom.seg.sop) - add plane #36 for segment #1\n",
      "[2023-07-27 19:04:50,921] [INFO] (highdicom.seg.sop) - add plane #37 for segment #1\n",
      "[2023-07-27 19:04:50,923] [INFO] (highdicom.seg.sop) - add plane #38 for segment #1\n",
      "[2023-07-27 19:04:50,925] [INFO] (highdicom.seg.sop) - add plane #39 for segment #1\n",
      "[2023-07-27 19:04:50,926] [INFO] (highdicom.seg.sop) - add plane #40 for segment #1\n",
      "[2023-07-27 19:04:50,928] [INFO] (highdicom.seg.sop) - add plane #41 for segment #1\n",
      "[2023-07-27 19:04:50,929] [INFO] (highdicom.seg.sop) - add plane #42 for segment #1\n",
      "[2023-07-27 19:04:50,931] [INFO] (highdicom.seg.sop) - add plane #43 for segment #1\n",
      "[2023-07-27 19:04:50,932] [INFO] (highdicom.seg.sop) - add plane #44 for segment #1\n",
      "[2023-07-27 19:04:50,934] [INFO] (highdicom.seg.sop) - add plane #45 for segment #1\n",
      "[2023-07-27 19:04:50,935] [INFO] (highdicom.seg.sop) - add plane #46 for segment #1\n",
      "[2023-07-27 19:04:50,937] [INFO] (highdicom.seg.sop) - add plane #47 for segment #1\n",
      "[2023-07-27 19:04:50,938] [INFO] (highdicom.seg.sop) - add plane #48 for segment #1\n",
      "[2023-07-27 19:04:50,940] [INFO] (highdicom.seg.sop) - add plane #49 for segment #1\n",
      "[2023-07-27 19:04:50,941] [INFO] (highdicom.seg.sop) - add plane #50 for segment #1\n",
      "[2023-07-27 19:04:50,943] [INFO] (highdicom.seg.sop) - add plane #51 for segment #1\n",
      "[2023-07-27 19:04:50,945] [INFO] (highdicom.seg.sop) - add plane #52 for segment #1\n",
      "[2023-07-27 19:04:50,946] [INFO] (highdicom.seg.sop) - add plane #53 for segment #1\n",
      "[2023-07-27 19:04:50,948] [INFO] (highdicom.seg.sop) - add plane #54 for segment #1\n",
      "[2023-07-27 19:04:50,952] [INFO] (highdicom.seg.sop) - add plane #55 for segment #1\n",
      "[2023-07-27 19:04:50,954] [INFO] (highdicom.seg.sop) - add plane #56 for segment #1\n",
      "[2023-07-27 19:04:50,955] [INFO] (highdicom.seg.sop) - add plane #57 for segment #1\n",
      "[2023-07-27 19:04:50,957] [INFO] (highdicom.seg.sop) - add plane #58 for segment #1\n",
      "[2023-07-27 19:04:50,958] [INFO] (highdicom.seg.sop) - add plane #59 for segment #1\n",
      "[2023-07-27 19:04:50,960] [INFO] (highdicom.seg.sop) - add plane #60 for segment #1\n",
      "[2023-07-27 19:04:50,962] [INFO] (highdicom.seg.sop) - add plane #61 for segment #1\n",
      "[2023-07-27 19:04:50,963] [INFO] (highdicom.seg.sop) - add plane #62 for segment #1\n",
      "[2023-07-27 19:04:50,965] [INFO] (highdicom.seg.sop) - add plane #63 for segment #1\n",
      "[2023-07-27 19:04:50,966] [INFO] (highdicom.seg.sop) - add plane #64 for segment #1\n",
      "[2023-07-27 19:04:50,968] [INFO] (highdicom.seg.sop) - add plane #65 for segment #1\n",
      "[2023-07-27 19:04:50,970] [INFO] (highdicom.seg.sop) - add plane #66 for segment #1\n",
      "[2023-07-27 19:04:50,973] [INFO] (highdicom.seg.sop) - add plane #67 for segment #1\n",
      "[2023-07-27 19:04:50,975] [INFO] (highdicom.seg.sop) - add plane #68 for segment #1\n",
      "[2023-07-27 19:04:50,976] [INFO] (highdicom.seg.sop) - add plane #69 for segment #1\n",
      "[2023-07-27 19:04:50,978] [INFO] (highdicom.seg.sop) - add plane #70 for segment #1\n",
      "[2023-07-27 19:04:50,979] [INFO] (highdicom.seg.sop) - add plane #71 for segment #1\n",
      "[2023-07-27 19:04:50,980] [INFO] (highdicom.seg.sop) - add plane #72 for segment #1\n",
      "[2023-07-27 19:04:50,984] [INFO] (highdicom.seg.sop) - add plane #73 for segment #1\n",
      "[2023-07-27 19:04:50,985] [INFO] (highdicom.seg.sop) - add plane #74 for segment #1\n",
      "[2023-07-27 19:04:50,987] [INFO] (highdicom.seg.sop) - add plane #75 for segment #1\n",
      "[2023-07-27 19:04:50,988] [INFO] (highdicom.seg.sop) - add plane #76 for segment #1\n",
      "[2023-07-27 19:04:50,989] [INFO] (highdicom.seg.sop) - add plane #77 for segment #1\n",
      "[2023-07-27 19:04:50,991] [INFO] (highdicom.seg.sop) - add plane #78 for segment #1\n",
      "[2023-07-27 19:04:50,992] [INFO] (highdicom.seg.sop) - add plane #79 for segment #1\n",
      "[2023-07-27 19:04:50,994] [INFO] (highdicom.seg.sop) - add plane #80 for segment #1\n",
      "[2023-07-27 19:04:50,996] [INFO] (highdicom.seg.sop) - add plane #81 for segment #1\n",
      "[2023-07-27 19:04:50,997] [INFO] (highdicom.seg.sop) - add plane #82 for segment #1\n",
      "[2023-07-27 19:04:50,999] [INFO] (highdicom.seg.sop) - add plane #83 for segment #1\n",
      "[2023-07-27 19:04:51,000] [INFO] (highdicom.seg.sop) - add plane #84 for segment #1\n",
      "[2023-07-27 19:04:51,002] [INFO] (highdicom.seg.sop) - add plane #85 for segment #1\n",
      "[2023-07-27 19:04:51,004] [INFO] (highdicom.seg.sop) - add plane #86 for segment #1\n",
      "[2023-07-27 19:04:51,060] [INFO] (highdicom.base) - copy Image-related attributes from dataset \"1.3.6.1.4.1.14519.5.2.1.7085.2626.936983343951485811186213470191\"\n",
      "[2023-07-27 19:04:51,061] [INFO] (highdicom.base) - copy attributes of module \"Specimen\"\n",
      "[2023-07-27 19:04:51,063] [INFO] (highdicom.base) - copy Patient-related attributes from dataset \"1.3.6.1.4.1.14519.5.2.1.7085.2626.936983343951485811186213470191\"\n",
      "[2023-07-27 19:04:51,063] [INFO] (highdicom.base) - copy attributes of module \"Patient\"\n",
      "[2023-07-27 19:04:51,064] [INFO] (highdicom.base) - copy attributes of module \"Clinical Trial Subject\"\n",
      "[2023-07-27 19:04:51,065] [INFO] (highdicom.base) - copy Study-related attributes from dataset \"1.3.6.1.4.1.14519.5.2.1.7085.2626.936983343951485811186213470191\"\n",
      "[2023-07-27 19:04:51,065] [INFO] (highdicom.base) - copy attributes of module \"General Study\"\n",
      "[2023-07-27 19:04:51,066] [INFO] (highdicom.base) - copy attributes of module \"Patient Study\"\n",
      "[2023-07-27 19:04:51,067] [INFO] (highdicom.base) - copy attributes of module \"Clinical Trial Study\"\n",
      "[2023-07-27 19:04:51,400] [INFO] (__main__.AISpleenSegApp) - End run\n"
     ]
    },
    {
     "name": "stdout",
     "output_type": "stream",
     "text": [
      "\u001b[34mDone performing execution of operator DICOMSegmentationWriterOperator\n",
      "\u001b[39m\n"
     ]
    }
   ],
   "source": [
    "with open('inputImageSets.json', 'w') as f:\n",
    "    f.write(json.dumps({\n",
    "        \"datastoreId\": datastoreId, \n",
    "        \"imageSetId\": next(iter(imageSetIds))\n",
    "    }))\n",
    "\n",
    "app = AISpleenSegApp(helper)\n",
    "\n",
    "app.run(input=\"inputImageSets.json\", output=\"output\", model=\"src/model.ts\")"
   ]
  },
  {
   "cell_type": "code",
   "execution_count": 10,
   "metadata": {},
   "outputs": [],
   "source": [
    "import itk\n",
    "from itkwidgets import view\n",
    "\n",
    "outputimg = itk.imread('output/'+os.listdir('output')[0])"
   ]
  },
  {
   "cell_type": "code",
   "execution_count": 11,
   "metadata": {},
   "outputs": [
    {
     "data": {
      "text/html": [
       "<div />"
      ],
      "text/plain": [
       "<IPython.core.display.HTML object>"
      ]
     },
     "metadata": {},
     "output_type": "display_data"
    },
    {
     "data": {
      "application/javascript": [
       "window.connectPlugin && window.connectPlugin(\"f7f1cf87-2b14-4212-9a5c-b701bead7b3c\")"
      ],
      "text/plain": [
       "<IPython.core.display.Javascript object>"
      ]
     },
     "metadata": {},
     "output_type": "display_data"
    },
    {
     "data": {
      "text/html": [
       "<div id=\"7716f651-3df1-4d1d-848d-0e24d526c1d7\"></div>"
      ],
      "text/plain": [
       "<IPython.core.display.HTML object>"
      ]
     },
     "metadata": {},
     "output_type": "display_data"
    }
   ],
   "source": [
    "viewer = view(outputimg)"
   ]
  },
  {
   "cell_type": "code",
   "execution_count": null,
   "metadata": {},
   "outputs": [],
   "source": [
    "viewer.set_image_gradient_opacity(0.4)"
   ]
  }
 ],
 "metadata": {
  "availableInstances": [
   {
    "_defaultOrder": 0,
    "_isFastLaunch": true,
    "category": "General purpose",
    "gpuNum": 0,
    "hideHardwareSpecs": false,
    "memoryGiB": 4,
    "name": "ml.t3.medium",
    "vcpuNum": 2
   },
   {
    "_defaultOrder": 1,
    "_isFastLaunch": false,
    "category": "General purpose",
    "gpuNum": 0,
    "hideHardwareSpecs": false,
    "memoryGiB": 8,
    "name": "ml.t3.large",
    "vcpuNum": 2
   },
   {
    "_defaultOrder": 2,
    "_isFastLaunch": false,
    "category": "General purpose",
    "gpuNum": 0,
    "hideHardwareSpecs": false,
    "memoryGiB": 16,
    "name": "ml.t3.xlarge",
    "vcpuNum": 4
   },
   {
    "_defaultOrder": 3,
    "_isFastLaunch": false,
    "category": "General purpose",
    "gpuNum": 0,
    "hideHardwareSpecs": false,
    "memoryGiB": 32,
    "name": "ml.t3.2xlarge",
    "vcpuNum": 8
   },
   {
    "_defaultOrder": 4,
    "_isFastLaunch": true,
    "category": "General purpose",
    "gpuNum": 0,
    "hideHardwareSpecs": false,
    "memoryGiB": 8,
    "name": "ml.m5.large",
    "vcpuNum": 2
   },
   {
    "_defaultOrder": 5,
    "_isFastLaunch": false,
    "category": "General purpose",
    "gpuNum": 0,
    "hideHardwareSpecs": false,
    "memoryGiB": 16,
    "name": "ml.m5.xlarge",
    "vcpuNum": 4
   },
   {
    "_defaultOrder": 6,
    "_isFastLaunch": false,
    "category": "General purpose",
    "gpuNum": 0,
    "hideHardwareSpecs": false,
    "memoryGiB": 32,
    "name": "ml.m5.2xlarge",
    "vcpuNum": 8
   },
   {
    "_defaultOrder": 7,
    "_isFastLaunch": false,
    "category": "General purpose",
    "gpuNum": 0,
    "hideHardwareSpecs": false,
    "memoryGiB": 64,
    "name": "ml.m5.4xlarge",
    "vcpuNum": 16
   },
   {
    "_defaultOrder": 8,
    "_isFastLaunch": false,
    "category": "General purpose",
    "gpuNum": 0,
    "hideHardwareSpecs": false,
    "memoryGiB": 128,
    "name": "ml.m5.8xlarge",
    "vcpuNum": 32
   },
   {
    "_defaultOrder": 9,
    "_isFastLaunch": false,
    "category": "General purpose",
    "gpuNum": 0,
    "hideHardwareSpecs": false,
    "memoryGiB": 192,
    "name": "ml.m5.12xlarge",
    "vcpuNum": 48
   },
   {
    "_defaultOrder": 10,
    "_isFastLaunch": false,
    "category": "General purpose",
    "gpuNum": 0,
    "hideHardwareSpecs": false,
    "memoryGiB": 256,
    "name": "ml.m5.16xlarge",
    "vcpuNum": 64
   },
   {
    "_defaultOrder": 11,
    "_isFastLaunch": false,
    "category": "General purpose",
    "gpuNum": 0,
    "hideHardwareSpecs": false,
    "memoryGiB": 384,
    "name": "ml.m5.24xlarge",
    "vcpuNum": 96
   },
   {
    "_defaultOrder": 12,
    "_isFastLaunch": false,
    "category": "General purpose",
    "gpuNum": 0,
    "hideHardwareSpecs": false,
    "memoryGiB": 8,
    "name": "ml.m5d.large",
    "vcpuNum": 2
   },
   {
    "_defaultOrder": 13,
    "_isFastLaunch": false,
    "category": "General purpose",
    "gpuNum": 0,
    "hideHardwareSpecs": false,
    "memoryGiB": 16,
    "name": "ml.m5d.xlarge",
    "vcpuNum": 4
   },
   {
    "_defaultOrder": 14,
    "_isFastLaunch": false,
    "category": "General purpose",
    "gpuNum": 0,
    "hideHardwareSpecs": false,
    "memoryGiB": 32,
    "name": "ml.m5d.2xlarge",
    "vcpuNum": 8
   },
   {
    "_defaultOrder": 15,
    "_isFastLaunch": false,
    "category": "General purpose",
    "gpuNum": 0,
    "hideHardwareSpecs": false,
    "memoryGiB": 64,
    "name": "ml.m5d.4xlarge",
    "vcpuNum": 16
   },
   {
    "_defaultOrder": 16,
    "_isFastLaunch": false,
    "category": "General purpose",
    "gpuNum": 0,
    "hideHardwareSpecs": false,
    "memoryGiB": 128,
    "name": "ml.m5d.8xlarge",
    "vcpuNum": 32
   },
   {
    "_defaultOrder": 17,
    "_isFastLaunch": false,
    "category": "General purpose",
    "gpuNum": 0,
    "hideHardwareSpecs": false,
    "memoryGiB": 192,
    "name": "ml.m5d.12xlarge",
    "vcpuNum": 48
   },
   {
    "_defaultOrder": 18,
    "_isFastLaunch": false,
    "category": "General purpose",
    "gpuNum": 0,
    "hideHardwareSpecs": false,
    "memoryGiB": 256,
    "name": "ml.m5d.16xlarge",
    "vcpuNum": 64
   },
   {
    "_defaultOrder": 19,
    "_isFastLaunch": false,
    "category": "General purpose",
    "gpuNum": 0,
    "hideHardwareSpecs": false,
    "memoryGiB": 384,
    "name": "ml.m5d.24xlarge",
    "vcpuNum": 96
   },
   {
    "_defaultOrder": 20,
    "_isFastLaunch": false,
    "category": "General purpose",
    "gpuNum": 0,
    "hideHardwareSpecs": true,
    "memoryGiB": 0,
    "name": "ml.geospatial.interactive",
    "supportedImageNames": [
     "sagemaker-geospatial-v1-0"
    ],
    "vcpuNum": 0
   },
   {
    "_defaultOrder": 21,
    "_isFastLaunch": true,
    "category": "Compute optimized",
    "gpuNum": 0,
    "hideHardwareSpecs": false,
    "memoryGiB": 4,
    "name": "ml.c5.large",
    "vcpuNum": 2
   },
   {
    "_defaultOrder": 22,
    "_isFastLaunch": false,
    "category": "Compute optimized",
    "gpuNum": 0,
    "hideHardwareSpecs": false,
    "memoryGiB": 8,
    "name": "ml.c5.xlarge",
    "vcpuNum": 4
   },
   {
    "_defaultOrder": 23,
    "_isFastLaunch": false,
    "category": "Compute optimized",
    "gpuNum": 0,
    "hideHardwareSpecs": false,
    "memoryGiB": 16,
    "name": "ml.c5.2xlarge",
    "vcpuNum": 8
   },
   {
    "_defaultOrder": 24,
    "_isFastLaunch": false,
    "category": "Compute optimized",
    "gpuNum": 0,
    "hideHardwareSpecs": false,
    "memoryGiB": 32,
    "name": "ml.c5.4xlarge",
    "vcpuNum": 16
   },
   {
    "_defaultOrder": 25,
    "_isFastLaunch": false,
    "category": "Compute optimized",
    "gpuNum": 0,
    "hideHardwareSpecs": false,
    "memoryGiB": 72,
    "name": "ml.c5.9xlarge",
    "vcpuNum": 36
   },
   {
    "_defaultOrder": 26,
    "_isFastLaunch": false,
    "category": "Compute optimized",
    "gpuNum": 0,
    "hideHardwareSpecs": false,
    "memoryGiB": 96,
    "name": "ml.c5.12xlarge",
    "vcpuNum": 48
   },
   {
    "_defaultOrder": 27,
    "_isFastLaunch": false,
    "category": "Compute optimized",
    "gpuNum": 0,
    "hideHardwareSpecs": false,
    "memoryGiB": 144,
    "name": "ml.c5.18xlarge",
    "vcpuNum": 72
   },
   {
    "_defaultOrder": 28,
    "_isFastLaunch": false,
    "category": "Compute optimized",
    "gpuNum": 0,
    "hideHardwareSpecs": false,
    "memoryGiB": 192,
    "name": "ml.c5.24xlarge",
    "vcpuNum": 96
   },
   {
    "_defaultOrder": 29,
    "_isFastLaunch": true,
    "category": "Accelerated computing",
    "gpuNum": 1,
    "hideHardwareSpecs": false,
    "memoryGiB": 16,
    "name": "ml.g4dn.xlarge",
    "vcpuNum": 4
   },
   {
    "_defaultOrder": 30,
    "_isFastLaunch": false,
    "category": "Accelerated computing",
    "gpuNum": 1,
    "hideHardwareSpecs": false,
    "memoryGiB": 32,
    "name": "ml.g4dn.2xlarge",
    "vcpuNum": 8
   },
   {
    "_defaultOrder": 31,
    "_isFastLaunch": false,
    "category": "Accelerated computing",
    "gpuNum": 1,
    "hideHardwareSpecs": false,
    "memoryGiB": 64,
    "name": "ml.g4dn.4xlarge",
    "vcpuNum": 16
   },
   {
    "_defaultOrder": 32,
    "_isFastLaunch": false,
    "category": "Accelerated computing",
    "gpuNum": 1,
    "hideHardwareSpecs": false,
    "memoryGiB": 128,
    "name": "ml.g4dn.8xlarge",
    "vcpuNum": 32
   },
   {
    "_defaultOrder": 33,
    "_isFastLaunch": false,
    "category": "Accelerated computing",
    "gpuNum": 4,
    "hideHardwareSpecs": false,
    "memoryGiB": 192,
    "name": "ml.g4dn.12xlarge",
    "vcpuNum": 48
   },
   {
    "_defaultOrder": 34,
    "_isFastLaunch": false,
    "category": "Accelerated computing",
    "gpuNum": 1,
    "hideHardwareSpecs": false,
    "memoryGiB": 256,
    "name": "ml.g4dn.16xlarge",
    "vcpuNum": 64
   },
   {
    "_defaultOrder": 35,
    "_isFastLaunch": false,
    "category": "Accelerated computing",
    "gpuNum": 1,
    "hideHardwareSpecs": false,
    "memoryGiB": 61,
    "name": "ml.p3.2xlarge",
    "vcpuNum": 8
   },
   {
    "_defaultOrder": 36,
    "_isFastLaunch": false,
    "category": "Accelerated computing",
    "gpuNum": 4,
    "hideHardwareSpecs": false,
    "memoryGiB": 244,
    "name": "ml.p3.8xlarge",
    "vcpuNum": 32
   },
   {
    "_defaultOrder": 37,
    "_isFastLaunch": false,
    "category": "Accelerated computing",
    "gpuNum": 8,
    "hideHardwareSpecs": false,
    "memoryGiB": 488,
    "name": "ml.p3.16xlarge",
    "vcpuNum": 64
   },
   {
    "_defaultOrder": 38,
    "_isFastLaunch": false,
    "category": "Accelerated computing",
    "gpuNum": 8,
    "hideHardwareSpecs": false,
    "memoryGiB": 768,
    "name": "ml.p3dn.24xlarge",
    "vcpuNum": 96
   },
   {
    "_defaultOrder": 39,
    "_isFastLaunch": false,
    "category": "Memory Optimized",
    "gpuNum": 0,
    "hideHardwareSpecs": false,
    "memoryGiB": 16,
    "name": "ml.r5.large",
    "vcpuNum": 2
   },
   {
    "_defaultOrder": 40,
    "_isFastLaunch": false,
    "category": "Memory Optimized",
    "gpuNum": 0,
    "hideHardwareSpecs": false,
    "memoryGiB": 32,
    "name": "ml.r5.xlarge",
    "vcpuNum": 4
   },
   {
    "_defaultOrder": 41,
    "_isFastLaunch": false,
    "category": "Memory Optimized",
    "gpuNum": 0,
    "hideHardwareSpecs": false,
    "memoryGiB": 64,
    "name": "ml.r5.2xlarge",
    "vcpuNum": 8
   },
   {
    "_defaultOrder": 42,
    "_isFastLaunch": false,
    "category": "Memory Optimized",
    "gpuNum": 0,
    "hideHardwareSpecs": false,
    "memoryGiB": 128,
    "name": "ml.r5.4xlarge",
    "vcpuNum": 16
   },
   {
    "_defaultOrder": 43,
    "_isFastLaunch": false,
    "category": "Memory Optimized",
    "gpuNum": 0,
    "hideHardwareSpecs": false,
    "memoryGiB": 256,
    "name": "ml.r5.8xlarge",
    "vcpuNum": 32
   },
   {
    "_defaultOrder": 44,
    "_isFastLaunch": false,
    "category": "Memory Optimized",
    "gpuNum": 0,
    "hideHardwareSpecs": false,
    "memoryGiB": 384,
    "name": "ml.r5.12xlarge",
    "vcpuNum": 48
   },
   {
    "_defaultOrder": 45,
    "_isFastLaunch": false,
    "category": "Memory Optimized",
    "gpuNum": 0,
    "hideHardwareSpecs": false,
    "memoryGiB": 512,
    "name": "ml.r5.16xlarge",
    "vcpuNum": 64
   },
   {
    "_defaultOrder": 46,
    "_isFastLaunch": false,
    "category": "Memory Optimized",
    "gpuNum": 0,
    "hideHardwareSpecs": false,
    "memoryGiB": 768,
    "name": "ml.r5.24xlarge",
    "vcpuNum": 96
   },
   {
    "_defaultOrder": 47,
    "_isFastLaunch": false,
    "category": "Accelerated computing",
    "gpuNum": 1,
    "hideHardwareSpecs": false,
    "memoryGiB": 16,
    "name": "ml.g5.xlarge",
    "vcpuNum": 4
   },
   {
    "_defaultOrder": 48,
    "_isFastLaunch": false,
    "category": "Accelerated computing",
    "gpuNum": 1,
    "hideHardwareSpecs": false,
    "memoryGiB": 32,
    "name": "ml.g5.2xlarge",
    "vcpuNum": 8
   },
   {
    "_defaultOrder": 49,
    "_isFastLaunch": false,
    "category": "Accelerated computing",
    "gpuNum": 1,
    "hideHardwareSpecs": false,
    "memoryGiB": 64,
    "name": "ml.g5.4xlarge",
    "vcpuNum": 16
   },
   {
    "_defaultOrder": 50,
    "_isFastLaunch": false,
    "category": "Accelerated computing",
    "gpuNum": 1,
    "hideHardwareSpecs": false,
    "memoryGiB": 128,
    "name": "ml.g5.8xlarge",
    "vcpuNum": 32
   },
   {
    "_defaultOrder": 51,
    "_isFastLaunch": false,
    "category": "Accelerated computing",
    "gpuNum": 1,
    "hideHardwareSpecs": false,
    "memoryGiB": 256,
    "name": "ml.g5.16xlarge",
    "vcpuNum": 64
   },
   {
    "_defaultOrder": 52,
    "_isFastLaunch": false,
    "category": "Accelerated computing",
    "gpuNum": 4,
    "hideHardwareSpecs": false,
    "memoryGiB": 192,
    "name": "ml.g5.12xlarge",
    "vcpuNum": 48
   },
   {
    "_defaultOrder": 53,
    "_isFastLaunch": false,
    "category": "Accelerated computing",
    "gpuNum": 4,
    "hideHardwareSpecs": false,
    "memoryGiB": 384,
    "name": "ml.g5.24xlarge",
    "vcpuNum": 96
   },
   {
    "_defaultOrder": 54,
    "_isFastLaunch": false,
    "category": "Accelerated computing",
    "gpuNum": 8,
    "hideHardwareSpecs": false,
    "memoryGiB": 768,
    "name": "ml.g5.48xlarge",
    "vcpuNum": 192
   },
   {
    "_defaultOrder": 55,
    "_isFastLaunch": false,
    "category": "Accelerated computing",
    "gpuNum": 8,
    "hideHardwareSpecs": false,
    "memoryGiB": 1152,
    "name": "ml.p4d.24xlarge",
    "vcpuNum": 96
   },
   {
    "_defaultOrder": 56,
    "_isFastLaunch": false,
    "category": "Accelerated computing",
    "gpuNum": 8,
    "hideHardwareSpecs": false,
    "memoryGiB": 1152,
    "name": "ml.p4de.24xlarge",
    "vcpuNum": 96
   }
  ],
  "kernelspec": {
   "display_name": "Python 3 (PyTorch 1.12 Python 3.8 CPU Optimized)",
   "language": "python",
   "name": "python3__SAGEMAKER_INTERNAL__arn:aws:sagemaker:us-east-1:081325390199:image/pytorch-1.12-cpu-py38"
  },
  "language_info": {
   "codemirror_mode": {
    "name": "ipython",
    "version": 3
   },
   "file_extension": ".py",
   "mimetype": "text/x-python",
   "name": "python",
   "nbconvert_exporter": "python",
   "pygments_lexer": "ipython3",
   "version": "3.8.16"
  },
  "vscode": {
   "interpreter": {
    "hash": "9b4ab1155d0cd1042497eb40fd55b2d15caf4b3c0f9fbfcc7ba4404045d40f12"
   }
  }
 },
 "nbformat": 4,
 "nbformat_minor": 4
}
