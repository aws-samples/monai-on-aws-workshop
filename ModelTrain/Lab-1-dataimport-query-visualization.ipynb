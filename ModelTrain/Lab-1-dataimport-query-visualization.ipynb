{
 "cells": [
  {
   "cell_type": "markdown",
   "id": "d41fb912-078d-48be-a1a9-6e13b09a3709",
   "metadata": {},
   "source": [
    "[![Licence](https://img.shields.io/badge/license-MIT-blue)](https://opensource.org/license/mit/)\n",
    "\n",
    "# MONAI Core on AWS Workshop\n",
    "\n",
    "Setup notebook environment using \"PyTorch 1.12 Python 3.8 CPU optimized\" Kernel with \"t3.medium\" instance type. \n",
    "\n",
    "<img src=\"../Figures/studio_setup_cpu.png\" width=\"600\">\n",
    "\n",
    "## Download and install libraries"
   ]
  },
  {
   "cell_type": "code",
   "execution_count": null,
   "id": "feba4f44-e93b-4556-b5c0-68aea2ff9a45",
   "metadata": {
    "tags": []
   },
   "outputs": [],
   "source": [
    "%env PIP_DISABLE_PIP_VERSION_CHECK True\n",
    "%env PIP_ROOT_USER_ACTION ignore\n",
    "\n",
    "!pip install -q --upgrade pip\n",
    "!pip install -q --upgrade boto3 botocore awscli\n",
    "!pip install -q tqdm nibabel pydicom numpy pathlib2 pylibjpeg-openjpeg pyathena\n",
    "!pip install -q \"itk>=5.3rc4\" \"itkwidgets[all]>=1.0a23\"\n",
    "!pip install --upgrade -q AHItoDICOMInterface\n",
    "\n",
    "%load_ext autoreload\n",
    "%autoreload 2"
   ]
  },
  {
   "cell_type": "markdown",
   "id": "21bcd0d8-b22a-4cec-8ea1-7e12ffd2aea8",
   "metadata": {},
   "source": [
    "### Import Libraries and Setup Environments"
   ]
  },
  {
   "cell_type": "code",
   "execution_count": null,
   "id": "5d56f489-00e1-4f8d-8bff-363747e03d79",
   "metadata": {
    "tags": []
   },
   "outputs": [],
   "source": [
    "import json\n",
    "import logging \n",
    "import boto3\n",
    "import io\n",
    "import sys\n",
    "import time\n",
    "import os\n",
    "import pandas as pd\n",
    "import sagemaker\n",
    "from sagemaker import get_execution_role\n",
    "from botocore.exceptions import ClientError\n",
    "from src.Api import MedicalImaging \n",
    "import warnings\n",
    "warnings.filterwarnings('ignore')\n",
    "logging.basicConfig( level=\"INFO\" )\n",
    "# logging.basicConfig( level=\"DEBUG\" )\n",
    "\n",
    "\n",
    "s3 = boto3.client('s3')\n",
    "medicalimaging = MedicalImaging()\n",
    "\n",
    "account_id = boto3.client(\"sts\").get_caller_identity()[\"Account\"]\n",
    "session = sagemaker.session.Session()\n",
    "region = boto3.Session().region_name\n",
    "bucket = sagemaker.Session().default_bucket()\n",
    "role = f\"arn:aws:iam::{account_id}:role/HealthImagingImportJobRole\"  ## use this role if you have deployed the CloudFormation template described above\n",
    "# role = get_execution_role()                ## use this role if you want to use SageMaker Execution role to import image into AWS HealthImaging\n",
    "print(f\"S3 Bucket is {bucket}\")\n",
    "print(f\"IAM role for image import job is {role}\")\n",
    "\n",
    "suffix = int(time.time())\n",
    "ahi_input_prefix = f'monaicore_tutorial_images_{suffix}/'\n",
    "ahi_output_prefix = f'monaicore_tutorial_importjobs_{suffix}/'\n",
    "dicom_header_prefix = f'coherent_dicom_headers_{suffix}/'\n",
    "\n",
    "print(f\"S3 prefix for input images is {ahi_input_prefix}\")\n",
    "print(f\"S3 prefix for import job outputs is {ahi_output_prefix}\")"
   ]
  },
  {
   "cell_type": "markdown",
   "id": "b909661f-71c9-46fe-9457-93aa716149b2",
   "metadata": {},
   "source": [
    "## Data Preparation\n",
    "\n",
    "We will use synthetic data, [Synthea Coherent Data](https://registry.opendata.aws/synthea-coherent-data/), in this workshop. To prepare dataset, follow [this guidance notebook](https://github.com/aws-solutions-library-samples/guidance-for-multi-modal-data-analysis-with-aws-health-and-ml-services/blob/main/preprocess-multimodal-data/medical-imaging/imaging-radiomics.ipynb) to download Coherent DICOM images and import into AWS HealthImaging datastore."
   ]
  },
  {
   "cell_type": "code",
   "execution_count": null,
   "id": "879a900d-6eb3-4b47-b1da-3bcb4d67031a",
   "metadata": {},
   "outputs": [],
   "source": [
    "!aws s3 sync --quiet s3://guidance-multimodal-hcls-healthai-machinelearning-{region}/imaging s3://{bucket}/{ahi_input_prefix} 2>&1"
   ]
  },
  {
   "cell_type": "markdown",
   "id": "a51655e4-654c-4bdf-b232-d057296ae3ae",
   "metadata": {},
   "source": [
    "### Create HealthLake Imaging Datastore if not Exists"
   ]
  },
  {
   "cell_type": "code",
   "execution_count": null,
   "id": "6e538175-4217-4f19-89b3-b7de98bcfebd",
   "metadata": {
    "tags": []
   },
   "outputs": [],
   "source": [
    "DatastoreName = \"CoherentDataStore\"\n",
    "datastoreList = medicalimaging.listDatastores()\n",
    "\n",
    "res_createstore = None\n",
    "for datastore in datastoreList[\"datastoreSummaries\"]:\n",
    "    if datastore[\"datastoreName\"] == DatastoreName:\n",
    "        res_createstore = datastore\n",
    "        break\n",
    "if res_createstore is None:        \n",
    "    res_createstore = medicalimaging.createDatastore(DatastoreName)\n",
    "\n",
    "datastoreId = res_createstore['datastoreId']\n",
    "res_getstore = medicalimaging.getDatastore(res_createstore['datastoreId'])    \n",
    "status = res_getstore['datastoreProperties']['datastoreStatus']\n",
    "while status!='ACTIVE':\n",
    "    time.sleep(10)\n",
    "    res_getstore = medicalimaging.getDatastore(res_createstore['datastoreId'])    \n",
    "    status = res_getstore['datastoreProperties']['datastoreStatus']\n",
    "    print(status)\n",
    "print(f\"datastoreId: {datastoreId}; status: {status}\")"
   ]
  },
  {
   "cell_type": "markdown",
   "id": "af7bda77-156d-430c-854b-5fecfd0bde1b",
   "metadata": {},
   "source": [
    "### Import data into HealthLake Imaging \n",
    "\n",
    "Loading 300 DICOM files takes long time. The workshop environment may have preloaded with these DICOM images."
   ]
  },
  {
   "cell_type": "code",
   "execution_count": null,
   "id": "3ab29d04-3225-4bd5-8a5e-8186728e51fb",
   "metadata": {
    "tags": []
   },
   "outputs": [],
   "source": [
    "res_startimportjob = medicalimaging.startImportJob(\n",
    "    res_createstore['datastoreId'],\n",
    "    role,\n",
    "    f\"s3://{bucket}/{ahi_input_prefix}\", \n",
    "    f\"s3://{bucket}/{ahi_output_prefix}\"\n",
    ")\n",
    "\n",
    "jobId = res_startimportjob['jobId']\n",
    "jobstatus = medicalimaging.getImportJob(datastoreId, jobId)['jobProperties']['jobStatus']\n",
    "while jobstatus not in ['COMPLETED', 'FAILED']:\n",
    "    time.sleep(30)\n",
    "    jobstatus = medicalimaging.getImportJob(datastoreId, jobId)['jobProperties']['jobStatus']\n",
    "print(f\"jobstatus is {jobstatus}\")"
   ]
  },
  {
   "cell_type": "markdown",
   "id": "cac97d44-dd20-4727-9386-a54786a93a02",
   "metadata": {},
   "source": [
    "### Retrieve ImageSet IDs in Output Bucket"
   ]
  },
  {
   "cell_type": "code",
   "execution_count": null,
   "id": "77110d2c-e659-47f5-961b-b8141dc84f70",
   "metadata": {
    "tags": []
   },
   "outputs": [],
   "source": [
    "imageSetIds = {}\n",
    "try:\n",
    "    response = s3.head_object(Bucket=bucket, Key=f\"{ahi_output_prefix}{datastoreId}-DicomImport-{jobId}/job-output-manifest.json\")\n",
    "    if response['ResponseMetadata']['HTTPStatusCode'] == 200:\n",
    "        data = s3.get_object(Bucket=bucket, Key=f\"{ahi_output_prefix}{datastoreId}-DicomImport-{jobId}/SUCCESS/success.ndjson\")\n",
    "        contents = data['Body'].read().decode(\"utf-8\")\n",
    "        for l in contents.splitlines():\n",
    "            isid = json.loads(l)['importResponse']['imageSetId']\n",
    "            if isid in imageSetIds:\n",
    "                imageSetIds[isid]+=1\n",
    "            else:\n",
    "                imageSetIds[isid]=1\n",
    "except ClientError:\n",
    "    pass\n",
    "\n",
    "imageSetIds"
   ]
  },
  {
   "cell_type": "markdown",
   "id": "73b8013c-e485-4ebb-9cd5-3abadc0e0326",
   "metadata": {},
   "source": [
    "## Save DICOM Header JSON to S3\n",
    "\n",
    "The DICOM header includes metadata for a given ImageSetId, which is equivalent to a DICOM series. The DICOM header can be retrieved through native AHI API as a nested JSON object. We will need to parse the JSON object and save each level of information (patient, study, series, instance) into seperate S3 folder."
   ]
  },
  {
   "cell_type": "code",
   "execution_count": null,
   "id": "848f6aa5-3b7d-42ca-aece-e9d685672fec",
   "metadata": {
    "tags": []
   },
   "outputs": [],
   "source": [
    "for s in imageSetIds.keys():\n",
    "    json_dicom_header = medicalimaging.getMetadata(datastoreId, s)\n",
    "    patient = json_dicom_header['Patient']['DICOM']\n",
    "    patient['datastoreid'] = datastoreId\n",
    "    patient['imagesetid'] = s\n",
    "    PatientID = patient[\"PatientID\"]\n",
    "    s3.put_object(\n",
    "        Body=json.dumps(patient),\n",
    "        Bucket=bucket,\n",
    "        Key=f'{dicom_header_prefix}json/patient/{s}.json'\n",
    "    )\n",
    "    study=json_dicom_header['Study']['DICOM']\n",
    "    study['datastoreid'] = datastoreId\n",
    "    study['imagesetid'] = s\n",
    "    study['PatientID'] = PatientID\n",
    "    StudyInstanceUID = study['StudyInstanceUID']\n",
    "    s3.put_object(\n",
    "        Body=json.dumps(study),\n",
    "        Bucket=bucket,\n",
    "        Key=f'{dicom_header_prefix}json/study/{s}.json'\n",
    "    )\n",
    "    for se in list(json_dicom_header['Study']['Series'].keys()):\n",
    "        series = json_dicom_header['Study']['Series'][se]['DICOM']\n",
    "        series['datastoreid'] = datastoreId\n",
    "        series['imagesetid'] = s\n",
    "        series['PatientID'] = PatientID\n",
    "        series['StudyInstanceUID'] = StudyInstanceUID\n",
    "        s3.put_object(\n",
    "            Body=json.dumps(series),\n",
    "            Bucket=bucket,\n",
    "            Key=f'{dicom_header_prefix}json/series/{s}.json'\n",
    "        )\n",
    "        for i in list(json_dicom_header['Study']['Series'][se]['Instances']):\n",
    "            instance = json_dicom_header['Study']['Series'][se]['Instances'][i]['DICOM']\n",
    "            instance['datastoreid'] = datastoreId\n",
    "            instance['imagesetid'] = s\n",
    "            instance['PatientID'] = PatientID\n",
    "            instance['StudyInstanceUID'] = StudyInstanceUID\n",
    "            instance['SeriesInstanceUID'] = se\n",
    "            instance['DICOMVRs'] = json_dicom_header['Study']['Series'][se]['Instances'][i]['DICOMVRs']\n",
    "            instance['ImageFrames'] = json_dicom_header['Study']['Series'][se]['Instances'][i]['ImageFrames']\n",
    "            s3.put_object(\n",
    "                Body=json.dumps(instance),\n",
    "                Bucket=bucket,\n",
    "                Key=f'{dicom_header_prefix}json/instances/{i}.json'\n",
    "            )"
   ]
  },
  {
   "cell_type": "markdown",
   "id": "b6f540db-623e-4b0f-8c24-465e4be24903",
   "metadata": {
    "tags": []
   },
   "source": [
    "## Create Glue Data Catalogs using Crawler\n",
    "\n",
    "[Amazon Glue crawler can be used to produce data catalog](https://docs.aws.amazon.com/glue/latest/dg/catalog-and-crawler.html), which is used for interactive SQL query through Amazon Athena\n",
    "\n",
    "If you did not create the SageMaker Domain and execution role using the CloudFormation template in Pre-requisites, please make sure you have follow [the insturction](https://docs.aws.amazon.com/directoryservice/latest/admin-guide/edit_trust.html) to edit the trusted relationship for the SageMaker execution role.\n",
    "\n"
   ]
  },
  {
   "cell_type": "code",
   "execution_count": null,
   "id": "3d8c1bc4-dc48-4316-9824-32c0c5397b13",
   "metadata": {
    "tags": []
   },
   "outputs": [],
   "source": [
    "glue_client = boto3.client('glue')\n",
    "glue_crawler_name = 'DICOMHeaderJSONCrawler'\n",
    "glue_database_name = 'idc_dicom_headers'\n",
    "\n",
    "try:\n",
    "    glue_client.get_crawler(Name=glue_crawler_name)\n",
    "except ClientError as err:\n",
    "    logging.info( \"Could not get crawler Here's why: %s: %s\", err.response['Error']['Code'], err.response['Error']['Message'])\n",
    "    logging.info(\"Creating Crawler\")\n",
    "    glue_client.create_crawler(\n",
    "        Name=glue_crawler_name,\n",
    "        Role=get_execution_role(),\n",
    "        DatabaseName=glue_database_name,\n",
    "        Targets={'S3Targets': [{'Path': f\"s3://{bucket}/{dicom_header_prefix}json/\"}]})\n",
    "\n",
    "try:\n",
    "    logging.info(\"Starting Crawler\")\n",
    "    glue_client.start_crawler(Name=glue_crawler_name)\n",
    "except ClientError as err:\n",
    "    logging.error(\n",
    "        \"Couldn't start crawler %s. Here's why: %s: %s\", name,\n",
    "        err.response['Error']['Code'], err.response['Error']['Message'])\n",
    "    raise\n",
    "\n",
    "jobstatus = glue_client.get_crawler(Name=glue_crawler_name)['Crawler']['State']\n",
    "while jobstatus != 'READY':\n",
    "    time.sleep(30)\n",
    "    jobstatus = glue_client.get_crawler(Name=glue_crawler_name)['Crawler']['State']\n",
    "print(f\"crawler jobstatus is {jobstatus}\")"
   ]
  },
  {
   "cell_type": "markdown",
   "id": "8f18c507-4405-410e-8bd5-f2ee71f0c383",
   "metadata": {},
   "source": [
    "## Query the DICOM header using Amazon Athena"
   ]
  },
  {
   "cell_type": "code",
   "execution_count": null,
   "id": "e3e7fe35-5105-4fdb-8f3a-5a1e7cadc065",
   "metadata": {
    "tags": []
   },
   "outputs": [],
   "source": [
    "import requests\n",
    "from pyathena import connect\n",
    "\n",
    "# This code uses the connect() function from the pyathena library to establish a connection to Amazon Athena. \n",
    "# s3_staging_dir: The S3 URL to the staging directory for query results.\n",
    "# region_name: The AWS region where the Athena resources are located.\n",
    "# work_group: The name of the workgroup to use for the connection.\n",
    "# schema_name: The name of the schema within Athena that you want to interact with.\n",
    "conn = connect(\n",
    "    s3_staging_dir=f's3://{bucket}/athena-results/',\n",
    "    region_name=region,\n",
    "    work_group='primary', #REPLACE WORKGROUP NAME IF ANY ERROR\n",
    "    schema_name=glue_database_name,\n",
    ")\n",
    "\n",
    "## find Modality for a given ImageSetId\n",
    "sql = \"SELECT distinct series.studyinstanceuid, series.modality, count(series.imagesetid) as ImageSetCount from series GROUP BY 1,2 ORDER BY 3 DESC\"\n",
    "try:        \n",
    "    # Execute the SQL query using pd.read_sql() and the established connection (conn)\n",
    "    athen_result_df = pd.read_sql(sql, conn)\n",
    "\n",
    "except pd.io.sql.DatabaseError as e:\n",
    "    # Handle the exception if there's an error while executing the SQL query\n",
    "    logging.error( \"SQL query failed: \" + sql + \" Database error \" + str(e) )\n",
    "\n",
    "athen_result_df"
   ]
  },
  {
   "cell_type": "markdown",
   "id": "ad5b93e7-14c8-4fff-ab60-ded874d4e097",
   "metadata": {},
   "source": [
    "## Image Visualization "
   ]
  },
  {
   "cell_type": "code",
   "execution_count": null,
   "id": "f04cc861-4aad-4e36-bebb-df58eaa8b617",
   "metadata": {
    "tags": []
   },
   "outputs": [],
   "source": [
    "import itk\n",
    "from itkwidgets import view\n",
    "logging.getLogger('AHItoDICOMInterface').setLevel(logging.CRITICAL)\n",
    "import warnings\n",
    "warnings.filterwarnings('ignore')\n",
    "\n",
    "from AHItoDICOMInterface.AHItoDICOM import AHItoDICOM\n",
    "helper = AHItoDICOM()\n",
    "instances = helper.DICOMizeImageSet(datastore_id=datastoreId , image_set_id=next(iter(imageSetIds)))"
   ]
  },
  {
   "cell_type": "code",
   "execution_count": null,
   "id": "de97c284-0f26-43a3-baa4-dc80eee0dd2b",
   "metadata": {
    "tags": []
   },
   "outputs": [],
   "source": [
    "img = itk.image_view_from_array([ins.pixel_array for ins in instances])\n",
    "viewer = view(img)\n",
    "viewer.set_image_gradient_opacity(0.5)"
   ]
  },
  {
   "cell_type": "code",
   "execution_count": null,
   "id": "7e2f12be-5760-4a64-b62b-b377b251b0e4",
   "metadata": {
    "tags": []
   },
   "outputs": [],
   "source": [
    "%store datastoreId\n",
    "%store imageSetIds"
   ]
  },
  {
   "cell_type": "markdown",
   "id": "08780a51-4abd-4b0a-8fd4-040ecfadfe69",
   "metadata": {},
   "source": [
    "### Clean Up"
   ]
  },
  {
   "cell_type": "code",
   "execution_count": null,
   "id": "8a2c80d7-1978-4d95-9783-6c808c17e632",
   "metadata": {},
   "outputs": [],
   "source": [
    "## S3 bucket\n",
    "s3 = boto3.client('s3')\n",
    "try:\n",
    "    objects=s3.list_objects(Bucket=bucket, Prefix=dicom_header_prefix)\n",
    "    for object in objects['Contents']:\n",
    "        s3.delete_object(Bucket=bucket, Key=object['Key'])\n",
    "    s3.delete_object(Bucket=bucket, Key=dicom_header_prefix)\n",
    "    objects=s3.list_objects(Bucket=bucket, Prefix=ahi_input_prefix)\n",
    "    for object in objects['Contents']:\n",
    "        s3.delete_object(Bucket=bucket, Key=object['Key'])\n",
    "    s3.delete_object(Bucket=bucket, Key=ahi_input_prefix)\n",
    "    objects=s3.list_objects(Bucket=bucket, Prefix=ahi_output_prefix)\n",
    "    for object in objects['Contents']:\n",
    "        s3.delete_object(Bucket=bucket, Key=object['Key'])\n",
    "    s3.delete_object(Bucket=bucket, Key=ahi_output_prefix)\n",
    "except ClientError  as e:\n",
    "    logging.error(\n",
    "        \"Couldn't delete S3 folder %s. Here's why: %s: %s\", name, err.response['Error']['Code'], err.response['Error']['Message'])\n",
    "    raise\n",
    "\n",
    "\n",
    "## Glue Crawler and Database\n",
    "try:\n",
    "    glue_client.delete_database(Name=glue_database_name)\n",
    "    glue_client.delete_crawler(Name=glue_crawler_name)\n",
    "except ClientError as err:\n",
    "    logging.error(\n",
    "        \"Couldn't delete database and crawler %s. Here's why: %s: %s\", name, err.response['Error']['Code'], err.response['Error']['Message'])\n",
    "    raise\n",
    "\n",
    "# ## AHI Datastore images\n",
    "# for s in imageSetIds.keys():\n",
    "#     medicalimaging.deleteImageSet(datastoreId, s)\n",
    "# # medicalimaging.deleteDatastore(datastoreId)\n"
   ]
  }
 ],
 "metadata": {
  "availableInstances": [
   {
    "_defaultOrder": 0,
    "_isFastLaunch": true,
    "category": "General purpose",
    "gpuNum": 0,
    "hideHardwareSpecs": false,
    "memoryGiB": 4,
    "name": "ml.t3.medium",
    "vcpuNum": 2
   },
   {
    "_defaultOrder": 1,
    "_isFastLaunch": false,
    "category": "General purpose",
    "gpuNum": 0,
    "hideHardwareSpecs": false,
    "memoryGiB": 8,
    "name": "ml.t3.large",
    "vcpuNum": 2
   },
   {
    "_defaultOrder": 2,
    "_isFastLaunch": false,
    "category": "General purpose",
    "gpuNum": 0,
    "hideHardwareSpecs": false,
    "memoryGiB": 16,
    "name": "ml.t3.xlarge",
    "vcpuNum": 4
   },
   {
    "_defaultOrder": 3,
    "_isFastLaunch": false,
    "category": "General purpose",
    "gpuNum": 0,
    "hideHardwareSpecs": false,
    "memoryGiB": 32,
    "name": "ml.t3.2xlarge",
    "vcpuNum": 8
   },
   {
    "_defaultOrder": 4,
    "_isFastLaunch": true,
    "category": "General purpose",
    "gpuNum": 0,
    "hideHardwareSpecs": false,
    "memoryGiB": 8,
    "name": "ml.m5.large",
    "vcpuNum": 2
   },
   {
    "_defaultOrder": 5,
    "_isFastLaunch": false,
    "category": "General purpose",
    "gpuNum": 0,
    "hideHardwareSpecs": false,
    "memoryGiB": 16,
    "name": "ml.m5.xlarge",
    "vcpuNum": 4
   },
   {
    "_defaultOrder": 6,
    "_isFastLaunch": false,
    "category": "General purpose",
    "gpuNum": 0,
    "hideHardwareSpecs": false,
    "memoryGiB": 32,
    "name": "ml.m5.2xlarge",
    "vcpuNum": 8
   },
   {
    "_defaultOrder": 7,
    "_isFastLaunch": false,
    "category": "General purpose",
    "gpuNum": 0,
    "hideHardwareSpecs": false,
    "memoryGiB": 64,
    "name": "ml.m5.4xlarge",
    "vcpuNum": 16
   },
   {
    "_defaultOrder": 8,
    "_isFastLaunch": false,
    "category": "General purpose",
    "gpuNum": 0,
    "hideHardwareSpecs": false,
    "memoryGiB": 128,
    "name": "ml.m5.8xlarge",
    "vcpuNum": 32
   },
   {
    "_defaultOrder": 9,
    "_isFastLaunch": false,
    "category": "General purpose",
    "gpuNum": 0,
    "hideHardwareSpecs": false,
    "memoryGiB": 192,
    "name": "ml.m5.12xlarge",
    "vcpuNum": 48
   },
   {
    "_defaultOrder": 10,
    "_isFastLaunch": false,
    "category": "General purpose",
    "gpuNum": 0,
    "hideHardwareSpecs": false,
    "memoryGiB": 256,
    "name": "ml.m5.16xlarge",
    "vcpuNum": 64
   },
   {
    "_defaultOrder": 11,
    "_isFastLaunch": false,
    "category": "General purpose",
    "gpuNum": 0,
    "hideHardwareSpecs": false,
    "memoryGiB": 384,
    "name": "ml.m5.24xlarge",
    "vcpuNum": 96
   },
   {
    "_defaultOrder": 12,
    "_isFastLaunch": false,
    "category": "General purpose",
    "gpuNum": 0,
    "hideHardwareSpecs": false,
    "memoryGiB": 8,
    "name": "ml.m5d.large",
    "vcpuNum": 2
   },
   {
    "_defaultOrder": 13,
    "_isFastLaunch": false,
    "category": "General purpose",
    "gpuNum": 0,
    "hideHardwareSpecs": false,
    "memoryGiB": 16,
    "name": "ml.m5d.xlarge",
    "vcpuNum": 4
   },
   {
    "_defaultOrder": 14,
    "_isFastLaunch": false,
    "category": "General purpose",
    "gpuNum": 0,
    "hideHardwareSpecs": false,
    "memoryGiB": 32,
    "name": "ml.m5d.2xlarge",
    "vcpuNum": 8
   },
   {
    "_defaultOrder": 15,
    "_isFastLaunch": false,
    "category": "General purpose",
    "gpuNum": 0,
    "hideHardwareSpecs": false,
    "memoryGiB": 64,
    "name": "ml.m5d.4xlarge",
    "vcpuNum": 16
   },
   {
    "_defaultOrder": 16,
    "_isFastLaunch": false,
    "category": "General purpose",
    "gpuNum": 0,
    "hideHardwareSpecs": false,
    "memoryGiB": 128,
    "name": "ml.m5d.8xlarge",
    "vcpuNum": 32
   },
   {
    "_defaultOrder": 17,
    "_isFastLaunch": false,
    "category": "General purpose",
    "gpuNum": 0,
    "hideHardwareSpecs": false,
    "memoryGiB": 192,
    "name": "ml.m5d.12xlarge",
    "vcpuNum": 48
   },
   {
    "_defaultOrder": 18,
    "_isFastLaunch": false,
    "category": "General purpose",
    "gpuNum": 0,
    "hideHardwareSpecs": false,
    "memoryGiB": 256,
    "name": "ml.m5d.16xlarge",
    "vcpuNum": 64
   },
   {
    "_defaultOrder": 19,
    "_isFastLaunch": false,
    "category": "General purpose",
    "gpuNum": 0,
    "hideHardwareSpecs": false,
    "memoryGiB": 384,
    "name": "ml.m5d.24xlarge",
    "vcpuNum": 96
   },
   {
    "_defaultOrder": 20,
    "_isFastLaunch": false,
    "category": "General purpose",
    "gpuNum": 0,
    "hideHardwareSpecs": true,
    "memoryGiB": 0,
    "name": "ml.geospatial.interactive",
    "supportedImageNames": [
     "sagemaker-geospatial-v1-0"
    ],
    "vcpuNum": 0
   },
   {
    "_defaultOrder": 21,
    "_isFastLaunch": true,
    "category": "Compute optimized",
    "gpuNum": 0,
    "hideHardwareSpecs": false,
    "memoryGiB": 4,
    "name": "ml.c5.large",
    "vcpuNum": 2
   },
   {
    "_defaultOrder": 22,
    "_isFastLaunch": false,
    "category": "Compute optimized",
    "gpuNum": 0,
    "hideHardwareSpecs": false,
    "memoryGiB": 8,
    "name": "ml.c5.xlarge",
    "vcpuNum": 4
   },
   {
    "_defaultOrder": 23,
    "_isFastLaunch": false,
    "category": "Compute optimized",
    "gpuNum": 0,
    "hideHardwareSpecs": false,
    "memoryGiB": 16,
    "name": "ml.c5.2xlarge",
    "vcpuNum": 8
   },
   {
    "_defaultOrder": 24,
    "_isFastLaunch": false,
    "category": "Compute optimized",
    "gpuNum": 0,
    "hideHardwareSpecs": false,
    "memoryGiB": 32,
    "name": "ml.c5.4xlarge",
    "vcpuNum": 16
   },
   {
    "_defaultOrder": 25,
    "_isFastLaunch": false,
    "category": "Compute optimized",
    "gpuNum": 0,
    "hideHardwareSpecs": false,
    "memoryGiB": 72,
    "name": "ml.c5.9xlarge",
    "vcpuNum": 36
   },
   {
    "_defaultOrder": 26,
    "_isFastLaunch": false,
    "category": "Compute optimized",
    "gpuNum": 0,
    "hideHardwareSpecs": false,
    "memoryGiB": 96,
    "name": "ml.c5.12xlarge",
    "vcpuNum": 48
   },
   {
    "_defaultOrder": 27,
    "_isFastLaunch": false,
    "category": "Compute optimized",
    "gpuNum": 0,
    "hideHardwareSpecs": false,
    "memoryGiB": 144,
    "name": "ml.c5.18xlarge",
    "vcpuNum": 72
   },
   {
    "_defaultOrder": 28,
    "_isFastLaunch": false,
    "category": "Compute optimized",
    "gpuNum": 0,
    "hideHardwareSpecs": false,
    "memoryGiB": 192,
    "name": "ml.c5.24xlarge",
    "vcpuNum": 96
   },
   {
    "_defaultOrder": 29,
    "_isFastLaunch": true,
    "category": "Accelerated computing",
    "gpuNum": 1,
    "hideHardwareSpecs": false,
    "memoryGiB": 16,
    "name": "ml.g4dn.xlarge",
    "vcpuNum": 4
   },
   {
    "_defaultOrder": 30,
    "_isFastLaunch": false,
    "category": "Accelerated computing",
    "gpuNum": 1,
    "hideHardwareSpecs": false,
    "memoryGiB": 32,
    "name": "ml.g4dn.2xlarge",
    "vcpuNum": 8
   },
   {
    "_defaultOrder": 31,
    "_isFastLaunch": false,
    "category": "Accelerated computing",
    "gpuNum": 1,
    "hideHardwareSpecs": false,
    "memoryGiB": 64,
    "name": "ml.g4dn.4xlarge",
    "vcpuNum": 16
   },
   {
    "_defaultOrder": 32,
    "_isFastLaunch": false,
    "category": "Accelerated computing",
    "gpuNum": 1,
    "hideHardwareSpecs": false,
    "memoryGiB": 128,
    "name": "ml.g4dn.8xlarge",
    "vcpuNum": 32
   },
   {
    "_defaultOrder": 33,
    "_isFastLaunch": false,
    "category": "Accelerated computing",
    "gpuNum": 4,
    "hideHardwareSpecs": false,
    "memoryGiB": 192,
    "name": "ml.g4dn.12xlarge",
    "vcpuNum": 48
   },
   {
    "_defaultOrder": 34,
    "_isFastLaunch": false,
    "category": "Accelerated computing",
    "gpuNum": 1,
    "hideHardwareSpecs": false,
    "memoryGiB": 256,
    "name": "ml.g4dn.16xlarge",
    "vcpuNum": 64
   },
   {
    "_defaultOrder": 35,
    "_isFastLaunch": false,
    "category": "Accelerated computing",
    "gpuNum": 1,
    "hideHardwareSpecs": false,
    "memoryGiB": 61,
    "name": "ml.p3.2xlarge",
    "vcpuNum": 8
   },
   {
    "_defaultOrder": 36,
    "_isFastLaunch": false,
    "category": "Accelerated computing",
    "gpuNum": 4,
    "hideHardwareSpecs": false,
    "memoryGiB": 244,
    "name": "ml.p3.8xlarge",
    "vcpuNum": 32
   },
   {
    "_defaultOrder": 37,
    "_isFastLaunch": false,
    "category": "Accelerated computing",
    "gpuNum": 8,
    "hideHardwareSpecs": false,
    "memoryGiB": 488,
    "name": "ml.p3.16xlarge",
    "vcpuNum": 64
   },
   {
    "_defaultOrder": 38,
    "_isFastLaunch": false,
    "category": "Accelerated computing",
    "gpuNum": 8,
    "hideHardwareSpecs": false,
    "memoryGiB": 768,
    "name": "ml.p3dn.24xlarge",
    "vcpuNum": 96
   },
   {
    "_defaultOrder": 39,
    "_isFastLaunch": false,
    "category": "Memory Optimized",
    "gpuNum": 0,
    "hideHardwareSpecs": false,
    "memoryGiB": 16,
    "name": "ml.r5.large",
    "vcpuNum": 2
   },
   {
    "_defaultOrder": 40,
    "_isFastLaunch": false,
    "category": "Memory Optimized",
    "gpuNum": 0,
    "hideHardwareSpecs": false,
    "memoryGiB": 32,
    "name": "ml.r5.xlarge",
    "vcpuNum": 4
   },
   {
    "_defaultOrder": 41,
    "_isFastLaunch": false,
    "category": "Memory Optimized",
    "gpuNum": 0,
    "hideHardwareSpecs": false,
    "memoryGiB": 64,
    "name": "ml.r5.2xlarge",
    "vcpuNum": 8
   },
   {
    "_defaultOrder": 42,
    "_isFastLaunch": false,
    "category": "Memory Optimized",
    "gpuNum": 0,
    "hideHardwareSpecs": false,
    "memoryGiB": 128,
    "name": "ml.r5.4xlarge",
    "vcpuNum": 16
   },
   {
    "_defaultOrder": 43,
    "_isFastLaunch": false,
    "category": "Memory Optimized",
    "gpuNum": 0,
    "hideHardwareSpecs": false,
    "memoryGiB": 256,
    "name": "ml.r5.8xlarge",
    "vcpuNum": 32
   },
   {
    "_defaultOrder": 44,
    "_isFastLaunch": false,
    "category": "Memory Optimized",
    "gpuNum": 0,
    "hideHardwareSpecs": false,
    "memoryGiB": 384,
    "name": "ml.r5.12xlarge",
    "vcpuNum": 48
   },
   {
    "_defaultOrder": 45,
    "_isFastLaunch": false,
    "category": "Memory Optimized",
    "gpuNum": 0,
    "hideHardwareSpecs": false,
    "memoryGiB": 512,
    "name": "ml.r5.16xlarge",
    "vcpuNum": 64
   },
   {
    "_defaultOrder": 46,
    "_isFastLaunch": false,
    "category": "Memory Optimized",
    "gpuNum": 0,
    "hideHardwareSpecs": false,
    "memoryGiB": 768,
    "name": "ml.r5.24xlarge",
    "vcpuNum": 96
   },
   {
    "_defaultOrder": 47,
    "_isFastLaunch": false,
    "category": "Accelerated computing",
    "gpuNum": 1,
    "hideHardwareSpecs": false,
    "memoryGiB": 16,
    "name": "ml.g5.xlarge",
    "vcpuNum": 4
   },
   {
    "_defaultOrder": 48,
    "_isFastLaunch": false,
    "category": "Accelerated computing",
    "gpuNum": 1,
    "hideHardwareSpecs": false,
    "memoryGiB": 32,
    "name": "ml.g5.2xlarge",
    "vcpuNum": 8
   },
   {
    "_defaultOrder": 49,
    "_isFastLaunch": false,
    "category": "Accelerated computing",
    "gpuNum": 1,
    "hideHardwareSpecs": false,
    "memoryGiB": 64,
    "name": "ml.g5.4xlarge",
    "vcpuNum": 16
   },
   {
    "_defaultOrder": 50,
    "_isFastLaunch": false,
    "category": "Accelerated computing",
    "gpuNum": 1,
    "hideHardwareSpecs": false,
    "memoryGiB": 128,
    "name": "ml.g5.8xlarge",
    "vcpuNum": 32
   },
   {
    "_defaultOrder": 51,
    "_isFastLaunch": false,
    "category": "Accelerated computing",
    "gpuNum": 1,
    "hideHardwareSpecs": false,
    "memoryGiB": 256,
    "name": "ml.g5.16xlarge",
    "vcpuNum": 64
   },
   {
    "_defaultOrder": 52,
    "_isFastLaunch": false,
    "category": "Accelerated computing",
    "gpuNum": 4,
    "hideHardwareSpecs": false,
    "memoryGiB": 192,
    "name": "ml.g5.12xlarge",
    "vcpuNum": 48
   },
   {
    "_defaultOrder": 53,
    "_isFastLaunch": false,
    "category": "Accelerated computing",
    "gpuNum": 4,
    "hideHardwareSpecs": false,
    "memoryGiB": 384,
    "name": "ml.g5.24xlarge",
    "vcpuNum": 96
   },
   {
    "_defaultOrder": 54,
    "_isFastLaunch": false,
    "category": "Accelerated computing",
    "gpuNum": 8,
    "hideHardwareSpecs": false,
    "memoryGiB": 768,
    "name": "ml.g5.48xlarge",
    "vcpuNum": 192
   },
   {
    "_defaultOrder": 55,
    "_isFastLaunch": false,
    "category": "Accelerated computing",
    "gpuNum": 8,
    "hideHardwareSpecs": false,
    "memoryGiB": 1152,
    "name": "ml.p4d.24xlarge",
    "vcpuNum": 96
   },
   {
    "_defaultOrder": 56,
    "_isFastLaunch": false,
    "category": "Accelerated computing",
    "gpuNum": 8,
    "hideHardwareSpecs": false,
    "memoryGiB": 1152,
    "name": "ml.p4de.24xlarge",
    "vcpuNum": 96
   }
  ],
  "instance_type": "ml.t3.medium",
  "kernelspec": {
   "display_name": "conda_python3",
   "language": "python",
   "name": "conda_python3"
  },
  "language_info": {
   "codemirror_mode": {
    "name": "ipython",
    "version": 3
   },
   "file_extension": ".py",
   "mimetype": "text/x-python",
   "name": "python",
   "nbconvert_exporter": "python",
   "pygments_lexer": "ipython3",
   "version": "3.10.13"
  }
 },
 "nbformat": 4,
 "nbformat_minor": 5
}
